{
 "cells": [
  {
   "cell_type": "markdown",
   "metadata": {},
   "source": [
    "    *************************** CASE STUDY HEALTHCARE DATA ANALYSIS (PART 1) ***********************************"
   ]
  },
  {
   "cell_type": "markdown",
   "metadata": {},
   "source": [
    "    PART 1: Identify providers that overcharge for certain procedures or regions where procedures are too expensive"
   ]
  },
  {
   "cell_type": "markdown",
   "metadata": {},
   "source": [
    "    #1. Import libraries and input"
   ]
  },
  {
   "cell_type": "code",
   "execution_count": 1,
   "metadata": {
    "collapsed": true
   },
   "outputs": [],
   "source": [
    "import pandas as pd\n",
    "import numpy as np"
   ]
  },
  {
   "cell_type": "code",
   "execution_count": 2,
   "metadata": {
    "collapsed": true
   },
   "outputs": [],
   "source": [
    "Medicare_Charge_In = pd.read_csv('Medicare_Charge_Inpatient_DRG100_DRG_Summary_by_DRG_FY2011.csv')\n",
    "Medicare_Charge_Out = pd.read_csv('Medicare_Charge_Outpatient_APC30_Summary_by_APC_CY2011.csv')\n",
    "Medicare_Provider_Charge_In = pd.read_csv('Medicare_Provider_Charge_Inpatient_DRG100_FY2011.csv')\n",
    "Medicare_Provider_Charge_Out = pd.read_csv('Medicare_Provider_Charge_Outpatient_APC30_CY2011_v2.csv')\n",
    "Patient_history = pd.read_csv('Patient_history_samp.csv')\n",
    "Review_patient = pd.read_csv('Review_patient_history_samp.csv')\n",
    "Rreview_transaction = pd.read_csv('Rreview_transaction_coo.csv')\n",
    "Transaction= pd.read_csv('Transaction_coo.csv')"
   ]
  },
  {
   "cell_type": "markdown",
   "metadata": {},
   "source": [
    "    #2. Data Analysis and Data Preparation"
   ]
  },
  {
   "cell_type": "markdown",
   "metadata": {},
   "source": [
    "    The Data Analysis will be based on financial summary data from 2011 that were made availible by the centers of  Medicare and Medicaid Services\n",
    "    \n",
    "    Medicare_Provider_Charge_Inpatient_DRG100_FY2011.csv\n",
    "    Medicare_Provider_Charge_Outpatient_APC30_CY2011_v2.csv"
   ]
  },
  {
   "cell_type": "code",
   "execution_count": 3,
   "metadata": {},
   "outputs": [
    {
     "data": {
      "text/plain": [
       "DRG Definition                                False\n",
       "Provider Id                                   False\n",
       "Provider Name                                 False\n",
       "Provider Street Address                       False\n",
       "Provider City                                 False\n",
       "Provider State                                False\n",
       "Provider Zip Code                             False\n",
       "Hospital Referral Region (HRR) Description    False\n",
       "Total Discharges                              False\n",
       "Average Covered Charges                       False\n",
       "Average Total Payments                        False\n",
       "Average Medicare Payments                     False\n",
       "dtype: bool"
      ]
     },
     "execution_count": 3,
     "metadata": {},
     "output_type": "execute_result"
    }
   ],
   "source": [
    "Medicare_Provider_Charge_In.isnull().any()"
   ]
  },
  {
   "cell_type": "code",
   "execution_count": 4,
   "metadata": {},
   "outputs": [
    {
     "data": {
      "text/plain": [
       "APC                                           False\n",
       "Provider Id                                   False\n",
       "Provider Name                                 False\n",
       "Provider Street Address                       False\n",
       "Provider City                                 False\n",
       "Provider State                                False\n",
       "Provider Zip Code                             False\n",
       "Hospital Referral Region (HRR) Description    False\n",
       "Outpatient Services                           False\n",
       "Average  Estimated Submitted Charges          False\n",
       "Average Total Payments                        False\n",
       "dtype: bool"
      ]
     },
     "execution_count": 4,
     "metadata": {},
     "output_type": "execute_result"
    }
   ],
   "source": [
    "Medicare_Provider_Charge_Out.isnull().any()"
   ]
  },
  {
   "cell_type": "markdown",
   "metadata": {},
   "source": [
    "    #3. PART1A - Highest Cost Variation"
   ]
  },
  {
   "cell_type": "markdown",
   "metadata": {},
   "source": [
    "    The Highest cost variation can be calculated by dividing the standard deviation by the mean.\n",
    "    \n",
    "    The cost variation of OutpatientsAPCs overtakes the cost variation of InpatientsDRG.\n",
    "    The 3 Highest cost variation (not the highest cost of procedure) can be seen in Outpatients for follwing APCS-\n",
    "    \n",
    "    0604 - Level 1 Hospital Clinic Visits\n",
    "    0698 - Level II Eye Tests & Treatments\n",
    "    0019 - Level I Excision/ Biopsy"
   ]
  },
  {
   "cell_type": "code",
   "execution_count": 5,
   "metadata": {
    "collapsed": true
   },
   "outputs": [],
   "source": [
    "# Finding Standard deviation and mean for InpatientDRG\n",
    "Medicare_IN = pd.concat(\n",
    "[Medicare_Provider_Charge_In[['DRG Definition','Average Covered Charges']].groupby(['DRG Definition']).agg('std').add_suffix('_std'),\n",
    " Medicare_Provider_Charge_In[['DRG Definition','Average Covered Charges']].groupby(['DRG Definition']).agg('mean').add_suffix('_avg')]\n",
    " , axis =1)"
   ]
  },
  {
   "cell_type": "code",
   "execution_count": 6,
   "metadata": {
    "collapsed": true
   },
   "outputs": [],
   "source": [
    "#Coefficient of Variance, the standard deviation divided by the mean\n",
    "Medicare_IN['Variation'] = Medicare_IN.apply(lambda x: x['Average Covered Charges_std']/x['Average Covered Charges_avg'],axis =1)"
   ]
  },
  {
   "cell_type": "code",
   "execution_count": 7,
   "metadata": {},
   "outputs": [
    {
     "data": {
      "text/plain": [
       "DRG Definition\n",
       "885 - PSYCHOSES                                                              0.717796\n",
       "897 - ALCOHOL/DRUG ABUSE OR DEPENDENCE W/O REHABILITATION THERAPY W/O MCC    0.633967\n",
       "917 - POISONING & TOXIC EFFECTS OF DRUGS W MCC                               0.613150\n",
       "Name: Variation, dtype: float64"
      ]
     },
     "execution_count": 7,
     "metadata": {},
     "output_type": "execute_result"
    }
   ],
   "source": [
    "Medicare_IN['Variation'].nlargest(3)"
   ]
  },
  {
   "cell_type": "code",
   "execution_count": 8,
   "metadata": {
    "collapsed": true
   },
   "outputs": [],
   "source": [
    "# Finding Standard deviation and mean for OutpatientDRG\n",
    "Medicare_OUT = pd.concat(\n",
    "[Medicare_Provider_Charge_Out[[\"APC\",\"Average  Estimated Submitted Charges\"]].groupby(['APC']).agg('std').add_suffix('_std'),\n",
    "Medicare_Provider_Charge_Out[[\"APC\",\"Average  Estimated Submitted Charges\"]].groupby(['APC']).agg('mean').add_suffix('_avg')],\n",
    "axis =1)"
   ]
  },
  {
   "cell_type": "code",
   "execution_count": 9,
   "metadata": {
    "collapsed": true
   },
   "outputs": [],
   "source": [
    "#Coefficient of Variance, the standard deviation divided by the mean\n",
    "Medicare_OUT['Variation'] = Medicare_OUT.apply(lambda x: x['Average  Estimated Submitted Charges_std']/x['Average  Estimated Submitted Charges_avg'],axis =1)"
   ]
  },
  {
   "cell_type": "code",
   "execution_count": 10,
   "metadata": {},
   "outputs": [
    {
     "data": {
      "text/plain": [
       "APC\n",
       "0604 - Level 1 Hospital Clinic Visits     1.385150\n",
       "0698 - Level II Eye Tests & Treatments    1.310444\n",
       "0019 - Level I Excision/ Biopsy           1.229897\n",
       "Name: Variation, dtype: float64"
      ]
     },
     "execution_count": 10,
     "metadata": {},
     "output_type": "execute_result"
    }
   ],
   "source": [
    "Medicare_OUT['Variation'].nlargest(3)"
   ]
  },
  {
   "cell_type": "markdown",
   "metadata": {},
   "source": [
    "    #4. PART1B - Highest Cost Claims by provider"
   ]
  },
  {
   "cell_type": "markdown",
   "metadata": {},
   "source": [
    "    The cost claims of InPatientsDRG visbibly overtakes the cost claims of OutpatientsAPC.\n",
    "    The 3 Highest cost claims can be seen for follwing Providers-\n",
    "    \n",
    "    BAYONNE HOSPITAL CENTER       - NJ - Newark\n",
    "    CROZER CHESTER MEDICAL CENTER - PA - Philadelphia\n",
    "    STANFORD HOSPITAL             - CA - San Mateo County\n",
    "    "
   ]
  },
  {
   "cell_type": "markdown",
   "metadata": {},
   "source": [
    "#### FOR InpatientDRG"
   ]
  },
  {
   "cell_type": "code",
   "execution_count": 11,
   "metadata": {},
   "outputs": [
    {
     "data": {
      "text/plain": [
       "Index([u'DRG Definition', u'Provider Id', u'Provider Name',\n",
       "       u'Provider Street Address', u'Provider City', u'Provider State',\n",
       "       u'Provider Zip Code', u'Hospital Referral Region (HRR) Description',\n",
       "       u'Total Discharges', u'Average Covered Charges',\n",
       "       u'Average Total Payments', u'Average Medicare Payments'],\n",
       "      dtype='object')"
      ]
     },
     "execution_count": 11,
     "metadata": {},
     "output_type": "execute_result"
    }
   ],
   "source": [
    "Medicare_Provider_Charge_In.columns"
   ]
  },
  {
   "cell_type": "code",
   "execution_count": 12,
   "metadata": {
    "collapsed": true
   },
   "outputs": [],
   "source": [
    "#Finding the max of Average Covered Charges for InpatientDRG\n",
    "Medicare_IN2 = pd.DataFrame(Medicare_Provider_Charge_In[['DRG Definition', 'Average Covered Charges']].groupby(['DRG Definition']).agg('max').add_suffix('_max'))"
   ]
  },
  {
   "cell_type": "code",
   "execution_count": 13,
   "metadata": {
    "collapsed": true
   },
   "outputs": [],
   "source": [
    "Medicare_IN2 = Medicare_IN2.reset_index()"
   ]
  },
  {
   "cell_type": "code",
   "execution_count": 14,
   "metadata": {
    "collapsed": true
   },
   "outputs": [],
   "source": [
    "#Merging the max value with InpatientDRG dataset\n",
    "Medicare_IN_MERGE = Medicare_Provider_Charge_In.merge(Medicare_IN2,on='DRG Definition', how='left')"
   ]
  },
  {
   "cell_type": "code",
   "execution_count": 15,
   "metadata": {
    "collapsed": true
   },
   "outputs": [],
   "source": [
    "Medicare_IN_MERGE.to_csv('Medicare_IN_MERGE.csv')"
   ]
  },
  {
   "cell_type": "code",
   "execution_count": 16,
   "metadata": {
    "collapsed": true
   },
   "outputs": [],
   "source": [
    "#function to get the max indicator\n",
    "def difftyp(Medicare_IN_MERGE):\n",
    "    if ((Medicare_IN_MERGE['Average Covered Charges_max']  == Medicare_IN_MERGE['Average Covered Charges'])):\n",
    "        return 1\n",
    "    else:\n",
    "        return 0"
   ]
  },
  {
   "cell_type": "code",
   "execution_count": 17,
   "metadata": {
    "collapsed": true
   },
   "outputs": [],
   "source": [
    "Medicare_IN_MERGE['MAX'] = Medicare_IN_MERGE.apply(difftyp, axis=1)"
   ]
  },
  {
   "cell_type": "code",
   "execution_count": 18,
   "metadata": {
    "collapsed": true
   },
   "outputs": [],
   "source": [
    "#getting number of times a provider has charge max value for procedure\n",
    "Medicare_IN_MAXCALC_PROVIDER= pd.DataFrame(Medicare_IN_MERGE[['Provider Name','MAX']].groupby(['Provider Name']).agg('sum').add_suffix('_sum'),)"
   ]
  },
  {
   "cell_type": "code",
   "execution_count": 19,
   "metadata": {
    "collapsed": true
   },
   "outputs": [],
   "source": [
    "#getting number of times a region has charge max value for procedure\n",
    "Medicare_IN_MAXCALC_REGION= pd.DataFrame(Medicare_IN_MERGE[['Hospital Referral Region (HRR) Description','MAX']].groupby(['Hospital Referral Region (HRR) Description']).agg('sum').add_suffix('_sum'),)"
   ]
  },
  {
   "cell_type": "code",
   "execution_count": 20,
   "metadata": {},
   "outputs": [
    {
     "data": {
      "text/plain": [
       "Provider Name\n",
       "BAYONNE HOSPITAL CENTER          23\n",
       "CROZER CHESTER MEDICAL CENTER    11\n",
       "STANFORD HOSPITAL                10\n",
       "Name: MAX_sum, dtype: int64"
      ]
     },
     "execution_count": 20,
     "metadata": {},
     "output_type": "execute_result"
    }
   ],
   "source": [
    "Medicare_IN_MAXCALC_PROVIDER['MAX_sum'].nlargest(3)"
   ]
  },
  {
   "cell_type": "code",
   "execution_count": 105,
   "metadata": {},
   "outputs": [
    {
     "data": {
      "text/plain": [
       "Hospital Referral Region (HRR) Description\n",
       "NJ - Newark                 25\n",
       "PA - Philadelphia           23\n",
       "CA - San Mateo County       13\n",
       "CA - Contra Costa County     6\n",
       "CA - Alameda County          5\n",
       "Name: MAX_sum, dtype: int64"
      ]
     },
     "execution_count": 105,
     "metadata": {},
     "output_type": "execute_result"
    }
   ],
   "source": [
    "Medicare_IN_MAXCALC_REGION['MAX_sum'].nlargest(5)"
   ]
  },
  {
   "cell_type": "markdown",
   "metadata": {},
   "source": [
    "#### FOR OutpatientAPC"
   ]
  },
  {
   "cell_type": "code",
   "execution_count": 22,
   "metadata": {},
   "outputs": [
    {
     "data": {
      "text/plain": [
       "Index([u'APC', u'Provider Id', u'Provider Name', u'Provider Street Address',\n",
       "       u'Provider City', u'Provider State', u'Provider Zip Code',\n",
       "       u'Hospital Referral Region (HRR) Description', u'Outpatient Services',\n",
       "       u'Average  Estimated Submitted Charges', u'Average Total Payments'],\n",
       "      dtype='object')"
      ]
     },
     "execution_count": 22,
     "metadata": {},
     "output_type": "execute_result"
    }
   ],
   "source": [
    "Medicare_Provider_Charge_Out.columns"
   ]
  },
  {
   "cell_type": "code",
   "execution_count": 23,
   "metadata": {
    "collapsed": true
   },
   "outputs": [],
   "source": [
    "#Finding the max of Average Covered Charges for OutPatientAPC\n",
    "Medicare_OUT2 = pd.DataFrame(Medicare_Provider_Charge_Out[['APC', 'Average  Estimated Submitted Charges']].groupby(['APC']).agg('max').add_suffix('_max'))"
   ]
  },
  {
   "cell_type": "code",
   "execution_count": 24,
   "metadata": {
    "collapsed": true
   },
   "outputs": [],
   "source": [
    "Medicare_OUT2 = Medicare_OUT2.reset_index()"
   ]
  },
  {
   "cell_type": "code",
   "execution_count": 25,
   "metadata": {
    "collapsed": true
   },
   "outputs": [],
   "source": [
    "#Merging the max value with InpatientDRG dataset\n",
    "Medicare_OUT_MERGE = Medicare_Provider_Charge_Out.merge(Medicare_OUT2,on='APC', how='left')"
   ]
  },
  {
   "cell_type": "code",
   "execution_count": 26,
   "metadata": {
    "collapsed": true
   },
   "outputs": [],
   "source": [
    "#function to get the max indicator\n",
    "def difftyp(Medicare_OUT_MERGE):\n",
    "    if ((Medicare_OUT_MERGE['Average  Estimated Submitted Charges_max']  == Medicare_OUT_MERGE['Average  Estimated Submitted Charges'])):\n",
    "        return 1\n",
    "    else:\n",
    "        return 0"
   ]
  },
  {
   "cell_type": "code",
   "execution_count": 27,
   "metadata": {
    "collapsed": true
   },
   "outputs": [],
   "source": [
    "Medicare_OUT_MERGE['MAX'] = Medicare_OUT_MERGE.apply(difftyp, axis=1)"
   ]
  },
  {
   "cell_type": "code",
   "execution_count": 28,
   "metadata": {
    "collapsed": true
   },
   "outputs": [],
   "source": [
    "#getting number of times a provider has charge max value for procedure\n",
    "Medicare_OUT_MAXCALC_PROVIDER= pd.DataFrame(Medicare_OUT_MERGE[['Provider Name','MAX']].groupby(['Provider Name']).agg('sum').add_suffix('_sum'),)"
   ]
  },
  {
   "cell_type": "code",
   "execution_count": 29,
   "metadata": {
    "collapsed": true
   },
   "outputs": [],
   "source": [
    "#getting number of times a region has charge max value for procedure\n",
    "Medicare_OUT_MAXCALC_REGION= pd.DataFrame(Medicare_OUT_MERGE[['Hospital Referral Region (HRR) Description','MAX']].groupby(['Hospital Referral Region (HRR) Description']).agg('sum').add_suffix('_sum'),)"
   ]
  },
  {
   "cell_type": "code",
   "execution_count": 106,
   "metadata": {},
   "outputs": [
    {
     "data": {
      "text/plain": [
       "Provider Name\n",
       "CAPITAL HEALTH MEDICAL CENTER - HOPEWELL    2\n",
       "COLUMBIA HOSPITAL                           2\n",
       "FORT WALTON BEACH MEDICAL CENTER            2\n",
       "BEVERLY HOSPITAL CORPORATION                1\n",
       "CENTINELA HOSPITAL MEDICAL CENTER           1\n",
       "Name: MAX_sum, dtype: int64"
      ]
     },
     "execution_count": 106,
     "metadata": {},
     "output_type": "execute_result"
    }
   ],
   "source": [
    "Medicare_OUT_MAXCALC_PROVIDER['MAX_sum'].nlargest(5)"
   ]
  },
  {
   "cell_type": "code",
   "execution_count": 31,
   "metadata": {},
   "outputs": [
    {
     "data": {
      "text/plain": [
       "Hospital Referral Region (HRR) Description\n",
       "PA - Philadelphia     5\n",
       "CA - Los Angeles      3\n",
       "CA - Orange County    2\n",
       "Name: MAX_sum, dtype: int64"
      ]
     },
     "execution_count": 31,
     "metadata": {},
     "output_type": "execute_result"
    }
   ],
   "source": [
    "Medicare_OUT_MAXCALC_REGION['MAX_sum'].nlargest(3)"
   ]
  },
  {
   "cell_type": "markdown",
   "metadata": {},
   "source": [
    "    #4. PART1C - Highest Cost Claims by Region"
   ]
  },
  {
   "cell_type": "markdown",
   "metadata": {
    "collapsed": true
   },
   "source": [
    "    Combining the counts of Inpatient and Outpatients Following are the 3 Highest cost claims by Region -\n",
    "    \n",
    "    Hospital Referral Region (HRR) Description\n",
    "    CA - Contra Costa County\n",
    "    CA - San Mateo County\n",
    "    CA - Santa Cruz"
   ]
  },
  {
   "cell_type": "markdown",
   "metadata": {},
   "source": [
    "#### FOR InpatientDRG"
   ]
  },
  {
   "cell_type": "code",
   "execution_count": 51,
   "metadata": {
    "collapsed": true
   },
   "outputs": [],
   "source": [
    "#Finding the mean of Average Covered Charges for InpatientDRG by DRG Defination and Region\n",
    "Medicare_IN_AGG = pd.DataFrame(Medicare_Provider_Charge_In[['DRG Definition', 'Hospital Referral Region (HRR) Description',  'Average Covered Charges']].groupby(['DRG Definition', 'Hospital Referral Region (HRR) Description']).agg('mean').add_suffix('_avg'))"
   ]
  },
  {
   "cell_type": "code",
   "execution_count": 52,
   "metadata": {
    "collapsed": true
   },
   "outputs": [],
   "source": [
    "Medicare_IN_AGG  = Medicare_IN_AGG.reset_index()"
   ]
  },
  {
   "cell_type": "code",
   "execution_count": 53,
   "metadata": {},
   "outputs": [
    {
     "data": {
      "text/html": [
       "<div>\n",
       "<style>\n",
       "    .dataframe thead tr:only-child th {\n",
       "        text-align: right;\n",
       "    }\n",
       "\n",
       "    .dataframe thead th {\n",
       "        text-align: left;\n",
       "    }\n",
       "\n",
       "    .dataframe tbody tr th {\n",
       "        vertical-align: top;\n",
       "    }\n",
       "</style>\n",
       "<table border=\"1\" class=\"dataframe\">\n",
       "  <thead>\n",
       "    <tr style=\"text-align: right;\">\n",
       "      <th></th>\n",
       "      <th>DRG Definition</th>\n",
       "      <th>Hospital Referral Region (HRR) Description</th>\n",
       "      <th>Average Covered Charges_avg</th>\n",
       "    </tr>\n",
       "  </thead>\n",
       "  <tbody>\n",
       "    <tr>\n",
       "      <th>0</th>\n",
       "      <td>039 - EXTRACRANIAL PROCEDURES W/O CC/MCC</td>\n",
       "      <td>AK - Anchorage</td>\n",
       "      <td>34805.130430</td>\n",
       "    </tr>\n",
       "    <tr>\n",
       "      <th>1</th>\n",
       "      <td>039 - EXTRACRANIAL PROCEDURES W/O CC/MCC</td>\n",
       "      <td>AL - Birmingham</td>\n",
       "      <td>40237.361538</td>\n",
       "    </tr>\n",
       "    <tr>\n",
       "      <th>2</th>\n",
       "      <td>039 - EXTRACRANIAL PROCEDURES W/O CC/MCC</td>\n",
       "      <td>AL - Dothan</td>\n",
       "      <td>36285.182905</td>\n",
       "    </tr>\n",
       "    <tr>\n",
       "      <th>3</th>\n",
       "      <td>039 - EXTRACRANIAL PROCEDURES W/O CC/MCC</td>\n",
       "      <td>AL - Huntsville</td>\n",
       "      <td>18878.955554</td>\n",
       "    </tr>\n",
       "    <tr>\n",
       "      <th>4</th>\n",
       "      <td>039 - EXTRACRANIAL PROCEDURES W/O CC/MCC</td>\n",
       "      <td>AL - Mobile</td>\n",
       "      <td>22802.270118</td>\n",
       "    </tr>\n",
       "  </tbody>\n",
       "</table>\n",
       "</div>"
      ],
      "text/plain": [
       "                             DRG Definition  \\\n",
       "0  039 - EXTRACRANIAL PROCEDURES W/O CC/MCC   \n",
       "1  039 - EXTRACRANIAL PROCEDURES W/O CC/MCC   \n",
       "2  039 - EXTRACRANIAL PROCEDURES W/O CC/MCC   \n",
       "3  039 - EXTRACRANIAL PROCEDURES W/O CC/MCC   \n",
       "4  039 - EXTRACRANIAL PROCEDURES W/O CC/MCC   \n",
       "\n",
       "  Hospital Referral Region (HRR) Description  Average Covered Charges_avg  \n",
       "0                             AK - Anchorage                 34805.130430  \n",
       "1                            AL - Birmingham                 40237.361538  \n",
       "2                                AL - Dothan                 36285.182905  \n",
       "3                            AL - Huntsville                 18878.955554  \n",
       "4                                AL - Mobile                 22802.270118  "
      ]
     },
     "execution_count": 53,
     "metadata": {},
     "output_type": "execute_result"
    }
   ],
   "source": [
    "Medicare_IN_AGG.head()"
   ]
  },
  {
   "cell_type": "code",
   "execution_count": 54,
   "metadata": {
    "collapsed": true
   },
   "outputs": [],
   "source": [
    "#Finding the max for InpatientDRG DRG Definition\n",
    "Medicare_IN_MAX = pd.DataFrame(Medicare_IN_AGG[['DRG Definition', 'Average Covered Charges_avg']].groupby(['DRG Definition']).agg('max').add_suffix('_max'))"
   ]
  },
  {
   "cell_type": "code",
   "execution_count": 55,
   "metadata": {
    "collapsed": true
   },
   "outputs": [],
   "source": [
    "Medicare_IN_MAX = Medicare_IN_MAX.reset_index()"
   ]
  },
  {
   "cell_type": "code",
   "execution_count": 56,
   "metadata": {},
   "outputs": [
    {
     "data": {
      "text/html": [
       "<div>\n",
       "<style>\n",
       "    .dataframe thead tr:only-child th {\n",
       "        text-align: right;\n",
       "    }\n",
       "\n",
       "    .dataframe thead th {\n",
       "        text-align: left;\n",
       "    }\n",
       "\n",
       "    .dataframe tbody tr th {\n",
       "        vertical-align: top;\n",
       "    }\n",
       "</style>\n",
       "<table border=\"1\" class=\"dataframe\">\n",
       "  <thead>\n",
       "    <tr style=\"text-align: right;\">\n",
       "      <th></th>\n",
       "      <th>DRG Definition</th>\n",
       "      <th>Average Covered Charges_avg_max</th>\n",
       "    </tr>\n",
       "  </thead>\n",
       "  <tbody>\n",
       "    <tr>\n",
       "      <th>0</th>\n",
       "      <td>039 - EXTRACRANIAL PROCEDURES W/O CC/MCC</td>\n",
       "      <td>105929.470600</td>\n",
       "    </tr>\n",
       "    <tr>\n",
       "      <th>1</th>\n",
       "      <td>057 - DEGENERATIVE NERVOUS SYSTEM DISORDERS W/...</td>\n",
       "      <td>148128.437500</td>\n",
       "    </tr>\n",
       "    <tr>\n",
       "      <th>2</th>\n",
       "      <td>064 - INTRACRANIAL HEMORRHAGE OR CEREBRAL INFA...</td>\n",
       "      <td>145720.057518</td>\n",
       "    </tr>\n",
       "    <tr>\n",
       "      <th>3</th>\n",
       "      <td>065 - INTRACRANIAL HEMORRHAGE OR CEREBRAL INFA...</td>\n",
       "      <td>73820.938782</td>\n",
       "    </tr>\n",
       "    <tr>\n",
       "      <th>4</th>\n",
       "      <td>066 - INTRACRANIAL HEMORRHAGE OR CEREBRAL INFA...</td>\n",
       "      <td>65418.983067</td>\n",
       "    </tr>\n",
       "  </tbody>\n",
       "</table>\n",
       "</div>"
      ],
      "text/plain": [
       "                                      DRG Definition  \\\n",
       "0           039 - EXTRACRANIAL PROCEDURES W/O CC/MCC   \n",
       "1  057 - DEGENERATIVE NERVOUS SYSTEM DISORDERS W/...   \n",
       "2  064 - INTRACRANIAL HEMORRHAGE OR CEREBRAL INFA...   \n",
       "3  065 - INTRACRANIAL HEMORRHAGE OR CEREBRAL INFA...   \n",
       "4  066 - INTRACRANIAL HEMORRHAGE OR CEREBRAL INFA...   \n",
       "\n",
       "   Average Covered Charges_avg_max  \n",
       "0                    105929.470600  \n",
       "1                    148128.437500  \n",
       "2                    145720.057518  \n",
       "3                     73820.938782  \n",
       "4                     65418.983067  "
      ]
     },
     "execution_count": 56,
     "metadata": {},
     "output_type": "execute_result"
    }
   ],
   "source": [
    "Medicare_IN_MAX.head()"
   ]
  },
  {
   "cell_type": "code",
   "execution_count": 57,
   "metadata": {
    "collapsed": true
   },
   "outputs": [],
   "source": [
    "#Merging The mean and max - will give side by side comparison of region having highest claims\n",
    "Medicare_IN_MERGE = Medicare_IN_AGG.merge(Medicare_IN_MAX,on='DRG Definition', how='left')"
   ]
  },
  {
   "cell_type": "code",
   "execution_count": 58,
   "metadata": {},
   "outputs": [
    {
     "data": {
      "text/html": [
       "<div>\n",
       "<style>\n",
       "    .dataframe thead tr:only-child th {\n",
       "        text-align: right;\n",
       "    }\n",
       "\n",
       "    .dataframe thead th {\n",
       "        text-align: left;\n",
       "    }\n",
       "\n",
       "    .dataframe tbody tr th {\n",
       "        vertical-align: top;\n",
       "    }\n",
       "</style>\n",
       "<table border=\"1\" class=\"dataframe\">\n",
       "  <thead>\n",
       "    <tr style=\"text-align: right;\">\n",
       "      <th></th>\n",
       "      <th>DRG Definition</th>\n",
       "      <th>Hospital Referral Region (HRR) Description</th>\n",
       "      <th>Average Covered Charges_avg</th>\n",
       "      <th>Average Covered Charges_avg_max</th>\n",
       "    </tr>\n",
       "  </thead>\n",
       "  <tbody>\n",
       "    <tr>\n",
       "      <th>0</th>\n",
       "      <td>039 - EXTRACRANIAL PROCEDURES W/O CC/MCC</td>\n",
       "      <td>AK - Anchorage</td>\n",
       "      <td>34805.130430</td>\n",
       "      <td>105929.4706</td>\n",
       "    </tr>\n",
       "    <tr>\n",
       "      <th>1</th>\n",
       "      <td>039 - EXTRACRANIAL PROCEDURES W/O CC/MCC</td>\n",
       "      <td>AL - Birmingham</td>\n",
       "      <td>40237.361538</td>\n",
       "      <td>105929.4706</td>\n",
       "    </tr>\n",
       "    <tr>\n",
       "      <th>2</th>\n",
       "      <td>039 - EXTRACRANIAL PROCEDURES W/O CC/MCC</td>\n",
       "      <td>AL - Dothan</td>\n",
       "      <td>36285.182905</td>\n",
       "      <td>105929.4706</td>\n",
       "    </tr>\n",
       "    <tr>\n",
       "      <th>3</th>\n",
       "      <td>039 - EXTRACRANIAL PROCEDURES W/O CC/MCC</td>\n",
       "      <td>AL - Huntsville</td>\n",
       "      <td>18878.955554</td>\n",
       "      <td>105929.4706</td>\n",
       "    </tr>\n",
       "    <tr>\n",
       "      <th>4</th>\n",
       "      <td>039 - EXTRACRANIAL PROCEDURES W/O CC/MCC</td>\n",
       "      <td>AL - Mobile</td>\n",
       "      <td>22802.270118</td>\n",
       "      <td>105929.4706</td>\n",
       "    </tr>\n",
       "  </tbody>\n",
       "</table>\n",
       "</div>"
      ],
      "text/plain": [
       "                             DRG Definition  \\\n",
       "0  039 - EXTRACRANIAL PROCEDURES W/O CC/MCC   \n",
       "1  039 - EXTRACRANIAL PROCEDURES W/O CC/MCC   \n",
       "2  039 - EXTRACRANIAL PROCEDURES W/O CC/MCC   \n",
       "3  039 - EXTRACRANIAL PROCEDURES W/O CC/MCC   \n",
       "4  039 - EXTRACRANIAL PROCEDURES W/O CC/MCC   \n",
       "\n",
       "  Hospital Referral Region (HRR) Description  Average Covered Charges_avg  \\\n",
       "0                             AK - Anchorage                 34805.130430   \n",
       "1                            AL - Birmingham                 40237.361538   \n",
       "2                                AL - Dothan                 36285.182905   \n",
       "3                            AL - Huntsville                 18878.955554   \n",
       "4                                AL - Mobile                 22802.270118   \n",
       "\n",
       "   Average Covered Charges_avg_max  \n",
       "0                      105929.4706  \n",
       "1                      105929.4706  \n",
       "2                      105929.4706  \n",
       "3                      105929.4706  \n",
       "4                      105929.4706  "
      ]
     },
     "execution_count": 58,
     "metadata": {},
     "output_type": "execute_result"
    }
   ],
   "source": [
    "Medicare_IN_MERGE.head()"
   ]
  },
  {
   "cell_type": "code",
   "execution_count": 59,
   "metadata": {
    "collapsed": true
   },
   "outputs": [],
   "source": [
    "#function to get the max indicator\n",
    "def difftyp(Medicare_IN_MERGE):\n",
    "    if ((Medicare_IN_MERGE['Average Covered Charges_avg'] == Medicare_IN_MERGE['Average Covered Charges_avg_max'])):\n",
    "        return 1\n",
    "    elif ((Medicare_IN_MERGE['Average Covered Charges_avg'] > Medicare_IN_MERGE['Average Covered Charges_avg_max'])):\n",
    "        return 1\n",
    "    else:\n",
    "        return 0"
   ]
  },
  {
   "cell_type": "code",
   "execution_count": 60,
   "metadata": {
    "collapsed": true
   },
   "outputs": [],
   "source": [
    "Medicare_IN_MERGE['MAX'] = Medicare_IN_MERGE.apply(difftyp, axis=1)"
   ]
  },
  {
   "cell_type": "code",
   "execution_count": 61,
   "metadata": {},
   "outputs": [
    {
     "data": {
      "text/html": [
       "<div>\n",
       "<style>\n",
       "    .dataframe thead tr:only-child th {\n",
       "        text-align: right;\n",
       "    }\n",
       "\n",
       "    .dataframe thead th {\n",
       "        text-align: left;\n",
       "    }\n",
       "\n",
       "    .dataframe tbody tr th {\n",
       "        vertical-align: top;\n",
       "    }\n",
       "</style>\n",
       "<table border=\"1\" class=\"dataframe\">\n",
       "  <thead>\n",
       "    <tr style=\"text-align: right;\">\n",
       "      <th></th>\n",
       "      <th>DRG Definition</th>\n",
       "      <th>Hospital Referral Region (HRR) Description</th>\n",
       "      <th>Average Covered Charges_avg</th>\n",
       "      <th>Average Covered Charges_avg_max</th>\n",
       "      <th>MAX</th>\n",
       "    </tr>\n",
       "  </thead>\n",
       "  <tbody>\n",
       "    <tr>\n",
       "      <th>22</th>\n",
       "      <td>039 - EXTRACRANIAL PROCEDURES W/O CC/MCC</td>\n",
       "      <td>CA - Napa</td>\n",
       "      <td>105929.470600</td>\n",
       "      <td>105929.470600</td>\n",
       "      <td>1</td>\n",
       "    </tr>\n",
       "    <tr>\n",
       "      <th>330</th>\n",
       "      <td>057 - DEGENERATIVE NERVOUS SYSTEM DISORDERS W/...</td>\n",
       "      <td>CA - San Mateo County</td>\n",
       "      <td>148128.437500</td>\n",
       "      <td>148128.437500</td>\n",
       "      <td>1</td>\n",
       "    </tr>\n",
       "    <tr>\n",
       "      <th>588</th>\n",
       "      <td>064 - INTRACRANIAL HEMORRHAGE OR CEREBRAL INFA...</td>\n",
       "      <td>CA - Contra Costa County</td>\n",
       "      <td>145720.057518</td>\n",
       "      <td>145720.057518</td>\n",
       "      <td>1</td>\n",
       "    </tr>\n",
       "    <tr>\n",
       "      <th>907</th>\n",
       "      <td>065 - INTRACRANIAL HEMORRHAGE OR CEREBRAL INFA...</td>\n",
       "      <td>CA - San Mateo County</td>\n",
       "      <td>73820.938782</td>\n",
       "      <td>73820.938782</td>\n",
       "      <td>1</td>\n",
       "    </tr>\n",
       "    <tr>\n",
       "      <th>1198</th>\n",
       "      <td>066 - INTRACRANIAL HEMORRHAGE OR CEREBRAL INFA...</td>\n",
       "      <td>CA - Contra Costa County</td>\n",
       "      <td>65418.983067</td>\n",
       "      <td>65418.983067</td>\n",
       "      <td>1</td>\n",
       "    </tr>\n",
       "  </tbody>\n",
       "</table>\n",
       "</div>"
      ],
      "text/plain": [
       "                                         DRG Definition  \\\n",
       "22             039 - EXTRACRANIAL PROCEDURES W/O CC/MCC   \n",
       "330   057 - DEGENERATIVE NERVOUS SYSTEM DISORDERS W/...   \n",
       "588   064 - INTRACRANIAL HEMORRHAGE OR CEREBRAL INFA...   \n",
       "907   065 - INTRACRANIAL HEMORRHAGE OR CEREBRAL INFA...   \n",
       "1198  066 - INTRACRANIAL HEMORRHAGE OR CEREBRAL INFA...   \n",
       "\n",
       "     Hospital Referral Region (HRR) Description  Average Covered Charges_avg  \\\n",
       "22                                    CA - Napa                105929.470600   \n",
       "330                       CA - San Mateo County                148128.437500   \n",
       "588                    CA - Contra Costa County                145720.057518   \n",
       "907                       CA - San Mateo County                 73820.938782   \n",
       "1198                   CA - Contra Costa County                 65418.983067   \n",
       "\n",
       "      Average Covered Charges_avg_max  MAX  \n",
       "22                      105929.470600    1  \n",
       "330                     148128.437500    1  \n",
       "588                     145720.057518    1  \n",
       "907                      73820.938782    1  \n",
       "1198                     65418.983067    1  "
      ]
     },
     "execution_count": 61,
     "metadata": {},
     "output_type": "execute_result"
    }
   ],
   "source": [
    "Medicare_IN_MERGE[Medicare_IN_MERGE['MAX'] == 1].head()"
   ]
  },
  {
   "cell_type": "code",
   "execution_count": 62,
   "metadata": {
    "collapsed": true
   },
   "outputs": [],
   "source": [
    "#getting number of times a region has charge max value for procedure\n",
    "Medicare_IN_MERGE_GROUPED = pd.DataFrame(Medicare_IN_MERGE[['Hospital Referral Region (HRR) Description','MAX']].groupby(['Hospital Referral Region (HRR) Description']).agg('sum').add_suffix('_sum'),)"
   ]
  },
  {
   "cell_type": "code",
   "execution_count": 96,
   "metadata": {
    "collapsed": true
   },
   "outputs": [],
   "source": [
    "Medicare_IN_MERGE_GROUPED = Medicare_IN_MERGE_GROUPED.reset_index()"
   ]
  },
  {
   "cell_type": "code",
   "execution_count": 97,
   "metadata": {},
   "outputs": [
    {
     "data": {
      "text/html": [
       "<div>\n",
       "<style>\n",
       "    .dataframe thead tr:only-child th {\n",
       "        text-align: right;\n",
       "    }\n",
       "\n",
       "    .dataframe thead th {\n",
       "        text-align: left;\n",
       "    }\n",
       "\n",
       "    .dataframe tbody tr th {\n",
       "        vertical-align: top;\n",
       "    }\n",
       "</style>\n",
       "<table border=\"1\" class=\"dataframe\">\n",
       "  <thead>\n",
       "    <tr style=\"text-align: right;\">\n",
       "      <th></th>\n",
       "      <th>Hospital Referral Region (HRR) Description</th>\n",
       "      <th>MAX_sum</th>\n",
       "    </tr>\n",
       "  </thead>\n",
       "  <tbody>\n",
       "    <tr>\n",
       "      <th>0</th>\n",
       "      <td>AK - Anchorage</td>\n",
       "      <td>0</td>\n",
       "    </tr>\n",
       "    <tr>\n",
       "      <th>1</th>\n",
       "      <td>AL - Birmingham</td>\n",
       "      <td>0</td>\n",
       "    </tr>\n",
       "    <tr>\n",
       "      <th>2</th>\n",
       "      <td>AL - Dothan</td>\n",
       "      <td>0</td>\n",
       "    </tr>\n",
       "    <tr>\n",
       "      <th>3</th>\n",
       "      <td>AL - Huntsville</td>\n",
       "      <td>0</td>\n",
       "    </tr>\n",
       "    <tr>\n",
       "      <th>4</th>\n",
       "      <td>AL - Mobile</td>\n",
       "      <td>0</td>\n",
       "    </tr>\n",
       "  </tbody>\n",
       "</table>\n",
       "</div>"
      ],
      "text/plain": [
       "  Hospital Referral Region (HRR) Description  MAX_sum\n",
       "0                             AK - Anchorage        0\n",
       "1                            AL - Birmingham        0\n",
       "2                                AL - Dothan        0\n",
       "3                            AL - Huntsville        0\n",
       "4                                AL - Mobile        0"
      ]
     },
     "execution_count": 97,
     "metadata": {},
     "output_type": "execute_result"
    }
   ],
   "source": [
    "Medicare_IN_MERGE_GROUPED.head()"
   ]
  },
  {
   "cell_type": "markdown",
   "metadata": {},
   "source": [
    "#### FOR OutpatientAPC"
   ]
  },
  {
   "cell_type": "code",
   "execution_count": 66,
   "metadata": {},
   "outputs": [
    {
     "data": {
      "text/plain": [
       "Index([u'APC', u'Provider Id', u'Provider Name', u'Provider Street Address',\n",
       "       u'Provider City', u'Provider State', u'Provider Zip Code',\n",
       "       u'Hospital Referral Region (HRR) Description', u'Outpatient Services',\n",
       "       u'Average  Estimated Submitted Charges', u'Average Total Payments'],\n",
       "      dtype='object')"
      ]
     },
     "execution_count": 66,
     "metadata": {},
     "output_type": "execute_result"
    }
   ],
   "source": [
    "Medicare_Provider_Charge_Out.columns"
   ]
  },
  {
   "cell_type": "code",
   "execution_count": 69,
   "metadata": {
    "collapsed": true
   },
   "outputs": [],
   "source": [
    "#Finding the mean of Average Covered Charges for Outpatient by APC and Region\n",
    "Medicare_Out_AGG = pd.DataFrame(Medicare_Provider_Charge_Out[['APC', 'Hospital Referral Region (HRR) Description', 'Average  Estimated Submitted Charges']].groupby(['APC', 'Hospital Referral Region (HRR) Description']).agg('mean').add_suffix('_avg'))"
   ]
  },
  {
   "cell_type": "code",
   "execution_count": 70,
   "metadata": {
    "collapsed": true
   },
   "outputs": [],
   "source": [
    "Medicare_Out_AGG = Medicare_Out_AGG.reset_index()"
   ]
  },
  {
   "cell_type": "code",
   "execution_count": 71,
   "metadata": {},
   "outputs": [
    {
     "data": {
      "text/html": [
       "<div>\n",
       "<style>\n",
       "    .dataframe thead tr:only-child th {\n",
       "        text-align: right;\n",
       "    }\n",
       "\n",
       "    .dataframe thead th {\n",
       "        text-align: left;\n",
       "    }\n",
       "\n",
       "    .dataframe tbody tr th {\n",
       "        vertical-align: top;\n",
       "    }\n",
       "</style>\n",
       "<table border=\"1\" class=\"dataframe\">\n",
       "  <thead>\n",
       "    <tr style=\"text-align: right;\">\n",
       "      <th></th>\n",
       "      <th>APC</th>\n",
       "      <th>Hospital Referral Region (HRR) Description</th>\n",
       "      <th>Average  Estimated Submitted Charges_avg</th>\n",
       "    </tr>\n",
       "  </thead>\n",
       "  <tbody>\n",
       "    <tr>\n",
       "      <th>0</th>\n",
       "      <td>0012 - Level I Debridement &amp; Destruction</td>\n",
       "      <td>AK - Anchorage</td>\n",
       "      <td>149.589749</td>\n",
       "    </tr>\n",
       "    <tr>\n",
       "      <th>1</th>\n",
       "      <td>0012 - Level I Debridement &amp; Destruction</td>\n",
       "      <td>AL - Birmingham</td>\n",
       "      <td>78.086957</td>\n",
       "    </tr>\n",
       "    <tr>\n",
       "      <th>2</th>\n",
       "      <td>0012 - Level I Debridement &amp; Destruction</td>\n",
       "      <td>AR - Fort Smith</td>\n",
       "      <td>80.102439</td>\n",
       "    </tr>\n",
       "    <tr>\n",
       "      <th>3</th>\n",
       "      <td>0012 - Level I Debridement &amp; Destruction</td>\n",
       "      <td>AR - Jonesboro</td>\n",
       "      <td>16.993333</td>\n",
       "    </tr>\n",
       "    <tr>\n",
       "      <th>4</th>\n",
       "      <td>0012 - Level I Debridement &amp; Destruction</td>\n",
       "      <td>AR - Little Rock</td>\n",
       "      <td>96.968863</td>\n",
       "    </tr>\n",
       "  </tbody>\n",
       "</table>\n",
       "</div>"
      ],
      "text/plain": [
       "                                        APC  \\\n",
       "0  0012 - Level I Debridement & Destruction   \n",
       "1  0012 - Level I Debridement & Destruction   \n",
       "2  0012 - Level I Debridement & Destruction   \n",
       "3  0012 - Level I Debridement & Destruction   \n",
       "4  0012 - Level I Debridement & Destruction   \n",
       "\n",
       "  Hospital Referral Region (HRR) Description  \\\n",
       "0                             AK - Anchorage   \n",
       "1                            AL - Birmingham   \n",
       "2                            AR - Fort Smith   \n",
       "3                             AR - Jonesboro   \n",
       "4                           AR - Little Rock   \n",
       "\n",
       "   Average  Estimated Submitted Charges_avg  \n",
       "0                                149.589749  \n",
       "1                                 78.086957  \n",
       "2                                 80.102439  \n",
       "3                                 16.993333  \n",
       "4                                 96.968863  "
      ]
     },
     "execution_count": 71,
     "metadata": {},
     "output_type": "execute_result"
    }
   ],
   "source": [
    "Medicare_Out_AGG.head()"
   ]
  },
  {
   "cell_type": "code",
   "execution_count": 72,
   "metadata": {
    "collapsed": true
   },
   "outputs": [],
   "source": [
    "#Finding the max for Outpatient\n",
    "Medicare_Out_MAX = pd.DataFrame(Medicare_Out_AGG[['APC', 'Average  Estimated Submitted Charges_avg']].groupby(['APC']).agg('max').add_suffix('_max'))"
   ]
  },
  {
   "cell_type": "code",
   "execution_count": 73,
   "metadata": {
    "collapsed": true
   },
   "outputs": [],
   "source": [
    "Medicare_Out_MAX = Medicare_Out_MAX.reset_index()"
   ]
  },
  {
   "cell_type": "code",
   "execution_count": 74,
   "metadata": {},
   "outputs": [
    {
     "data": {
      "text/html": [
       "<div>\n",
       "<style>\n",
       "    .dataframe thead tr:only-child th {\n",
       "        text-align: right;\n",
       "    }\n",
       "\n",
       "    .dataframe thead th {\n",
       "        text-align: left;\n",
       "    }\n",
       "\n",
       "    .dataframe tbody tr th {\n",
       "        vertical-align: top;\n",
       "    }\n",
       "</style>\n",
       "<table border=\"1\" class=\"dataframe\">\n",
       "  <thead>\n",
       "    <tr style=\"text-align: right;\">\n",
       "      <th></th>\n",
       "      <th>APC</th>\n",
       "      <th>Average  Estimated Submitted Charges_avg_max</th>\n",
       "    </tr>\n",
       "  </thead>\n",
       "  <tbody>\n",
       "    <tr>\n",
       "      <th>0</th>\n",
       "      <td>0012 - Level I Debridement &amp; Destruction</td>\n",
       "      <td>438.307045</td>\n",
       "    </tr>\n",
       "    <tr>\n",
       "      <th>1</th>\n",
       "      <td>0013 - Level II Debridement &amp; Destruction</td>\n",
       "      <td>1042.707451</td>\n",
       "    </tr>\n",
       "    <tr>\n",
       "      <th>2</th>\n",
       "      <td>0015 - Level III Debridement &amp; Destruction</td>\n",
       "      <td>1478.536545</td>\n",
       "    </tr>\n",
       "    <tr>\n",
       "      <th>3</th>\n",
       "      <td>0019 - Level I Excision/ Biopsy</td>\n",
       "      <td>15946.325655</td>\n",
       "    </tr>\n",
       "    <tr>\n",
       "      <th>4</th>\n",
       "      <td>0020 - Level II Excision/ Biopsy</td>\n",
       "      <td>15784.975000</td>\n",
       "    </tr>\n",
       "  </tbody>\n",
       "</table>\n",
       "</div>"
      ],
      "text/plain": [
       "                                          APC  \\\n",
       "0    0012 - Level I Debridement & Destruction   \n",
       "1   0013 - Level II Debridement & Destruction   \n",
       "2  0015 - Level III Debridement & Destruction   \n",
       "3             0019 - Level I Excision/ Biopsy   \n",
       "4            0020 - Level II Excision/ Biopsy   \n",
       "\n",
       "   Average  Estimated Submitted Charges_avg_max  \n",
       "0                                    438.307045  \n",
       "1                                   1042.707451  \n",
       "2                                   1478.536545  \n",
       "3                                  15946.325655  \n",
       "4                                  15784.975000  "
      ]
     },
     "execution_count": 74,
     "metadata": {},
     "output_type": "execute_result"
    }
   ],
   "source": [
    "Medicare_Out_MAX.head()"
   ]
  },
  {
   "cell_type": "code",
   "execution_count": 75,
   "metadata": {
    "collapsed": true
   },
   "outputs": [],
   "source": [
    "#Merging The mean and max - will give side by side comparison of region having highest claims\n",
    "Medicare_Out_MERGE = Medicare_Out_AGG.merge(Medicare_Out_MAX,on='APC', how='left')"
   ]
  },
  {
   "cell_type": "code",
   "execution_count": 77,
   "metadata": {},
   "outputs": [
    {
     "data": {
      "text/plain": [
       "Index([u'APC', u'Hospital Referral Region (HRR) Description',\n",
       "       u'Average  Estimated Submitted Charges_avg',\n",
       "       u'Average  Estimated Submitted Charges_avg_max'],\n",
       "      dtype='object')"
      ]
     },
     "execution_count": 77,
     "metadata": {},
     "output_type": "execute_result"
    }
   ],
   "source": [
    "Medicare_Out_MERGE.columns"
   ]
  },
  {
   "cell_type": "code",
   "execution_count": 82,
   "metadata": {
    "collapsed": true
   },
   "outputs": [],
   "source": [
    "#function to get the max indicator\n",
    "def difftyp(Medicare_Out_MERGE):\n",
    "    if ((Medicare_Out_MERGE['Average  Estimated Submitted Charges_avg'] == Medicare_Out_MERGE['Average  Estimated Submitted Charges_avg_max'])):\n",
    "        return 1\n",
    "    elif ((Medicare_Out_MERGE['Average  Estimated Submitted Charges_avg'] > Medicare_Out_MERGE['Average  Estimated Submitted Charges_avg_max'])):\n",
    "        return 1\n",
    "    else:\n",
    "        return 0"
   ]
  },
  {
   "cell_type": "code",
   "execution_count": 83,
   "metadata": {
    "collapsed": true
   },
   "outputs": [],
   "source": [
    "Medicare_Out_MERGE['MAX'] = Medicare_Out_MERGE.apply(difftyp, axis=1)"
   ]
  },
  {
   "cell_type": "code",
   "execution_count": 84,
   "metadata": {},
   "outputs": [
    {
     "data": {
      "text/html": [
       "<div>\n",
       "<style>\n",
       "    .dataframe thead tr:only-child th {\n",
       "        text-align: right;\n",
       "    }\n",
       "\n",
       "    .dataframe thead th {\n",
       "        text-align: left;\n",
       "    }\n",
       "\n",
       "    .dataframe tbody tr th {\n",
       "        vertical-align: top;\n",
       "    }\n",
       "</style>\n",
       "<table border=\"1\" class=\"dataframe\">\n",
       "  <thead>\n",
       "    <tr style=\"text-align: right;\">\n",
       "      <th></th>\n",
       "      <th>APC</th>\n",
       "      <th>Hospital Referral Region (HRR) Description</th>\n",
       "      <th>Average  Estimated Submitted Charges_avg</th>\n",
       "      <th>Average  Estimated Submitted Charges_avg_max</th>\n",
       "      <th>MAX</th>\n",
       "    </tr>\n",
       "  </thead>\n",
       "  <tbody>\n",
       "    <tr>\n",
       "      <th>93</th>\n",
       "      <td>0012 - Level I Debridement &amp; Destruction</td>\n",
       "      <td>NE - Omaha</td>\n",
       "      <td>438.307045</td>\n",
       "      <td>438.307045</td>\n",
       "      <td>1</td>\n",
       "    </tr>\n",
       "    <tr>\n",
       "      <th>160</th>\n",
       "      <td>0013 - Level II Debridement &amp; Destruction</td>\n",
       "      <td>AL - Dothan</td>\n",
       "      <td>1042.707451</td>\n",
       "      <td>1042.707451</td>\n",
       "      <td>1</td>\n",
       "    </tr>\n",
       "    <tr>\n",
       "      <th>582</th>\n",
       "      <td>0015 - Level III Debridement &amp; Destruction</td>\n",
       "      <td>MI - Dearborn</td>\n",
       "      <td>1478.536545</td>\n",
       "      <td>1478.536545</td>\n",
       "      <td>1</td>\n",
       "    </tr>\n",
       "    <tr>\n",
       "      <th>756</th>\n",
       "      <td>0019 - Level I Excision/ Biopsy</td>\n",
       "      <td>CA - Los Angeles</td>\n",
       "      <td>15946.325655</td>\n",
       "      <td>15946.325655</td>\n",
       "      <td>1</td>\n",
       "    </tr>\n",
       "    <tr>\n",
       "      <th>1013</th>\n",
       "      <td>0020 - Level II Excision/ Biopsy</td>\n",
       "      <td>IL - Aurora</td>\n",
       "      <td>15784.975000</td>\n",
       "      <td>15784.975000</td>\n",
       "      <td>1</td>\n",
       "    </tr>\n",
       "  </tbody>\n",
       "</table>\n",
       "</div>"
      ],
      "text/plain": [
       "                                             APC  \\\n",
       "93      0012 - Level I Debridement & Destruction   \n",
       "160    0013 - Level II Debridement & Destruction   \n",
       "582   0015 - Level III Debridement & Destruction   \n",
       "756              0019 - Level I Excision/ Biopsy   \n",
       "1013            0020 - Level II Excision/ Biopsy   \n",
       "\n",
       "     Hospital Referral Region (HRR) Description  \\\n",
       "93                                   NE - Omaha   \n",
       "160                                 AL - Dothan   \n",
       "582                               MI - Dearborn   \n",
       "756                            CA - Los Angeles   \n",
       "1013                                IL - Aurora   \n",
       "\n",
       "      Average  Estimated Submitted Charges_avg  \\\n",
       "93                                  438.307045   \n",
       "160                                1042.707451   \n",
       "582                                1478.536545   \n",
       "756                               15946.325655   \n",
       "1013                              15784.975000   \n",
       "\n",
       "      Average  Estimated Submitted Charges_avg_max  MAX  \n",
       "93                                      438.307045    1  \n",
       "160                                    1042.707451    1  \n",
       "582                                    1478.536545    1  \n",
       "756                                   15946.325655    1  \n",
       "1013                                  15784.975000    1  "
      ]
     },
     "execution_count": 84,
     "metadata": {},
     "output_type": "execute_result"
    }
   ],
   "source": [
    "Medicare_Out_MERGE[Medicare_Out_MERGE['MAX'] == 1].head()"
   ]
  },
  {
   "cell_type": "code",
   "execution_count": 85,
   "metadata": {
    "collapsed": true
   },
   "outputs": [],
   "source": [
    "#getting number of times a region has charge max value for procedure\n",
    "Medicare_Out_MERGE_GROUPED = pd.DataFrame(Medicare_Out_MERGE[['Hospital Referral Region (HRR) Description','MAX']].groupby(['Hospital Referral Region (HRR) Description']).agg('sum').add_suffix('_sum'),)"
   ]
  },
  {
   "cell_type": "code",
   "execution_count": 93,
   "metadata": {
    "collapsed": true
   },
   "outputs": [],
   "source": [
    "Medicare_Out_MERGE_GROUPED = Medicare_Out_MERGE_GROUPED.reset_index()"
   ]
  },
  {
   "cell_type": "code",
   "execution_count": 95,
   "metadata": {},
   "outputs": [
    {
     "data": {
      "text/html": [
       "<div>\n",
       "<style>\n",
       "    .dataframe thead tr:only-child th {\n",
       "        text-align: right;\n",
       "    }\n",
       "\n",
       "    .dataframe thead th {\n",
       "        text-align: left;\n",
       "    }\n",
       "\n",
       "    .dataframe tbody tr th {\n",
       "        vertical-align: top;\n",
       "    }\n",
       "</style>\n",
       "<table border=\"1\" class=\"dataframe\">\n",
       "  <thead>\n",
       "    <tr style=\"text-align: right;\">\n",
       "      <th></th>\n",
       "      <th>Hospital Referral Region (HRR) Description</th>\n",
       "      <th>MAX_sum</th>\n",
       "    </tr>\n",
       "  </thead>\n",
       "  <tbody>\n",
       "    <tr>\n",
       "      <th>0</th>\n",
       "      <td>AK - Anchorage</td>\n",
       "      <td>0</td>\n",
       "    </tr>\n",
       "    <tr>\n",
       "      <th>1</th>\n",
       "      <td>AL - Birmingham</td>\n",
       "      <td>0</td>\n",
       "    </tr>\n",
       "    <tr>\n",
       "      <th>2</th>\n",
       "      <td>AL - Dothan</td>\n",
       "      <td>1</td>\n",
       "    </tr>\n",
       "    <tr>\n",
       "      <th>3</th>\n",
       "      <td>AL - Huntsville</td>\n",
       "      <td>1</td>\n",
       "    </tr>\n",
       "    <tr>\n",
       "      <th>4</th>\n",
       "      <td>AL - Mobile</td>\n",
       "      <td>0</td>\n",
       "    </tr>\n",
       "  </tbody>\n",
       "</table>\n",
       "</div>"
      ],
      "text/plain": [
       "  Hospital Referral Region (HRR) Description  MAX_sum\n",
       "0                             AK - Anchorage        0\n",
       "1                            AL - Birmingham        0\n",
       "2                                AL - Dothan        1\n",
       "3                            AL - Huntsville        1\n",
       "4                                AL - Mobile        0"
      ]
     },
     "execution_count": 95,
     "metadata": {},
     "output_type": "execute_result"
    }
   ],
   "source": [
    "Medicare_Out_MERGE_GROUPED.head()"
   ]
  },
  {
   "cell_type": "code",
   "execution_count": 98,
   "metadata": {
    "collapsed": true
   },
   "outputs": [],
   "source": [
    "frames = [Medicare_IN_MERGE_GROUPED, Medicare_Out_MERGE_GROUPED]\n",
    "Medicare_data_REGION = pd.concat(frames)"
   ]
  },
  {
   "cell_type": "code",
   "execution_count": 99,
   "metadata": {},
   "outputs": [
    {
     "data": {
      "text/html": [
       "<div>\n",
       "<style>\n",
       "    .dataframe thead tr:only-child th {\n",
       "        text-align: right;\n",
       "    }\n",
       "\n",
       "    .dataframe thead th {\n",
       "        text-align: left;\n",
       "    }\n",
       "\n",
       "    .dataframe tbody tr th {\n",
       "        vertical-align: top;\n",
       "    }\n",
       "</style>\n",
       "<table border=\"1\" class=\"dataframe\">\n",
       "  <thead>\n",
       "    <tr style=\"text-align: right;\">\n",
       "      <th></th>\n",
       "      <th>Hospital Referral Region (HRR) Description</th>\n",
       "      <th>MAX_sum</th>\n",
       "    </tr>\n",
       "  </thead>\n",
       "  <tbody>\n",
       "    <tr>\n",
       "      <th>0</th>\n",
       "      <td>AK - Anchorage</td>\n",
       "      <td>0</td>\n",
       "    </tr>\n",
       "    <tr>\n",
       "      <th>1</th>\n",
       "      <td>AL - Birmingham</td>\n",
       "      <td>0</td>\n",
       "    </tr>\n",
       "    <tr>\n",
       "      <th>2</th>\n",
       "      <td>AL - Dothan</td>\n",
       "      <td>0</td>\n",
       "    </tr>\n",
       "    <tr>\n",
       "      <th>3</th>\n",
       "      <td>AL - Huntsville</td>\n",
       "      <td>0</td>\n",
       "    </tr>\n",
       "    <tr>\n",
       "      <th>4</th>\n",
       "      <td>AL - Mobile</td>\n",
       "      <td>0</td>\n",
       "    </tr>\n",
       "  </tbody>\n",
       "</table>\n",
       "</div>"
      ],
      "text/plain": [
       "  Hospital Referral Region (HRR) Description  MAX_sum\n",
       "0                             AK - Anchorage        0\n",
       "1                            AL - Birmingham        0\n",
       "2                                AL - Dothan        0\n",
       "3                            AL - Huntsville        0\n",
       "4                                AL - Mobile        0"
      ]
     },
     "execution_count": 99,
     "metadata": {},
     "output_type": "execute_result"
    }
   ],
   "source": [
    "Medicare_data_REGION.head()"
   ]
  },
  {
   "cell_type": "code",
   "execution_count": 101,
   "metadata": {
    "collapsed": true
   },
   "outputs": [],
   "source": [
    "#getting the total sum of occurance\n",
    "Medicare_data_REGION_GROUPED = pd.DataFrame(Medicare_data_REGION[['Hospital Referral Region (HRR) Description','MAX_sum']].groupby(['Hospital Referral Region (HRR) Description']).agg('sum').add_suffix('_agg'),)"
   ]
  },
  {
   "cell_type": "code",
   "execution_count": 104,
   "metadata": {},
   "outputs": [
    {
     "data": {
      "text/plain": [
       "Hospital Referral Region (HRR) Description\n",
       "CA - Contra Costa County    36\n",
       "CA - San Mateo County       24\n",
       "CA - Santa Cruz             11\n",
       "Name: MAX_sum_agg, dtype: int64"
      ]
     },
     "execution_count": 104,
     "metadata": {},
     "output_type": "execute_result"
    }
   ],
   "source": [
    "Medicare_data_REGION_GROUPED['MAX_sum_agg'].nlargest(3)"
   ]
  },
  {
   "cell_type": "markdown",
   "metadata": {},
   "source": [
    "    #5. PART1D - Largest claim difference for the largest number of procedures by providers"
   ]
  },
  {
   "cell_type": "markdown",
   "metadata": {},
   "source": [
    "    We see largest claim difference for highest number of procedures for InpatientDGR for the follwing providers -\n",
    "    \n",
    "    BAYONNE HOSPITAL CENTER, NJ          29\n",
    "    CROZER CHESTER MEDICAL CENTER, PA    12\n",
    "    HAHNEMANN UNIVERSITY HOSPITAL, PA     8"
   ]
  },
  {
   "cell_type": "markdown",
   "metadata": {},
   "source": [
    "#### InpatientDRG"
   ]
  },
  {
   "cell_type": "markdown",
   "metadata": {},
   "source": [
    "    Considering -\n",
    "    Average Covered Charges as Claims\n",
    "    Average Total Payments as Reimbursement"
   ]
  },
  {
   "cell_type": "code",
   "execution_count": 92,
   "metadata": {},
   "outputs": [
    {
     "data": {
      "text/html": [
       "<div>\n",
       "<style>\n",
       "    .dataframe thead tr:only-child th {\n",
       "        text-align: right;\n",
       "    }\n",
       "\n",
       "    .dataframe thead th {\n",
       "        text-align: left;\n",
       "    }\n",
       "\n",
       "    .dataframe tbody tr th {\n",
       "        vertical-align: top;\n",
       "    }\n",
       "</style>\n",
       "<table border=\"1\" class=\"dataframe\">\n",
       "  <thead>\n",
       "    <tr style=\"text-align: right;\">\n",
       "      <th></th>\n",
       "      <th>DRG Definition</th>\n",
       "      <th>Provider Id</th>\n",
       "      <th>Provider Name</th>\n",
       "      <th>Provider Street Address</th>\n",
       "      <th>Provider City</th>\n",
       "      <th>Provider State</th>\n",
       "      <th>Provider Zip Code</th>\n",
       "      <th>Hospital Referral Region (HRR) Description</th>\n",
       "      <th>Total Discharges</th>\n",
       "      <th>Average Covered Charges</th>\n",
       "      <th>Average Total Payments</th>\n",
       "      <th>Average Medicare Payments</th>\n",
       "    </tr>\n",
       "  </thead>\n",
       "  <tbody>\n",
       "    <tr>\n",
       "      <th>0</th>\n",
       "      <td>039 - EXTRACRANIAL PROCEDURES W/O CC/MCC</td>\n",
       "      <td>10001</td>\n",
       "      <td>SOUTHEAST ALABAMA MEDICAL CENTER</td>\n",
       "      <td>1108 ROSS CLARK CIRCLE</td>\n",
       "      <td>DOTHAN</td>\n",
       "      <td>AL</td>\n",
       "      <td>36301</td>\n",
       "      <td>AL - Dothan</td>\n",
       "      <td>91</td>\n",
       "      <td>32963.07692</td>\n",
       "      <td>5777.241758</td>\n",
       "      <td>4763.736264</td>\n",
       "    </tr>\n",
       "    <tr>\n",
       "      <th>1</th>\n",
       "      <td>039 - EXTRACRANIAL PROCEDURES W/O CC/MCC</td>\n",
       "      <td>10005</td>\n",
       "      <td>MARSHALL MEDICAL CENTER SOUTH</td>\n",
       "      <td>2505 U S HIGHWAY 431 NORTH</td>\n",
       "      <td>BOAZ</td>\n",
       "      <td>AL</td>\n",
       "      <td>35957</td>\n",
       "      <td>AL - Birmingham</td>\n",
       "      <td>14</td>\n",
       "      <td>15131.85714</td>\n",
       "      <td>5787.571429</td>\n",
       "      <td>4976.714286</td>\n",
       "    </tr>\n",
       "    <tr>\n",
       "      <th>2</th>\n",
       "      <td>039 - EXTRACRANIAL PROCEDURES W/O CC/MCC</td>\n",
       "      <td>10006</td>\n",
       "      <td>ELIZA COFFEE MEMORIAL HOSPITAL</td>\n",
       "      <td>205 MARENGO STREET</td>\n",
       "      <td>FLORENCE</td>\n",
       "      <td>AL</td>\n",
       "      <td>35631</td>\n",
       "      <td>AL - Birmingham</td>\n",
       "      <td>24</td>\n",
       "      <td>37560.37500</td>\n",
       "      <td>5434.958333</td>\n",
       "      <td>4453.791667</td>\n",
       "    </tr>\n",
       "    <tr>\n",
       "      <th>3</th>\n",
       "      <td>039 - EXTRACRANIAL PROCEDURES W/O CC/MCC</td>\n",
       "      <td>10011</td>\n",
       "      <td>ST VINCENT'S EAST</td>\n",
       "      <td>50 MEDICAL PARK EAST DRIVE</td>\n",
       "      <td>BIRMINGHAM</td>\n",
       "      <td>AL</td>\n",
       "      <td>35235</td>\n",
       "      <td>AL - Birmingham</td>\n",
       "      <td>25</td>\n",
       "      <td>13998.28000</td>\n",
       "      <td>5417.560000</td>\n",
       "      <td>4129.160000</td>\n",
       "    </tr>\n",
       "    <tr>\n",
       "      <th>4</th>\n",
       "      <td>039 - EXTRACRANIAL PROCEDURES W/O CC/MCC</td>\n",
       "      <td>10016</td>\n",
       "      <td>SHELBY BAPTIST MEDICAL CENTER</td>\n",
       "      <td>1000 FIRST STREET NORTH</td>\n",
       "      <td>ALABASTER</td>\n",
       "      <td>AL</td>\n",
       "      <td>35007</td>\n",
       "      <td>AL - Birmingham</td>\n",
       "      <td>18</td>\n",
       "      <td>31633.27778</td>\n",
       "      <td>5658.333333</td>\n",
       "      <td>4851.444444</td>\n",
       "    </tr>\n",
       "  </tbody>\n",
       "</table>\n",
       "</div>"
      ],
      "text/plain": [
       "                             DRG Definition  Provider Id  \\\n",
       "0  039 - EXTRACRANIAL PROCEDURES W/O CC/MCC        10001   \n",
       "1  039 - EXTRACRANIAL PROCEDURES W/O CC/MCC        10005   \n",
       "2  039 - EXTRACRANIAL PROCEDURES W/O CC/MCC        10006   \n",
       "3  039 - EXTRACRANIAL PROCEDURES W/O CC/MCC        10011   \n",
       "4  039 - EXTRACRANIAL PROCEDURES W/O CC/MCC        10016   \n",
       "\n",
       "                      Provider Name     Provider Street Address Provider City  \\\n",
       "0  SOUTHEAST ALABAMA MEDICAL CENTER      1108 ROSS CLARK CIRCLE        DOTHAN   \n",
       "1     MARSHALL MEDICAL CENTER SOUTH  2505 U S HIGHWAY 431 NORTH          BOAZ   \n",
       "2    ELIZA COFFEE MEMORIAL HOSPITAL          205 MARENGO STREET      FLORENCE   \n",
       "3                 ST VINCENT'S EAST  50 MEDICAL PARK EAST DRIVE    BIRMINGHAM   \n",
       "4     SHELBY BAPTIST MEDICAL CENTER     1000 FIRST STREET NORTH     ALABASTER   \n",
       "\n",
       "  Provider State  Provider Zip Code  \\\n",
       "0             AL              36301   \n",
       "1             AL              35957   \n",
       "2             AL              35631   \n",
       "3             AL              35235   \n",
       "4             AL              35007   \n",
       "\n",
       "  Hospital Referral Region (HRR) Description  Total Discharges  \\\n",
       "0                                AL - Dothan                91   \n",
       "1                            AL - Birmingham                14   \n",
       "2                            AL - Birmingham                24   \n",
       "3                            AL - Birmingham                25   \n",
       "4                            AL - Birmingham                18   \n",
       "\n",
       "   Average Covered Charges  Average Total Payments  Average Medicare Payments  \n",
       "0              32963.07692             5777.241758                4763.736264  \n",
       "1              15131.85714             5787.571429                4976.714286  \n",
       "2              37560.37500             5434.958333                4453.791667  \n",
       "3              13998.28000             5417.560000                4129.160000  \n",
       "4              31633.27778             5658.333333                4851.444444  "
      ]
     },
     "execution_count": 92,
     "metadata": {},
     "output_type": "execute_result"
    }
   ],
   "source": [
    "Medicare_Provider_Charge_In.head()"
   ]
  },
  {
   "cell_type": "code",
   "execution_count": 93,
   "metadata": {
    "collapsed": true
   },
   "outputs": [],
   "source": [
    "Medicare_IN_DRG = Medicare_Provider_Charge_In[['DRG Definition', 'Provider Name','Average Total Payments', 'Average Covered Charges' ]]"
   ]
  },
  {
   "cell_type": "code",
   "execution_count": 94,
   "metadata": {},
   "outputs": [
    {
     "name": "stderr",
     "output_type": "stream",
     "text": [
      "C:\\Users\\lenovo\\AppData\\Local\\Continuum\\anaconda2\\lib\\site-packages\\ipykernel_launcher.py:2: SettingWithCopyWarning: \n",
      "A value is trying to be set on a copy of a slice from a DataFrame.\n",
      "Try using .loc[row_indexer,col_indexer] = value instead\n",
      "\n",
      "See the caveats in the documentation: http://pandas.pydata.org/pandas-docs/stable/indexing.html#indexing-view-versus-copy\n",
      "  \n"
     ]
    }
   ],
   "source": [
    "#Difference of claim and reimbursement\n",
    "Medicare_IN_DRG['CLAIM_DIFF'] = Medicare_IN_DRG.apply(lambda x: x['Average Covered Charges'] - x['Average Total Payments'],axis =1)"
   ]
  },
  {
   "cell_type": "code",
   "execution_count": 95,
   "metadata": {},
   "outputs": [
    {
     "data": {
      "text/html": [
       "<div>\n",
       "<style>\n",
       "    .dataframe thead tr:only-child th {\n",
       "        text-align: right;\n",
       "    }\n",
       "\n",
       "    .dataframe thead th {\n",
       "        text-align: left;\n",
       "    }\n",
       "\n",
       "    .dataframe tbody tr th {\n",
       "        vertical-align: top;\n",
       "    }\n",
       "</style>\n",
       "<table border=\"1\" class=\"dataframe\">\n",
       "  <thead>\n",
       "    <tr style=\"text-align: right;\">\n",
       "      <th></th>\n",
       "      <th>DRG Definition</th>\n",
       "      <th>Provider Name</th>\n",
       "      <th>Average Total Payments</th>\n",
       "      <th>Average Covered Charges</th>\n",
       "      <th>CLAIM_DIFF</th>\n",
       "    </tr>\n",
       "  </thead>\n",
       "  <tbody>\n",
       "    <tr>\n",
       "      <th>0</th>\n",
       "      <td>039 - EXTRACRANIAL PROCEDURES W/O CC/MCC</td>\n",
       "      <td>SOUTHEAST ALABAMA MEDICAL CENTER</td>\n",
       "      <td>5777.241758</td>\n",
       "      <td>32963.07692</td>\n",
       "      <td>27185.835162</td>\n",
       "    </tr>\n",
       "    <tr>\n",
       "      <th>1</th>\n",
       "      <td>039 - EXTRACRANIAL PROCEDURES W/O CC/MCC</td>\n",
       "      <td>MARSHALL MEDICAL CENTER SOUTH</td>\n",
       "      <td>5787.571429</td>\n",
       "      <td>15131.85714</td>\n",
       "      <td>9344.285711</td>\n",
       "    </tr>\n",
       "    <tr>\n",
       "      <th>2</th>\n",
       "      <td>039 - EXTRACRANIAL PROCEDURES W/O CC/MCC</td>\n",
       "      <td>ELIZA COFFEE MEMORIAL HOSPITAL</td>\n",
       "      <td>5434.958333</td>\n",
       "      <td>37560.37500</td>\n",
       "      <td>32125.416667</td>\n",
       "    </tr>\n",
       "    <tr>\n",
       "      <th>3</th>\n",
       "      <td>039 - EXTRACRANIAL PROCEDURES W/O CC/MCC</td>\n",
       "      <td>ST VINCENT'S EAST</td>\n",
       "      <td>5417.560000</td>\n",
       "      <td>13998.28000</td>\n",
       "      <td>8580.720000</td>\n",
       "    </tr>\n",
       "    <tr>\n",
       "      <th>4</th>\n",
       "      <td>039 - EXTRACRANIAL PROCEDURES W/O CC/MCC</td>\n",
       "      <td>SHELBY BAPTIST MEDICAL CENTER</td>\n",
       "      <td>5658.333333</td>\n",
       "      <td>31633.27778</td>\n",
       "      <td>25974.944447</td>\n",
       "    </tr>\n",
       "  </tbody>\n",
       "</table>\n",
       "</div>"
      ],
      "text/plain": [
       "                             DRG Definition                     Provider Name  \\\n",
       "0  039 - EXTRACRANIAL PROCEDURES W/O CC/MCC  SOUTHEAST ALABAMA MEDICAL CENTER   \n",
       "1  039 - EXTRACRANIAL PROCEDURES W/O CC/MCC     MARSHALL MEDICAL CENTER SOUTH   \n",
       "2  039 - EXTRACRANIAL PROCEDURES W/O CC/MCC    ELIZA COFFEE MEMORIAL HOSPITAL   \n",
       "3  039 - EXTRACRANIAL PROCEDURES W/O CC/MCC                 ST VINCENT'S EAST   \n",
       "4  039 - EXTRACRANIAL PROCEDURES W/O CC/MCC     SHELBY BAPTIST MEDICAL CENTER   \n",
       "\n",
       "   Average Total Payments  Average Covered Charges    CLAIM_DIFF  \n",
       "0             5777.241758              32963.07692  27185.835162  \n",
       "1             5787.571429              15131.85714   9344.285711  \n",
       "2             5434.958333              37560.37500  32125.416667  \n",
       "3             5417.560000              13998.28000   8580.720000  \n",
       "4             5658.333333              31633.27778  25974.944447  "
      ]
     },
     "execution_count": 95,
     "metadata": {},
     "output_type": "execute_result"
    }
   ],
   "source": [
    "Medicare_IN_DRG.head(5)"
   ]
  },
  {
   "cell_type": "code",
   "execution_count": 96,
   "metadata": {
    "collapsed": true
   },
   "outputs": [],
   "source": [
    "#Finding the mean of Average Covered Charges for InpatientDRG by DRG Defination and Provider\n",
    "Medicare_IN_AGG = pd.DataFrame(Medicare_IN_DRG[['DRG Definition', 'Provider Name', 'CLAIM_DIFF']].groupby(['DRG Definition', 'Provider Name']).agg('mean').add_suffix('_avg'))"
   ]
  },
  {
   "cell_type": "code",
   "execution_count": 97,
   "metadata": {
    "collapsed": true
   },
   "outputs": [],
   "source": [
    "Medicare_IN_AGG = Medicare_IN_AGG.reset_index()"
   ]
  },
  {
   "cell_type": "code",
   "execution_count": 98,
   "metadata": {},
   "outputs": [
    {
     "data": {
      "text/html": [
       "<div>\n",
       "<style>\n",
       "    .dataframe thead tr:only-child th {\n",
       "        text-align: right;\n",
       "    }\n",
       "\n",
       "    .dataframe thead th {\n",
       "        text-align: left;\n",
       "    }\n",
       "\n",
       "    .dataframe tbody tr th {\n",
       "        vertical-align: top;\n",
       "    }\n",
       "</style>\n",
       "<table border=\"1\" class=\"dataframe\">\n",
       "  <thead>\n",
       "    <tr style=\"text-align: right;\">\n",
       "      <th></th>\n",
       "      <th>DRG Definition</th>\n",
       "      <th>Provider Name</th>\n",
       "      <th>CLAIM_DIFF_avg</th>\n",
       "    </tr>\n",
       "  </thead>\n",
       "  <tbody>\n",
       "    <tr>\n",
       "      <th>0</th>\n",
       "      <td>039 - EXTRACRANIAL PROCEDURES W/O CC/MCC</td>\n",
       "      <td>ABBOTT NORTHWESTERN HOSPITAL</td>\n",
       "      <td>27026.166671</td>\n",
       "    </tr>\n",
       "    <tr>\n",
       "      <th>1</th>\n",
       "      <td>039 - EXTRACRANIAL PROCEDURES W/O CC/MCC</td>\n",
       "      <td>ABILENE REGIONAL MEDICAL CENTER</td>\n",
       "      <td>29293.857146</td>\n",
       "    </tr>\n",
       "    <tr>\n",
       "      <th>2</th>\n",
       "      <td>039 - EXTRACRANIAL PROCEDURES W/O CC/MCC</td>\n",
       "      <td>ABINGTON MEMORIAL HOSPITAL</td>\n",
       "      <td>33207.235299</td>\n",
       "    </tr>\n",
       "    <tr>\n",
       "      <th>3</th>\n",
       "      <td>039 - EXTRACRANIAL PROCEDURES W/O CC/MCC</td>\n",
       "      <td>ADENA REGIONAL MEDICAL CENTER</td>\n",
       "      <td>16247.499998</td>\n",
       "    </tr>\n",
       "    <tr>\n",
       "      <th>4</th>\n",
       "      <td>039 - EXTRACRANIAL PROCEDURES W/O CC/MCC</td>\n",
       "      <td>ADVENTIST LA GRANGE MEMORIAL HOSPITAL</td>\n",
       "      <td>30415.357141</td>\n",
       "    </tr>\n",
       "  </tbody>\n",
       "</table>\n",
       "</div>"
      ],
      "text/plain": [
       "                             DRG Definition  \\\n",
       "0  039 - EXTRACRANIAL PROCEDURES W/O CC/MCC   \n",
       "1  039 - EXTRACRANIAL PROCEDURES W/O CC/MCC   \n",
       "2  039 - EXTRACRANIAL PROCEDURES W/O CC/MCC   \n",
       "3  039 - EXTRACRANIAL PROCEDURES W/O CC/MCC   \n",
       "4  039 - EXTRACRANIAL PROCEDURES W/O CC/MCC   \n",
       "\n",
       "                           Provider Name  CLAIM_DIFF_avg  \n",
       "0           ABBOTT NORTHWESTERN HOSPITAL    27026.166671  \n",
       "1        ABILENE REGIONAL MEDICAL CENTER    29293.857146  \n",
       "2             ABINGTON MEMORIAL HOSPITAL    33207.235299  \n",
       "3          ADENA REGIONAL MEDICAL CENTER    16247.499998  \n",
       "4  ADVENTIST LA GRANGE MEMORIAL HOSPITAL    30415.357141  "
      ]
     },
     "execution_count": 98,
     "metadata": {},
     "output_type": "execute_result"
    }
   ],
   "source": [
    "Medicare_IN_AGG .head()"
   ]
  },
  {
   "cell_type": "code",
   "execution_count": 99,
   "metadata": {
    "collapsed": true
   },
   "outputs": [],
   "source": [
    "#Finding the max for InpatientDRG DRG Definition\n",
    "Medicare_IN_MAX = pd.DataFrame(Medicare_IN_AGG[['DRG Definition', 'CLAIM_DIFF_avg']].groupby(['DRG Definition']).agg('max').add_suffix('_max'))"
   ]
  },
  {
   "cell_type": "code",
   "execution_count": 100,
   "metadata": {
    "collapsed": true
   },
   "outputs": [],
   "source": [
    "Medicare_IN_MAX = Medicare_IN_MAX.reset_index()"
   ]
  },
  {
   "cell_type": "code",
   "execution_count": 101,
   "metadata": {},
   "outputs": [
    {
     "data": {
      "text/html": [
       "<div>\n",
       "<style>\n",
       "    .dataframe thead tr:only-child th {\n",
       "        text-align: right;\n",
       "    }\n",
       "\n",
       "    .dataframe thead th {\n",
       "        text-align: left;\n",
       "    }\n",
       "\n",
       "    .dataframe tbody tr th {\n",
       "        vertical-align: top;\n",
       "    }\n",
       "</style>\n",
       "<table border=\"1\" class=\"dataframe\">\n",
       "  <thead>\n",
       "    <tr style=\"text-align: right;\">\n",
       "      <th></th>\n",
       "      <th>DRG Definition</th>\n",
       "      <th>CLAIM_DIFF_avg_max</th>\n",
       "    </tr>\n",
       "  </thead>\n",
       "  <tbody>\n",
       "    <tr>\n",
       "      <th>0</th>\n",
       "      <td>039 - EXTRACRANIAL PROCEDURES W/O CC/MCC</td>\n",
       "      <td>135377.61538</td>\n",
       "    </tr>\n",
       "    <tr>\n",
       "      <th>1</th>\n",
       "      <td>057 - DEGENERATIVE NERVOUS SYSTEM DISORDERS W/...</td>\n",
       "      <td>122609.00000</td>\n",
       "    </tr>\n",
       "    <tr>\n",
       "      <th>2</th>\n",
       "      <td>064 - INTRACRANIAL HEMORRHAGE OR CEREBRAL INFA...</td>\n",
       "      <td>214346.92103</td>\n",
       "    </tr>\n",
       "    <tr>\n",
       "      <th>3</th>\n",
       "      <td>065 - INTRACRANIAL HEMORRHAGE OR CEREBRAL INFA...</td>\n",
       "      <td>144842.08333</td>\n",
       "    </tr>\n",
       "    <tr>\n",
       "      <th>4</th>\n",
       "      <td>066 - INTRACRANIAL HEMORRHAGE OR CEREBRAL INFA...</td>\n",
       "      <td>109535.14290</td>\n",
       "    </tr>\n",
       "  </tbody>\n",
       "</table>\n",
       "</div>"
      ],
      "text/plain": [
       "                                      DRG Definition  CLAIM_DIFF_avg_max\n",
       "0           039 - EXTRACRANIAL PROCEDURES W/O CC/MCC        135377.61538\n",
       "1  057 - DEGENERATIVE NERVOUS SYSTEM DISORDERS W/...        122609.00000\n",
       "2  064 - INTRACRANIAL HEMORRHAGE OR CEREBRAL INFA...        214346.92103\n",
       "3  065 - INTRACRANIAL HEMORRHAGE OR CEREBRAL INFA...        144842.08333\n",
       "4  066 - INTRACRANIAL HEMORRHAGE OR CEREBRAL INFA...        109535.14290"
      ]
     },
     "execution_count": 101,
     "metadata": {},
     "output_type": "execute_result"
    }
   ],
   "source": [
    "Medicare_IN_MAX.head()"
   ]
  },
  {
   "cell_type": "code",
   "execution_count": 102,
   "metadata": {
    "collapsed": true
   },
   "outputs": [],
   "source": [
    "#Merging The mean and max - will give side by side comparison of region having highest claim difference\n",
    "Medicare_IN_MERGE = Medicare_IN_AGG.merge(Medicare_IN_MAX,on='DRG Definition', how='left')"
   ]
  },
  {
   "cell_type": "code",
   "execution_count": 103,
   "metadata": {
    "collapsed": true
   },
   "outputs": [],
   "source": [
    "Medicare_IN_MERGE = Medicare_IN_MERGE.reset_index()"
   ]
  },
  {
   "cell_type": "code",
   "execution_count": 104,
   "metadata": {},
   "outputs": [
    {
     "data": {
      "text/html": [
       "<div>\n",
       "<style>\n",
       "    .dataframe thead tr:only-child th {\n",
       "        text-align: right;\n",
       "    }\n",
       "\n",
       "    .dataframe thead th {\n",
       "        text-align: left;\n",
       "    }\n",
       "\n",
       "    .dataframe tbody tr th {\n",
       "        vertical-align: top;\n",
       "    }\n",
       "</style>\n",
       "<table border=\"1\" class=\"dataframe\">\n",
       "  <thead>\n",
       "    <tr style=\"text-align: right;\">\n",
       "      <th></th>\n",
       "      <th>index</th>\n",
       "      <th>DRG Definition</th>\n",
       "      <th>Provider Name</th>\n",
       "      <th>CLAIM_DIFF_avg</th>\n",
       "      <th>CLAIM_DIFF_avg_max</th>\n",
       "    </tr>\n",
       "  </thead>\n",
       "  <tbody>\n",
       "    <tr>\n",
       "      <th>0</th>\n",
       "      <td>0</td>\n",
       "      <td>039 - EXTRACRANIAL PROCEDURES W/O CC/MCC</td>\n",
       "      <td>ABBOTT NORTHWESTERN HOSPITAL</td>\n",
       "      <td>27026.166671</td>\n",
       "      <td>135377.61538</td>\n",
       "    </tr>\n",
       "    <tr>\n",
       "      <th>1</th>\n",
       "      <td>1</td>\n",
       "      <td>039 - EXTRACRANIAL PROCEDURES W/O CC/MCC</td>\n",
       "      <td>ABILENE REGIONAL MEDICAL CENTER</td>\n",
       "      <td>29293.857146</td>\n",
       "      <td>135377.61538</td>\n",
       "    </tr>\n",
       "    <tr>\n",
       "      <th>2</th>\n",
       "      <td>2</td>\n",
       "      <td>039 - EXTRACRANIAL PROCEDURES W/O CC/MCC</td>\n",
       "      <td>ABINGTON MEMORIAL HOSPITAL</td>\n",
       "      <td>33207.235299</td>\n",
       "      <td>135377.61538</td>\n",
       "    </tr>\n",
       "    <tr>\n",
       "      <th>3</th>\n",
       "      <td>3</td>\n",
       "      <td>039 - EXTRACRANIAL PROCEDURES W/O CC/MCC</td>\n",
       "      <td>ADENA REGIONAL MEDICAL CENTER</td>\n",
       "      <td>16247.499998</td>\n",
       "      <td>135377.61538</td>\n",
       "    </tr>\n",
       "    <tr>\n",
       "      <th>4</th>\n",
       "      <td>4</td>\n",
       "      <td>039 - EXTRACRANIAL PROCEDURES W/O CC/MCC</td>\n",
       "      <td>ADVENTIST LA GRANGE MEMORIAL HOSPITAL</td>\n",
       "      <td>30415.357141</td>\n",
       "      <td>135377.61538</td>\n",
       "    </tr>\n",
       "  </tbody>\n",
       "</table>\n",
       "</div>"
      ],
      "text/plain": [
       "   index                            DRG Definition  \\\n",
       "0      0  039 - EXTRACRANIAL PROCEDURES W/O CC/MCC   \n",
       "1      1  039 - EXTRACRANIAL PROCEDURES W/O CC/MCC   \n",
       "2      2  039 - EXTRACRANIAL PROCEDURES W/O CC/MCC   \n",
       "3      3  039 - EXTRACRANIAL PROCEDURES W/O CC/MCC   \n",
       "4      4  039 - EXTRACRANIAL PROCEDURES W/O CC/MCC   \n",
       "\n",
       "                           Provider Name  CLAIM_DIFF_avg  CLAIM_DIFF_avg_max  \n",
       "0           ABBOTT NORTHWESTERN HOSPITAL    27026.166671        135377.61538  \n",
       "1        ABILENE REGIONAL MEDICAL CENTER    29293.857146        135377.61538  \n",
       "2             ABINGTON MEMORIAL HOSPITAL    33207.235299        135377.61538  \n",
       "3          ADENA REGIONAL MEDICAL CENTER    16247.499998        135377.61538  \n",
       "4  ADVENTIST LA GRANGE MEMORIAL HOSPITAL    30415.357141        135377.61538  "
      ]
     },
     "execution_count": 104,
     "metadata": {},
     "output_type": "execute_result"
    }
   ],
   "source": [
    "Medicare_IN_MERGE.head()"
   ]
  },
  {
   "cell_type": "code",
   "execution_count": 105,
   "metadata": {
    "collapsed": true
   },
   "outputs": [],
   "source": [
    "#function to get the max indicator\n",
    "def difftyp(Medicare_IN_MERGE):\n",
    "    if ((Medicare_IN_MERGE['CLAIM_DIFF_avg'] == Medicare_IN_MERGE['CLAIM_DIFF_avg_max'])):\n",
    "        return 1\n",
    "    elif ((Medicare_IN_MERGE['CLAIM_DIFF_avg'] > Medicare_IN_MERGE['CLAIM_DIFF_avg_max'])):\n",
    "        return 1\n",
    "    else:\n",
    "        return 0"
   ]
  },
  {
   "cell_type": "code",
   "execution_count": 106,
   "metadata": {
    "collapsed": true
   },
   "outputs": [],
   "source": [
    "Medicare_IN_MERGE['MAX'] = Medicare_IN_MERGE.apply(difftyp, axis=1)"
   ]
  },
  {
   "cell_type": "code",
   "execution_count": 107,
   "metadata": {},
   "outputs": [
    {
     "data": {
      "text/html": [
       "<div>\n",
       "<style>\n",
       "    .dataframe thead tr:only-child th {\n",
       "        text-align: right;\n",
       "    }\n",
       "\n",
       "    .dataframe thead th {\n",
       "        text-align: left;\n",
       "    }\n",
       "\n",
       "    .dataframe tbody tr th {\n",
       "        vertical-align: top;\n",
       "    }\n",
       "</style>\n",
       "<table border=\"1\" class=\"dataframe\">\n",
       "  <thead>\n",
       "    <tr style=\"text-align: right;\">\n",
       "      <th></th>\n",
       "      <th>index</th>\n",
       "      <th>DRG Definition</th>\n",
       "      <th>Provider Name</th>\n",
       "      <th>CLAIM_DIFF_avg</th>\n",
       "      <th>CLAIM_DIFF_avg_max</th>\n",
       "      <th>MAX</th>\n",
       "    </tr>\n",
       "  </thead>\n",
       "  <tbody>\n",
       "    <tr>\n",
       "      <th>980</th>\n",
       "      <td>980</td>\n",
       "      <td>039 - EXTRACRANIAL PROCEDURES W/O CC/MCC</td>\n",
       "      <td>UNIVERSITY OF CALIFORNIA DAVIS MEDICAL CENTER</td>\n",
       "      <td>135377.61538</td>\n",
       "      <td>135377.61538</td>\n",
       "      <td>1</td>\n",
       "    </tr>\n",
       "    <tr>\n",
       "      <th>2048</th>\n",
       "      <td>2048</td>\n",
       "      <td>057 - DEGENERATIVE NERVOUS SYSTEM DISORDERS W/...</td>\n",
       "      <td>STANFORD HOSPITAL</td>\n",
       "      <td>122609.00000</td>\n",
       "      <td>122609.00000</td>\n",
       "      <td>1</td>\n",
       "    </tr>\n",
       "    <tr>\n",
       "      <th>2533</th>\n",
       "      <td>2533</td>\n",
       "      <td>064 - INTRACRANIAL HEMORRHAGE OR CEREBRAL INFA...</td>\n",
       "      <td>DOCTORS MEDICAL CENTER</td>\n",
       "      <td>214346.92103</td>\n",
       "      <td>214346.92103</td>\n",
       "      <td>1</td>\n",
       "    </tr>\n",
       "    <tr>\n",
       "      <th>3953</th>\n",
       "      <td>3953</td>\n",
       "      <td>065 - INTRACRANIAL HEMORRHAGE OR CEREBRAL INFA...</td>\n",
       "      <td>BAYONNE HOSPITAL CENTER</td>\n",
       "      <td>144842.08333</td>\n",
       "      <td>144842.08333</td>\n",
       "      <td>1</td>\n",
       "    </tr>\n",
       "    <tr>\n",
       "      <th>6514</th>\n",
       "      <td>6514</td>\n",
       "      <td>066 - INTRACRANIAL HEMORRHAGE OR CEREBRAL INFA...</td>\n",
       "      <td>HAHNEMANN UNIVERSITY HOSPITAL</td>\n",
       "      <td>109535.14290</td>\n",
       "      <td>109535.14290</td>\n",
       "      <td>1</td>\n",
       "    </tr>\n",
       "  </tbody>\n",
       "</table>\n",
       "</div>"
      ],
      "text/plain": [
       "      index                                     DRG Definition  \\\n",
       "980     980           039 - EXTRACRANIAL PROCEDURES W/O CC/MCC   \n",
       "2048   2048  057 - DEGENERATIVE NERVOUS SYSTEM DISORDERS W/...   \n",
       "2533   2533  064 - INTRACRANIAL HEMORRHAGE OR CEREBRAL INFA...   \n",
       "3953   3953  065 - INTRACRANIAL HEMORRHAGE OR CEREBRAL INFA...   \n",
       "6514   6514  066 - INTRACRANIAL HEMORRHAGE OR CEREBRAL INFA...   \n",
       "\n",
       "                                      Provider Name  CLAIM_DIFF_avg  \\\n",
       "980   UNIVERSITY OF CALIFORNIA DAVIS MEDICAL CENTER    135377.61538   \n",
       "2048                              STANFORD HOSPITAL    122609.00000   \n",
       "2533                         DOCTORS MEDICAL CENTER    214346.92103   \n",
       "3953                        BAYONNE HOSPITAL CENTER    144842.08333   \n",
       "6514                  HAHNEMANN UNIVERSITY HOSPITAL    109535.14290   \n",
       "\n",
       "      CLAIM_DIFF_avg_max  MAX  \n",
       "980         135377.61538    1  \n",
       "2048        122609.00000    1  \n",
       "2533        214346.92103    1  \n",
       "3953        144842.08333    1  \n",
       "6514        109535.14290    1  "
      ]
     },
     "execution_count": 107,
     "metadata": {},
     "output_type": "execute_result"
    }
   ],
   "source": [
    "Medicare_IN_MERGE[Medicare_IN_MERGE['MAX'] == 1].head()"
   ]
  },
  {
   "cell_type": "code",
   "execution_count": 108,
   "metadata": {
    "collapsed": true
   },
   "outputs": [],
   "source": [
    "#getting number of times a provider has max claim diff for max procudures\n",
    "Medicare_IN_MERGE_GROUPED = pd.DataFrame(Medicare_IN_MERGE[['Provider Name','MAX']].groupby(['Provider Name']).agg('sum').add_suffix('_sum'),)"
   ]
  },
  {
   "cell_type": "code",
   "execution_count": 109,
   "metadata": {},
   "outputs": [
    {
     "data": {
      "text/plain": [
       "Provider Name\n",
       "BAYONNE HOSPITAL CENTER          29\n",
       "CROZER CHESTER MEDICAL CENTER    12\n",
       "HAHNEMANN UNIVERSITY HOSPITAL     8\n",
       "Name: MAX_sum, dtype: int64"
      ]
     },
     "execution_count": 109,
     "metadata": {},
     "output_type": "execute_result"
    }
   ],
   "source": [
    "Medicare_IN_MERGE_GROUPED['MAX_sum'].nlargest(3)"
   ]
  },
  {
   "cell_type": "markdown",
   "metadata": {},
   "source": [
    "#### OutPatientsAPC"
   ]
  },
  {
   "cell_type": "markdown",
   "metadata": {},
   "source": [
    "    Considering -\n",
    "    Average Estimated Submitted Charges as Claims\n",
    "    Average Total Payments as Reimbursement"
   ]
  },
  {
   "cell_type": "code",
   "execution_count": 129,
   "metadata": {},
   "outputs": [
    {
     "data": {
      "text/html": [
       "<div>\n",
       "<style>\n",
       "    .dataframe thead tr:only-child th {\n",
       "        text-align: right;\n",
       "    }\n",
       "\n",
       "    .dataframe thead th {\n",
       "        text-align: left;\n",
       "    }\n",
       "\n",
       "    .dataframe tbody tr th {\n",
       "        vertical-align: top;\n",
       "    }\n",
       "</style>\n",
       "<table border=\"1\" class=\"dataframe\">\n",
       "  <thead>\n",
       "    <tr style=\"text-align: right;\">\n",
       "      <th></th>\n",
       "      <th>APC</th>\n",
       "      <th>Provider Id</th>\n",
       "      <th>Provider Name</th>\n",
       "      <th>Provider Street Address</th>\n",
       "      <th>Provider City</th>\n",
       "      <th>Provider State</th>\n",
       "      <th>Provider Zip Code</th>\n",
       "      <th>Hospital Referral Region (HRR) Description</th>\n",
       "      <th>Outpatient Services</th>\n",
       "      <th>Average  Estimated Submitted Charges</th>\n",
       "      <th>Average Total Payments</th>\n",
       "    </tr>\n",
       "  </thead>\n",
       "  <tbody>\n",
       "    <tr>\n",
       "      <th>0</th>\n",
       "      <td>0012 - Level I Debridement &amp; Destruction</td>\n",
       "      <td>10029</td>\n",
       "      <td>EAST ALABAMA MEDICAL CENTER AND SNF</td>\n",
       "      <td>2000 PEPPERELL PARKWAY</td>\n",
       "      <td>OPELIKA</td>\n",
       "      <td>AL</td>\n",
       "      <td>36801</td>\n",
       "      <td>AL - Birmingham</td>\n",
       "      <td>23</td>\n",
       "      <td>78.086957</td>\n",
       "      <td>21.910435</td>\n",
       "    </tr>\n",
       "    <tr>\n",
       "      <th>1</th>\n",
       "      <td>0012 - Level I Debridement &amp; Destruction</td>\n",
       "      <td>20024</td>\n",
       "      <td>CENTRAL PENINSULA GENERAL HOSPITAL</td>\n",
       "      <td>250 HOSPITAL PLACE</td>\n",
       "      <td>SOLDOTNA</td>\n",
       "      <td>AK</td>\n",
       "      <td>99669</td>\n",
       "      <td>AK - Anchorage</td>\n",
       "      <td>994</td>\n",
       "      <td>149.589749</td>\n",
       "      <td>36.623853</td>\n",
       "    </tr>\n",
       "    <tr>\n",
       "      <th>2</th>\n",
       "      <td>0012 - Level I Debridement &amp; Destruction</td>\n",
       "      <td>30064</td>\n",
       "      <td>UNIVERSITY OF ARIZONA MEDICAL CTR-UNIVERSIT, THE</td>\n",
       "      <td>1501 NORTH CAMPBELL AVENUE</td>\n",
       "      <td>TUCSON</td>\n",
       "      <td>AZ</td>\n",
       "      <td>85724</td>\n",
       "      <td>AZ - Tucson</td>\n",
       "      <td>1765</td>\n",
       "      <td>50.135411</td>\n",
       "      <td>14.541841</td>\n",
       "    </tr>\n",
       "    <tr>\n",
       "      <th>3</th>\n",
       "      <td>0012 - Level I Debridement &amp; Destruction</td>\n",
       "      <td>30088</td>\n",
       "      <td>BANNER BAYWOOD MEDICAL CENTER</td>\n",
       "      <td>6644 EAST BAYWOOD AVENUE</td>\n",
       "      <td>MESA</td>\n",
       "      <td>AZ</td>\n",
       "      <td>85206</td>\n",
       "      <td>AZ - Mesa</td>\n",
       "      <td>20</td>\n",
       "      <td>112.400000</td>\n",
       "      <td>23.736000</td>\n",
       "    </tr>\n",
       "    <tr>\n",
       "      <th>4</th>\n",
       "      <td>0012 - Level I Debridement &amp; Destruction</td>\n",
       "      <td>30111</td>\n",
       "      <td>UNIVERSITY OF ARIZONA MEDICAL CTR- SOUTH CAM, THE</td>\n",
       "      <td>2800 EAST AJO WAY</td>\n",
       "      <td>TUCSON</td>\n",
       "      <td>AZ</td>\n",
       "      <td>85713</td>\n",
       "      <td>AZ - Tucson</td>\n",
       "      <td>22</td>\n",
       "      <td>152.045455</td>\n",
       "      <td>16.569091</td>\n",
       "    </tr>\n",
       "  </tbody>\n",
       "</table>\n",
       "</div>"
      ],
      "text/plain": [
       "                                        APC  Provider Id  \\\n",
       "0  0012 - Level I Debridement & Destruction        10029   \n",
       "1  0012 - Level I Debridement & Destruction        20024   \n",
       "2  0012 - Level I Debridement & Destruction        30064   \n",
       "3  0012 - Level I Debridement & Destruction        30088   \n",
       "4  0012 - Level I Debridement & Destruction        30111   \n",
       "\n",
       "                                       Provider Name  \\\n",
       "0                EAST ALABAMA MEDICAL CENTER AND SNF   \n",
       "1                 CENTRAL PENINSULA GENERAL HOSPITAL   \n",
       "2   UNIVERSITY OF ARIZONA MEDICAL CTR-UNIVERSIT, THE   \n",
       "3                      BANNER BAYWOOD MEDICAL CENTER   \n",
       "4  UNIVERSITY OF ARIZONA MEDICAL CTR- SOUTH CAM, THE   \n",
       "\n",
       "      Provider Street Address Provider City Provider State  Provider Zip Code  \\\n",
       "0      2000 PEPPERELL PARKWAY       OPELIKA             AL              36801   \n",
       "1          250 HOSPITAL PLACE      SOLDOTNA             AK              99669   \n",
       "2  1501 NORTH CAMPBELL AVENUE        TUCSON             AZ              85724   \n",
       "3    6644 EAST BAYWOOD AVENUE          MESA             AZ              85206   \n",
       "4           2800 EAST AJO WAY        TUCSON             AZ              85713   \n",
       "\n",
       "  Hospital Referral Region (HRR) Description  Outpatient Services  \\\n",
       "0                            AL - Birmingham                   23   \n",
       "1                             AK - Anchorage                  994   \n",
       "2                                AZ - Tucson                 1765   \n",
       "3                                  AZ - Mesa                   20   \n",
       "4                                AZ - Tucson                   22   \n",
       "\n",
       "   Average  Estimated Submitted Charges  Average Total Payments  \n",
       "0                             78.086957               21.910435  \n",
       "1                            149.589749               36.623853  \n",
       "2                             50.135411               14.541841  \n",
       "3                            112.400000               23.736000  \n",
       "4                            152.045455               16.569091  "
      ]
     },
     "execution_count": 129,
     "metadata": {},
     "output_type": "execute_result"
    }
   ],
   "source": [
    "Medicare_Provider_Charge_Out.head()"
   ]
  },
  {
   "cell_type": "code",
   "execution_count": 130,
   "metadata": {},
   "outputs": [
    {
     "data": {
      "text/plain": [
       "Index([u'APC', u'Provider Id', u'Provider Name', u'Provider Street Address',\n",
       "       u'Provider City', u'Provider State', u'Provider Zip Code',\n",
       "       u'Hospital Referral Region (HRR) Description', u'Outpatient Services',\n",
       "       u'Average  Estimated Submitted Charges', u'Average Total Payments'],\n",
       "      dtype='object')"
      ]
     },
     "execution_count": 130,
     "metadata": {},
     "output_type": "execute_result"
    }
   ],
   "source": [
    "Medicare_Provider_Charge_Out.columns"
   ]
  },
  {
   "cell_type": "code",
   "execution_count": 131,
   "metadata": {
    "collapsed": true
   },
   "outputs": [],
   "source": [
    "Medicare_Out_DRG = Medicare_Provider_Charge_Out[['APC', 'Provider Name', 'Average  Estimated Submitted Charges', 'Average Total Payments' ]]"
   ]
  },
  {
   "cell_type": "code",
   "execution_count": 132,
   "metadata": {},
   "outputs": [
    {
     "name": "stderr",
     "output_type": "stream",
     "text": [
      "C:\\Users\\lenovo\\AppData\\Local\\Continuum\\anaconda2\\lib\\site-packages\\ipykernel_launcher.py:2: SettingWithCopyWarning: \n",
      "A value is trying to be set on a copy of a slice from a DataFrame.\n",
      "Try using .loc[row_indexer,col_indexer] = value instead\n",
      "\n",
      "See the caveats in the documentation: http://pandas.pydata.org/pandas-docs/stable/indexing.html#indexing-view-versus-copy\n",
      "  \n"
     ]
    }
   ],
   "source": [
    "#Difference of claim and reimbursement\n",
    "Medicare_Out_DRG['CLAIM_DIFF'] = Medicare_Out_DRG.apply(lambda x: x['Average  Estimated Submitted Charges'] - x['Average Total Payments'],axis =1)"
   ]
  },
  {
   "cell_type": "code",
   "execution_count": 133,
   "metadata": {},
   "outputs": [
    {
     "data": {
      "text/html": [
       "<div>\n",
       "<style>\n",
       "    .dataframe thead tr:only-child th {\n",
       "        text-align: right;\n",
       "    }\n",
       "\n",
       "    .dataframe thead th {\n",
       "        text-align: left;\n",
       "    }\n",
       "\n",
       "    .dataframe tbody tr th {\n",
       "        vertical-align: top;\n",
       "    }\n",
       "</style>\n",
       "<table border=\"1\" class=\"dataframe\">\n",
       "  <thead>\n",
       "    <tr style=\"text-align: right;\">\n",
       "      <th></th>\n",
       "      <th>APC</th>\n",
       "      <th>Provider Name</th>\n",
       "      <th>Average  Estimated Submitted Charges</th>\n",
       "      <th>Average Total Payments</th>\n",
       "      <th>CLAIM_DIFF</th>\n",
       "    </tr>\n",
       "  </thead>\n",
       "  <tbody>\n",
       "    <tr>\n",
       "      <th>0</th>\n",
       "      <td>0012 - Level I Debridement &amp; Destruction</td>\n",
       "      <td>EAST ALABAMA MEDICAL CENTER AND SNF</td>\n",
       "      <td>78.086957</td>\n",
       "      <td>21.910435</td>\n",
       "      <td>56.176522</td>\n",
       "    </tr>\n",
       "  </tbody>\n",
       "</table>\n",
       "</div>"
      ],
      "text/plain": [
       "                                        APC  \\\n",
       "0  0012 - Level I Debridement & Destruction   \n",
       "\n",
       "                         Provider Name  Average  Estimated Submitted Charges  \\\n",
       "0  EAST ALABAMA MEDICAL CENTER AND SNF                             78.086957   \n",
       "\n",
       "   Average Total Payments  CLAIM_DIFF  \n",
       "0               21.910435   56.176522  "
      ]
     },
     "execution_count": 133,
     "metadata": {},
     "output_type": "execute_result"
    }
   ],
   "source": [
    "Medicare_Out_DRG.head(1)"
   ]
  },
  {
   "cell_type": "code",
   "execution_count": 134,
   "metadata": {
    "collapsed": true
   },
   "outputs": [],
   "source": [
    "#Finding the mean of Average Covered Charges for InpatientDRG by DRG Defination and Provider\n",
    "Medicare_Out_AGG = pd.DataFrame(Medicare_Out_DRG[['APC', 'Provider Name', 'CLAIM_DIFF']].groupby(['APC', 'Provider Name']).agg('mean').add_suffix('_avg'))"
   ]
  },
  {
   "cell_type": "code",
   "execution_count": 135,
   "metadata": {
    "collapsed": true
   },
   "outputs": [],
   "source": [
    "Medicare_Out_AGG = Medicare_Out_AGG.reset_index()"
   ]
  },
  {
   "cell_type": "code",
   "execution_count": 136,
   "metadata": {},
   "outputs": [
    {
     "data": {
      "text/html": [
       "<div>\n",
       "<style>\n",
       "    .dataframe thead tr:only-child th {\n",
       "        text-align: right;\n",
       "    }\n",
       "\n",
       "    .dataframe thead th {\n",
       "        text-align: left;\n",
       "    }\n",
       "\n",
       "    .dataframe tbody tr th {\n",
       "        vertical-align: top;\n",
       "    }\n",
       "</style>\n",
       "<table border=\"1\" class=\"dataframe\">\n",
       "  <thead>\n",
       "    <tr style=\"text-align: right;\">\n",
       "      <th></th>\n",
       "      <th>APC</th>\n",
       "      <th>Provider Name</th>\n",
       "      <th>CLAIM_DIFF_avg</th>\n",
       "    </tr>\n",
       "  </thead>\n",
       "  <tbody>\n",
       "    <tr>\n",
       "      <th>0</th>\n",
       "      <td>0012 - Level I Debridement &amp; Destruction</td>\n",
       "      <td>ALTON MEMORIAL HOSPITAL</td>\n",
       "      <td>91.856818</td>\n",
       "    </tr>\n",
       "    <tr>\n",
       "      <th>1</th>\n",
       "      <td>0012 - Level I Debridement &amp; Destruction</td>\n",
       "      <td>ALTRU HOSPITAL</td>\n",
       "      <td>7.259495</td>\n",
       "    </tr>\n",
       "    <tr>\n",
       "      <th>2</th>\n",
       "      <td>0012 - Level I Debridement &amp; Destruction</td>\n",
       "      <td>ARNOT OGDEN MEDICAL CENTER</td>\n",
       "      <td>98.893846</td>\n",
       "    </tr>\n",
       "    <tr>\n",
       "      <th>3</th>\n",
       "      <td>0012 - Level I Debridement &amp; Destruction</td>\n",
       "      <td>AROOSTOOK MEDICAL CENTER,THE</td>\n",
       "      <td>16.975013</td>\n",
       "    </tr>\n",
       "    <tr>\n",
       "      <th>4</th>\n",
       "      <td>0012 - Level I Debridement &amp; Destruction</td>\n",
       "      <td>AVERA MCKENNAN HOSPITAL &amp; UNIVERSITY HEALTH CE...</td>\n",
       "      <td>22.306715</td>\n",
       "    </tr>\n",
       "  </tbody>\n",
       "</table>\n",
       "</div>"
      ],
      "text/plain": [
       "                                        APC  \\\n",
       "0  0012 - Level I Debridement & Destruction   \n",
       "1  0012 - Level I Debridement & Destruction   \n",
       "2  0012 - Level I Debridement & Destruction   \n",
       "3  0012 - Level I Debridement & Destruction   \n",
       "4  0012 - Level I Debridement & Destruction   \n",
       "\n",
       "                                       Provider Name  CLAIM_DIFF_avg  \n",
       "0                            ALTON MEMORIAL HOSPITAL       91.856818  \n",
       "1                                     ALTRU HOSPITAL        7.259495  \n",
       "2                         ARNOT OGDEN MEDICAL CENTER       98.893846  \n",
       "3                       AROOSTOOK MEDICAL CENTER,THE       16.975013  \n",
       "4  AVERA MCKENNAN HOSPITAL & UNIVERSITY HEALTH CE...       22.306715  "
      ]
     },
     "execution_count": 136,
     "metadata": {},
     "output_type": "execute_result"
    }
   ],
   "source": [
    "Medicare_Out_AGG .head()"
   ]
  },
  {
   "cell_type": "code",
   "execution_count": 137,
   "metadata": {
    "collapsed": true
   },
   "outputs": [],
   "source": [
    "#Finding the max for InpatientDRG DRG Definition\n",
    "Medicare_Out_MAX = pd.DataFrame(Medicare_Out_AGG[['APC', 'CLAIM_DIFF_avg']].groupby(['APC']).agg('max').add_suffix('_max'))"
   ]
  },
  {
   "cell_type": "code",
   "execution_count": 138,
   "metadata": {
    "collapsed": true
   },
   "outputs": [],
   "source": [
    "Medicare_Out_MAX = Medicare_Out_MAX.reset_index()"
   ]
  },
  {
   "cell_type": "code",
   "execution_count": 139,
   "metadata": {},
   "outputs": [
    {
     "data": {
      "text/html": [
       "<div>\n",
       "<style>\n",
       "    .dataframe thead tr:only-child th {\n",
       "        text-align: right;\n",
       "    }\n",
       "\n",
       "    .dataframe thead th {\n",
       "        text-align: left;\n",
       "    }\n",
       "\n",
       "    .dataframe tbody tr th {\n",
       "        vertical-align: top;\n",
       "    }\n",
       "</style>\n",
       "<table border=\"1\" class=\"dataframe\">\n",
       "  <thead>\n",
       "    <tr style=\"text-align: right;\">\n",
       "      <th></th>\n",
       "      <th>APC</th>\n",
       "      <th>CLAIM_DIFF_avg_max</th>\n",
       "    </tr>\n",
       "  </thead>\n",
       "  <tbody>\n",
       "    <tr>\n",
       "      <th>0</th>\n",
       "      <td>0012 - Level I Debridement &amp; Destruction</td>\n",
       "      <td>827.44000</td>\n",
       "    </tr>\n",
       "    <tr>\n",
       "      <th>1</th>\n",
       "      <td>0013 - Level II Debridement &amp; Destruction</td>\n",
       "      <td>5175.40000</td>\n",
       "    </tr>\n",
       "    <tr>\n",
       "      <th>2</th>\n",
       "      <td>0015 - Level III Debridement &amp; Destruction</td>\n",
       "      <td>2980.73963</td>\n",
       "    </tr>\n",
       "    <tr>\n",
       "      <th>3</th>\n",
       "      <td>0019 - Level I Excision/ Biopsy</td>\n",
       "      <td>26073.80500</td>\n",
       "    </tr>\n",
       "    <tr>\n",
       "      <th>4</th>\n",
       "      <td>0020 - Level II Excision/ Biopsy</td>\n",
       "      <td>18362.75882</td>\n",
       "    </tr>\n",
       "  </tbody>\n",
       "</table>\n",
       "</div>"
      ],
      "text/plain": [
       "                                          APC  CLAIM_DIFF_avg_max\n",
       "0    0012 - Level I Debridement & Destruction           827.44000\n",
       "1   0013 - Level II Debridement & Destruction          5175.40000\n",
       "2  0015 - Level III Debridement & Destruction          2980.73963\n",
       "3             0019 - Level I Excision/ Biopsy         26073.80500\n",
       "4            0020 - Level II Excision/ Biopsy         18362.75882"
      ]
     },
     "execution_count": 139,
     "metadata": {},
     "output_type": "execute_result"
    }
   ],
   "source": [
    "Medicare_Out_MAX.head()"
   ]
  },
  {
   "cell_type": "code",
   "execution_count": 140,
   "metadata": {
    "collapsed": true
   },
   "outputs": [],
   "source": [
    "#Merging The mean and max - will give side by side comparison of region having highest claim difference\n",
    "Medicare_Out_MERGE = Medicare_Out_AGG.merge(Medicare_Out_MAX,on='APC', how='left')"
   ]
  },
  {
   "cell_type": "code",
   "execution_count": 141,
   "metadata": {
    "collapsed": true
   },
   "outputs": [],
   "source": [
    "Medicare_Out_MERGE = Medicare_Out_MERGE.reset_index()"
   ]
  },
  {
   "cell_type": "code",
   "execution_count": 142,
   "metadata": {},
   "outputs": [
    {
     "data": {
      "text/html": [
       "<div>\n",
       "<style>\n",
       "    .dataframe thead tr:only-child th {\n",
       "        text-align: right;\n",
       "    }\n",
       "\n",
       "    .dataframe thead th {\n",
       "        text-align: left;\n",
       "    }\n",
       "\n",
       "    .dataframe tbody tr th {\n",
       "        vertical-align: top;\n",
       "    }\n",
       "</style>\n",
       "<table border=\"1\" class=\"dataframe\">\n",
       "  <thead>\n",
       "    <tr style=\"text-align: right;\">\n",
       "      <th></th>\n",
       "      <th>index</th>\n",
       "      <th>APC</th>\n",
       "      <th>Provider Name</th>\n",
       "      <th>CLAIM_DIFF_avg</th>\n",
       "      <th>CLAIM_DIFF_avg_max</th>\n",
       "    </tr>\n",
       "  </thead>\n",
       "  <tbody>\n",
       "    <tr>\n",
       "      <th>0</th>\n",
       "      <td>0</td>\n",
       "      <td>0012 - Level I Debridement &amp; Destruction</td>\n",
       "      <td>ALTON MEMORIAL HOSPITAL</td>\n",
       "      <td>91.856818</td>\n",
       "      <td>827.44</td>\n",
       "    </tr>\n",
       "    <tr>\n",
       "      <th>1</th>\n",
       "      <td>1</td>\n",
       "      <td>0012 - Level I Debridement &amp; Destruction</td>\n",
       "      <td>ALTRU HOSPITAL</td>\n",
       "      <td>7.259495</td>\n",
       "      <td>827.44</td>\n",
       "    </tr>\n",
       "    <tr>\n",
       "      <th>2</th>\n",
       "      <td>2</td>\n",
       "      <td>0012 - Level I Debridement &amp; Destruction</td>\n",
       "      <td>ARNOT OGDEN MEDICAL CENTER</td>\n",
       "      <td>98.893846</td>\n",
       "      <td>827.44</td>\n",
       "    </tr>\n",
       "    <tr>\n",
       "      <th>3</th>\n",
       "      <td>3</td>\n",
       "      <td>0012 - Level I Debridement &amp; Destruction</td>\n",
       "      <td>AROOSTOOK MEDICAL CENTER,THE</td>\n",
       "      <td>16.975013</td>\n",
       "      <td>827.44</td>\n",
       "    </tr>\n",
       "    <tr>\n",
       "      <th>4</th>\n",
       "      <td>4</td>\n",
       "      <td>0012 - Level I Debridement &amp; Destruction</td>\n",
       "      <td>AVERA MCKENNAN HOSPITAL &amp; UNIVERSITY HEALTH CE...</td>\n",
       "      <td>22.306715</td>\n",
       "      <td>827.44</td>\n",
       "    </tr>\n",
       "  </tbody>\n",
       "</table>\n",
       "</div>"
      ],
      "text/plain": [
       "   index                                       APC  \\\n",
       "0      0  0012 - Level I Debridement & Destruction   \n",
       "1      1  0012 - Level I Debridement & Destruction   \n",
       "2      2  0012 - Level I Debridement & Destruction   \n",
       "3      3  0012 - Level I Debridement & Destruction   \n",
       "4      4  0012 - Level I Debridement & Destruction   \n",
       "\n",
       "                                       Provider Name  CLAIM_DIFF_avg  \\\n",
       "0                            ALTON MEMORIAL HOSPITAL       91.856818   \n",
       "1                                     ALTRU HOSPITAL        7.259495   \n",
       "2                         ARNOT OGDEN MEDICAL CENTER       98.893846   \n",
       "3                       AROOSTOOK MEDICAL CENTER,THE       16.975013   \n",
       "4  AVERA MCKENNAN HOSPITAL & UNIVERSITY HEALTH CE...       22.306715   \n",
       "\n",
       "   CLAIM_DIFF_avg_max  \n",
       "0              827.44  \n",
       "1              827.44  \n",
       "2              827.44  \n",
       "3              827.44  \n",
       "4              827.44  "
      ]
     },
     "execution_count": 142,
     "metadata": {},
     "output_type": "execute_result"
    }
   ],
   "source": [
    "Medicare_Out_MERGE.head()"
   ]
  },
  {
   "cell_type": "code",
   "execution_count": 143,
   "metadata": {
    "collapsed": true
   },
   "outputs": [],
   "source": [
    "#function to get the max indicator\n",
    "def difftyp(Medicare_Out_MERGE):\n",
    "    if ((Medicare_Out_MERGE['CLAIM_DIFF_avg'] == Medicare_Out_MERGE['CLAIM_DIFF_avg_max'])):\n",
    "        return 1\n",
    "    elif ((Medicare_Out_MERGE['CLAIM_DIFF_avg'] > Medicare_Out_MERGE['CLAIM_DIFF_avg_max'])):\n",
    "        return 1\n",
    "    else:\n",
    "        return 0"
   ]
  },
  {
   "cell_type": "code",
   "execution_count": 144,
   "metadata": {
    "collapsed": true
   },
   "outputs": [],
   "source": [
    "Medicare_Out_MERGE['MAX'] = Medicare_Out_MERGE.apply(difftyp, axis=1)"
   ]
  },
  {
   "cell_type": "code",
   "execution_count": 145,
   "metadata": {},
   "outputs": [
    {
     "data": {
      "text/html": [
       "<div>\n",
       "<style>\n",
       "    .dataframe thead tr:only-child th {\n",
       "        text-align: right;\n",
       "    }\n",
       "\n",
       "    .dataframe thead th {\n",
       "        text-align: left;\n",
       "    }\n",
       "\n",
       "    .dataframe tbody tr th {\n",
       "        vertical-align: top;\n",
       "    }\n",
       "</style>\n",
       "<table border=\"1\" class=\"dataframe\">\n",
       "  <thead>\n",
       "    <tr style=\"text-align: right;\">\n",
       "      <th></th>\n",
       "      <th>index</th>\n",
       "      <th>APC</th>\n",
       "      <th>Provider Name</th>\n",
       "      <th>CLAIM_DIFF_avg</th>\n",
       "      <th>CLAIM_DIFF_avg_max</th>\n",
       "      <th>MAX</th>\n",
       "    </tr>\n",
       "  </thead>\n",
       "  <tbody>\n",
       "    <tr>\n",
       "      <th>152</th>\n",
       "      <td>152</td>\n",
       "      <td>0012 - Level I Debridement &amp; Destruction</td>\n",
       "      <td>NEBRASKA ORTHOPAEDIC HOSPITAL</td>\n",
       "      <td>827.44000</td>\n",
       "      <td>827.44000</td>\n",
       "      <td>1</td>\n",
       "    </tr>\n",
       "    <tr>\n",
       "      <th>1265</th>\n",
       "      <td>1265</td>\n",
       "      <td>0013 - Level II Debridement &amp; Destruction</td>\n",
       "      <td>RUSSELLVILLE HOSPITAL</td>\n",
       "      <td>5175.40000</td>\n",
       "      <td>5175.40000</td>\n",
       "      <td>1</td>\n",
       "    </tr>\n",
       "    <tr>\n",
       "      <th>2703</th>\n",
       "      <td>2703</td>\n",
       "      <td>0015 - Level III Debridement &amp; Destruction</td>\n",
       "      <td>RESEARCH MEDICAL CENTER</td>\n",
       "      <td>2980.73963</td>\n",
       "      <td>2980.73963</td>\n",
       "      <td>1</td>\n",
       "    </tr>\n",
       "    <tr>\n",
       "      <th>3247</th>\n",
       "      <td>3247</td>\n",
       "      <td>0019 - Level I Excision/ Biopsy</td>\n",
       "      <td>CENTINELA HOSPITAL MEDICAL CENTER</td>\n",
       "      <td>26073.80500</td>\n",
       "      <td>26073.80500</td>\n",
       "      <td>1</td>\n",
       "    </tr>\n",
       "    <tr>\n",
       "      <th>4255</th>\n",
       "      <td>4255</td>\n",
       "      <td>0020 - Level II Excision/ Biopsy</td>\n",
       "      <td>ORANGE COAST MEMORIAL MEDICAL CENTER</td>\n",
       "      <td>18362.75882</td>\n",
       "      <td>18362.75882</td>\n",
       "      <td>1</td>\n",
       "    </tr>\n",
       "  </tbody>\n",
       "</table>\n",
       "</div>"
      ],
      "text/plain": [
       "      index                                         APC  \\\n",
       "152     152    0012 - Level I Debridement & Destruction   \n",
       "1265   1265   0013 - Level II Debridement & Destruction   \n",
       "2703   2703  0015 - Level III Debridement & Destruction   \n",
       "3247   3247             0019 - Level I Excision/ Biopsy   \n",
       "4255   4255            0020 - Level II Excision/ Biopsy   \n",
       "\n",
       "                             Provider Name  CLAIM_DIFF_avg  \\\n",
       "152          NEBRASKA ORTHOPAEDIC HOSPITAL       827.44000   \n",
       "1265                 RUSSELLVILLE HOSPITAL      5175.40000   \n",
       "2703               RESEARCH MEDICAL CENTER      2980.73963   \n",
       "3247     CENTINELA HOSPITAL MEDICAL CENTER     26073.80500   \n",
       "4255  ORANGE COAST MEMORIAL MEDICAL CENTER     18362.75882   \n",
       "\n",
       "      CLAIM_DIFF_avg_max  MAX  \n",
       "152            827.44000    1  \n",
       "1265          5175.40000    1  \n",
       "2703          2980.73963    1  \n",
       "3247         26073.80500    1  \n",
       "4255         18362.75882    1  "
      ]
     },
     "execution_count": 145,
     "metadata": {},
     "output_type": "execute_result"
    }
   ],
   "source": [
    "Medicare_Out_MERGE[Medicare_Out_MERGE['MAX'] == 1].head()"
   ]
  },
  {
   "cell_type": "code",
   "execution_count": 146,
   "metadata": {
    "collapsed": true
   },
   "outputs": [],
   "source": [
    "\n",
    "#getting number of times a provider has max claim diff for max procudures\n",
    "Medicare_Out_MERGE_GROUPED = pd.DataFrame(Medicare_Out_MERGE[['Provider Name','MAX']].groupby(['Provider Name']).agg('sum').add_suffix('_sum'))"
   ]
  },
  {
   "cell_type": "code",
   "execution_count": 159,
   "metadata": {
    "collapsed": true
   },
   "outputs": [],
   "source": [
    "Medicare_Out_MERGE_GROUPED = Medicare_Out_MERGE_GROUPED.reset_index()"
   ]
  },
  {
   "cell_type": "code",
   "execution_count": 160,
   "metadata": {},
   "outputs": [
    {
     "data": {
      "text/html": [
       "<div>\n",
       "<style>\n",
       "    .dataframe thead tr:only-child th {\n",
       "        text-align: right;\n",
       "    }\n",
       "\n",
       "    .dataframe thead th {\n",
       "        text-align: left;\n",
       "    }\n",
       "\n",
       "    .dataframe tbody tr th {\n",
       "        vertical-align: top;\n",
       "    }\n",
       "</style>\n",
       "<table border=\"1\" class=\"dataframe\">\n",
       "  <thead>\n",
       "    <tr style=\"text-align: right;\">\n",
       "      <th></th>\n",
       "      <th>Provider Name</th>\n",
       "      <th>MAX_sum</th>\n",
       "    </tr>\n",
       "  </thead>\n",
       "  <tbody>\n",
       "    <tr>\n",
       "      <th>0</th>\n",
       "      <td>ABBEVILLE GENERAL HOSPITAL</td>\n",
       "      <td>0</td>\n",
       "    </tr>\n",
       "    <tr>\n",
       "      <th>1</th>\n",
       "      <td>ABBOTT NORTHWESTERN HOSPITAL</td>\n",
       "      <td>0</td>\n",
       "    </tr>\n",
       "    <tr>\n",
       "      <th>2</th>\n",
       "      <td>ABILENE REGIONAL MEDICAL CENTER</td>\n",
       "      <td>0</td>\n",
       "    </tr>\n",
       "    <tr>\n",
       "      <th>3</th>\n",
       "      <td>ABINGTON MEMORIAL HOSPITAL</td>\n",
       "      <td>0</td>\n",
       "    </tr>\n",
       "    <tr>\n",
       "      <th>4</th>\n",
       "      <td>ACMH HOSPITAL</td>\n",
       "      <td>0</td>\n",
       "    </tr>\n",
       "  </tbody>\n",
       "</table>\n",
       "</div>"
      ],
      "text/plain": [
       "                     Provider Name  MAX_sum\n",
       "0       ABBEVILLE GENERAL HOSPITAL        0\n",
       "1     ABBOTT NORTHWESTERN HOSPITAL        0\n",
       "2  ABILENE REGIONAL MEDICAL CENTER        0\n",
       "3       ABINGTON MEMORIAL HOSPITAL        0\n",
       "4                    ACMH HOSPITAL        0"
      ]
     },
     "execution_count": 160,
     "metadata": {},
     "output_type": "execute_result"
    }
   ],
   "source": [
    "Medicare_Out_MERGE_GROUPED.head()"
   ]
  },
  {
   "cell_type": "code",
   "execution_count": 148,
   "metadata": {},
   "outputs": [
    {
     "data": {
      "text/plain": [
       "Provider Name\n",
       "CAPITAL HEALTH MEDICAL CENTER - HOPEWELL    2\n",
       "COLUMBIA HOSPITAL                           2\n",
       "FORT WALTON BEACH MEDICAL CENTER            2\n",
       "Name: MAX_sum, dtype: int64"
      ]
     },
     "execution_count": 148,
     "metadata": {},
     "output_type": "execute_result"
    }
   ],
   "source": [
    "Medicare_Out_MERGE_GROUPED['MAX_sum'].nlargest(3)"
   ]
  },
  {
   "cell_type": "markdown",
   "metadata": {
    "collapsed": true
   },
   "source": [
    "    ****************************************** END OF PART 1 *******************************************************"
   ]
  }
 ],
 "metadata": {
  "kernelspec": {
   "display_name": "Python 2",
   "language": "python",
   "name": "python2"
  },
  "language_info": {
   "codemirror_mode": {
    "name": "ipython",
    "version": 2
   },
   "file_extension": ".py",
   "mimetype": "text/x-python",
   "name": "python",
   "nbconvert_exporter": "python",
   "pygments_lexer": "ipython2",
   "version": "2.7.14"
  }
 },
 "nbformat": 4,
 "nbformat_minor": 2
}
