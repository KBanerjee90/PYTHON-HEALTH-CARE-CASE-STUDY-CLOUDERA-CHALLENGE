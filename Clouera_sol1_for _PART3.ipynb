{
 "cells": [
  {
   "cell_type": "markdown",
   "metadata": {},
   "source": [
    "    *************************** CASE STUDY HEALTHCARE DATA ANALYSIS (PART 3) ***********************************"
   ]
  },
  {
   "cell_type": "markdown",
   "metadata": {},
   "source": [
    "    PART 3: Identify 10,000 Medicare patients who were involved in anomalous activities"
   ]
  },
  {
   "cell_type": "markdown",
   "metadata": {},
   "source": [
    "    #1. Importing Libraries and datasets"
   ]
  },
  {
   "cell_type": "code",
   "execution_count": 4,
   "metadata": {},
   "outputs": [
    {
     "name": "stderr",
     "output_type": "stream",
     "text": [
      "C:\\Users\\lenovo\\AppData\\Local\\Continuum\\anaconda2\\lib\\site-packages\\sklearn\\cross_validation.py:41: DeprecationWarning: This module was deprecated in version 0.18 in favor of the model_selection module into which all the refactored classes and functions are moved. Also note that the interface of the new CV iterators are different from that of this module. This module will be removed in 0.20.\n",
      "  \"This module will be removed in 0.20.\", DeprecationWarning)\n",
      "C:\\Users\\lenovo\\AppData\\Local\\Continuum\\anaconda2\\lib\\site-packages\\pandas_profiling\\base.py:20: UserWarning: \n",
      "This call to matplotlib.use() has no effect because the backend has already\n",
      "been chosen; matplotlib.use() must be called *before* pylab, matplotlib.pyplot,\n",
      "or matplotlib.backends is imported for the first time.\n",
      "\n",
      "The backend was *originally* set to 'module://ipykernel.pylab.backend_inline' by the following code:\n",
      "  File \"C:\\Users\\lenovo\\AppData\\Local\\Continuum\\anaconda2\\lib\\runpy.py\", line 174, in _run_module_as_main\n",
      "    \"__main__\", fname, loader, pkg_name)\n",
      "  File \"C:\\Users\\lenovo\\AppData\\Local\\Continuum\\anaconda2\\lib\\runpy.py\", line 72, in _run_code\n",
      "    exec code in run_globals\n",
      "  File \"C:\\Users\\lenovo\\AppData\\Local\\Continuum\\anaconda2\\lib\\site-packages\\ipykernel_launcher.py\", line 16, in <module>\n",
      "    app.launch_new_instance()\n",
      "  File \"C:\\Users\\lenovo\\AppData\\Local\\Continuum\\anaconda2\\lib\\site-packages\\traitlets\\config\\application.py\", line 658, in launch_instance\n",
      "    app.start()\n",
      "  File \"C:\\Users\\lenovo\\AppData\\Local\\Continuum\\anaconda2\\lib\\site-packages\\ipykernel\\kernelapp.py\", line 477, in start\n",
      "    ioloop.IOLoop.instance().start()\n",
      "  File \"C:\\Users\\lenovo\\AppData\\Local\\Continuum\\anaconda2\\lib\\site-packages\\zmq\\eventloop\\ioloop.py\", line 177, in start\n",
      "    super(ZMQIOLoop, self).start()\n",
      "  File \"C:\\Users\\lenovo\\AppData\\Local\\Continuum\\anaconda2\\lib\\site-packages\\tornado\\ioloop.py\", line 888, in start\n",
      "    handler_func(fd_obj, events)\n",
      "  File \"C:\\Users\\lenovo\\AppData\\Local\\Continuum\\anaconda2\\lib\\site-packages\\tornado\\stack_context.py\", line 277, in null_wrapper\n",
      "    return fn(*args, **kwargs)\n",
      "  File \"C:\\Users\\lenovo\\AppData\\Local\\Continuum\\anaconda2\\lib\\site-packages\\zmq\\eventloop\\zmqstream.py\", line 440, in _handle_events\n",
      "    self._handle_recv()\n",
      "  File \"C:\\Users\\lenovo\\AppData\\Local\\Continuum\\anaconda2\\lib\\site-packages\\zmq\\eventloop\\zmqstream.py\", line 472, in _handle_recv\n",
      "    self._run_callback(callback, msg)\n",
      "  File \"C:\\Users\\lenovo\\AppData\\Local\\Continuum\\anaconda2\\lib\\site-packages\\zmq\\eventloop\\zmqstream.py\", line 414, in _run_callback\n",
      "    callback(*args, **kwargs)\n",
      "  File \"C:\\Users\\lenovo\\AppData\\Local\\Continuum\\anaconda2\\lib\\site-packages\\tornado\\stack_context.py\", line 277, in null_wrapper\n",
      "    return fn(*args, **kwargs)\n",
      "  File \"C:\\Users\\lenovo\\AppData\\Local\\Continuum\\anaconda2\\lib\\site-packages\\ipykernel\\kernelbase.py\", line 283, in dispatcher\n",
      "    return self.dispatch_shell(stream, msg)\n",
      "  File \"C:\\Users\\lenovo\\AppData\\Local\\Continuum\\anaconda2\\lib\\site-packages\\ipykernel\\kernelbase.py\", line 235, in dispatch_shell\n",
      "    handler(stream, idents, msg)\n",
      "  File \"C:\\Users\\lenovo\\AppData\\Local\\Continuum\\anaconda2\\lib\\site-packages\\ipykernel\\kernelbase.py\", line 399, in execute_request\n",
      "    user_expressions, allow_stdin)\n",
      "  File \"C:\\Users\\lenovo\\AppData\\Local\\Continuum\\anaconda2\\lib\\site-packages\\ipykernel\\ipkernel.py\", line 196, in do_execute\n",
      "    res = shell.run_cell(code, store_history=store_history, silent=silent)\n",
      "  File \"C:\\Users\\lenovo\\AppData\\Local\\Continuum\\anaconda2\\lib\\site-packages\\ipykernel\\zmqshell.py\", line 533, in run_cell\n",
      "    return super(ZMQInteractiveShell, self).run_cell(*args, **kwargs)\n",
      "  File \"C:\\Users\\lenovo\\AppData\\Local\\Continuum\\anaconda2\\lib\\site-packages\\IPython\\core\\interactiveshell.py\", line 2718, in run_cell\n",
      "    interactivity=interactivity, compiler=compiler, result=result)\n",
      "  File \"C:\\Users\\lenovo\\AppData\\Local\\Continuum\\anaconda2\\lib\\site-packages\\IPython\\core\\interactiveshell.py\", line 2822, in run_ast_nodes\n",
      "    if self.run_code(code, result):\n",
      "  File \"C:\\Users\\lenovo\\AppData\\Local\\Continuum\\anaconda2\\lib\\site-packages\\IPython\\core\\interactiveshell.py\", line 2882, in run_code\n",
      "    exec(code_obj, self.user_global_ns, self.user_ns)\n",
      "  File \"<ipython-input-4-c9071d66dbff>\", line 3, in <module>\n",
      "    import seaborn as sns\n",
      "  File \"C:\\Users\\lenovo\\AppData\\Local\\Continuum\\anaconda2\\lib\\site-packages\\seaborn\\__init__.py\", line 6, in <module>\n",
      "    from .rcmod import *\n",
      "  File \"C:\\Users\\lenovo\\AppData\\Local\\Continuum\\anaconda2\\lib\\site-packages\\seaborn\\rcmod.py\", line 8, in <module>\n",
      "    from . import palettes, _orig_rc_params\n",
      "  File \"C:\\Users\\lenovo\\AppData\\Local\\Continuum\\anaconda2\\lib\\site-packages\\seaborn\\palettes.py\", line 12, in <module>\n",
      "    from .utils import desaturate, set_hls_values, get_color_cycle\n",
      "  File \"C:\\Users\\lenovo\\AppData\\Local\\Continuum\\anaconda2\\lib\\site-packages\\seaborn\\utils.py\", line 12, in <module>\n",
      "    import matplotlib.pyplot as plt\n",
      "  File \"C:\\Users\\lenovo\\AppData\\Local\\Continuum\\anaconda2\\lib\\site-packages\\matplotlib\\pyplot.py\", line 69, in <module>\n",
      "    from matplotlib.backends import pylab_setup\n",
      "  File \"C:\\Users\\lenovo\\AppData\\Local\\Continuum\\anaconda2\\lib\\site-packages\\matplotlib\\backends\\__init__.py\", line 14, in <module>\n",
      "    line for line in traceback.format_stack()\n",
      "\n",
      "\n",
      "  matplotlib.use('Agg')\n"
     ]
    }
   ],
   "source": [
    "import pandas as pd\n",
    "import numpy as np\n",
    "import seaborn as sns\n",
    "import matplotlib.pyplot as plt\n",
    "import statsmodels.formula.api as sm\n",
    "import scipy.stats as stats\n",
    "from matplotlib.backends.backend_pdf import PdfPages\n",
    "from sklearn.cross_validation import train_test_split\n",
    "from sklearn import metrics\n",
    "from sklearn.linear_model import LogisticRegression\n",
    "from statsmodels.stats.outliers_influence import variance_inflation_factor\n",
    "from patsy import dmatrices\n",
    "import pandas_profiling\n",
    "%matplotlib inline"
   ]
  },
  {
   "cell_type": "code",
   "execution_count": 5,
   "metadata": {
    "collapsed": true
   },
   "outputs": [],
   "source": [
    "Patient_history = pd.read_csv('Patient_history_samp.csv')\n",
    "Review_patient = pd.read_csv('Review_patient_history_samp.csv')\n",
    "Review_transaction = pd.read_csv('Rreview_transaction_coo.csv')\n",
    "Transaction = pd.read_csv('Transaction_coo.csv')"
   ]
  },
  {
   "cell_type": "markdown",
   "metadata": {},
   "source": [
    "    #2. Data Analysis and Data Preparation"
   ]
  },
  {
   "cell_type": "markdown",
   "metadata": {},
   "source": [
    "    Generally for anomaly detection, we aim to learn what is most representative of ‘normal’, \n",
    "    then anything outside of some threshold can be considered an anomaly\n",
    "    \n",
    "    Review_patient_history_samp.csv and Rreview_transaction_coo.csv datasets are the details for reviewed patient.\n",
    "    Patient_history_samp.csv and Transaction_coo.csv are unclassified patient.\n",
    "    \n",
    "    We have to identify the cause/pattern for the review patient and based on that the unmarked patients needs to be marked."
   ]
  },
  {
   "cell_type": "code",
   "execution_count": 6,
   "metadata": {},
   "outputs": [
    {
     "name": "stdout",
     "output_type": "stream",
     "text": [
      "<class 'pandas.core.frame.DataFrame'>\n",
      "RangeIndex: 500000 entries, 0 to 499999\n",
      "Data columns (total 4 columns):\n",
      "id        500000 non-null int64\n",
      "age       497470 non-null object\n",
      "gender    500000 non-null object\n",
      "income    497469 non-null object\n",
      "dtypes: int64(1), object(3)\n",
      "memory usage: 15.3+ MB\n"
     ]
    }
   ],
   "source": [
    "Patient_history.info()"
   ]
  },
  {
   "cell_type": "code",
   "execution_count": 7,
   "metadata": {},
   "outputs": [
    {
     "name": "stdout",
     "output_type": "stream",
     "text": [
      "<class 'pandas.core.frame.DataFrame'>\n",
      "RangeIndex: 5000 entries, 0 to 4999\n",
      "Data columns (total 4 columns):\n",
      "id        5000 non-null int64\n",
      "age       4974 non-null object\n",
      "gender    5000 non-null object\n",
      "income    4974 non-null object\n",
      "dtypes: int64(1), object(3)\n",
      "memory usage: 156.3+ KB\n"
     ]
    }
   ],
   "source": [
    "Review_patient.info()"
   ]
  },
  {
   "cell_type": "code",
   "execution_count": 8,
   "metadata": {},
   "outputs": [
    {
     "data": {
      "text/plain": [
       "gender\n",
       "F    274512\n",
       "M    225488\n",
       "Name: id, dtype: int64"
      ]
     },
     "execution_count": 8,
     "metadata": {},
     "output_type": "execute_result"
    }
   ],
   "source": [
    "Patient_history.groupby('gender')['id'].nunique()"
   ]
  },
  {
   "cell_type": "code",
   "execution_count": 9,
   "metadata": {},
   "outputs": [
    {
     "data": {
      "text/plain": [
       "income\n",
       "16000-23999    102492\n",
       "24000-31999     75670\n",
       "32000-47999     95899\n",
       "48000+         115865\n",
       "<16000         107543\n",
       "Name: id, dtype: int64"
      ]
     },
     "execution_count": 9,
     "metadata": {},
     "output_type": "execute_result"
    }
   ],
   "source": [
    "Patient_history.groupby('income')['id'].nunique()"
   ]
  },
  {
   "cell_type": "code",
   "execution_count": 10,
   "metadata": {},
   "outputs": [
    {
     "data": {
      "text/plain": [
       "age\n",
       "65-74    219329\n",
       "75-84    128992\n",
       "85+       64581\n",
       "<65       84568\n",
       "Name: id, dtype: int64"
      ]
     },
     "execution_count": 10,
     "metadata": {},
     "output_type": "execute_result"
    }
   ],
   "source": [
    "Patient_history.groupby('age')['id'].nunique()"
   ]
  },
  {
   "cell_type": "markdown",
   "metadata": {},
   "source": [
    "    Transforming categorical variables to numerical variables (grouping) for better data preprocesing\n",
    "    and dropping the categorical variables"
   ]
  },
  {
   "cell_type": "code",
   "execution_count": 11,
   "metadata": {
    "collapsed": true
   },
   "outputs": [],
   "source": [
    "#function to get the income group indicator\n",
    "def incometyp(patient):\n",
    "    if (patient['income']  == '16000-23999'):\n",
    "        return 2\n",
    "    elif (patient['income']  == '24000-31999'):\n",
    "        return 3\n",
    "    elif (patient['income']  == '32000-47999'):\n",
    "        return 4\n",
    "    elif (patient['income']  == '48000+'):\n",
    "        return 5\n",
    "    else:\n",
    "        return 1"
   ]
  },
  {
   "cell_type": "code",
   "execution_count": 12,
   "metadata": {
    "collapsed": true
   },
   "outputs": [],
   "source": [
    "#function to get the age group indicator\n",
    "def agetyp(patient):\n",
    "    if (patient['age']  == '65-74'):\n",
    "        return 2\n",
    "    elif (patient['age']  == '75-84'):\n",
    "        return 3\n",
    "    elif (patient['age']  == '85+'):\n",
    "        return 4\n",
    "    else:\n",
    "        return 1"
   ]
  },
  {
   "cell_type": "code",
   "execution_count": 13,
   "metadata": {
    "collapsed": true
   },
   "outputs": [],
   "source": [
    "#function to get the gender group indicator\n",
    "def gendertyp(patient):\n",
    "    if (patient['gender']  == 'M'):\n",
    "        return 1\n",
    "    else:\n",
    "        return 0"
   ]
  },
  {
   "cell_type": "markdown",
   "metadata": {},
   "source": [
    "    Executing the functions on review and unmarked datasets"
   ]
  },
  {
   "cell_type": "code",
   "execution_count": 14,
   "metadata": {
    "collapsed": true
   },
   "outputs": [],
   "source": [
    "Patient_history['INCOME_GROUP'] = Patient_history.apply(incometyp, axis=1)"
   ]
  },
  {
   "cell_type": "code",
   "execution_count": 15,
   "metadata": {
    "collapsed": true
   },
   "outputs": [],
   "source": [
    "Patient_history['AGE_GROUP'] = Patient_history.apply(agetyp, axis=1)"
   ]
  },
  {
   "cell_type": "code",
   "execution_count": 16,
   "metadata": {
    "collapsed": true
   },
   "outputs": [],
   "source": [
    "Patient_history['GENDER_GROUP'] = Patient_history.apply(gendertyp, axis=1)"
   ]
  },
  {
   "cell_type": "code",
   "execution_count": 17,
   "metadata": {
    "collapsed": true
   },
   "outputs": [],
   "source": [
    "Review_patient['INCOME_GROUP'] = Review_patient.apply(incometyp, axis=1)"
   ]
  },
  {
   "cell_type": "code",
   "execution_count": 18,
   "metadata": {
    "collapsed": true
   },
   "outputs": [],
   "source": [
    "Review_patient['AGE_GROUP'] = Review_patient.apply(agetyp, axis=1)"
   ]
  },
  {
   "cell_type": "code",
   "execution_count": 19,
   "metadata": {
    "collapsed": true
   },
   "outputs": [],
   "source": [
    "Review_patient['GENDER_GROUP'] = Review_patient.apply(gendertyp, axis=1)"
   ]
  },
  {
   "cell_type": "code",
   "execution_count": 20,
   "metadata": {
    "collapsed": true
   },
   "outputs": [],
   "source": [
    "Patient_history.drop(['age', 'gender', 'income'], axis =1 , inplace = True)"
   ]
  },
  {
   "cell_type": "code",
   "execution_count": 21,
   "metadata": {
    "collapsed": true
   },
   "outputs": [],
   "source": [
    "Review_patient.drop(['age', 'gender', 'income'], axis =1 , inplace = True)"
   ]
  },
  {
   "cell_type": "markdown",
   "metadata": {},
   "source": [
    "    Create dummies to count and sum the number of procedure used by patient\n",
    "    Grouping them at patient level - so that there are 1 row per patient for the transaction dataset"
   ]
  },
  {
   "cell_type": "markdown",
   "metadata": {},
   "source": [
    "    For full dataset - unlabeled"
   ]
  },
  {
   "cell_type": "code",
   "execution_count": 22,
   "metadata": {
    "collapsed": true
   },
   "outputs": [],
   "source": [
    "col_dummies=pd.get_dummies(Transaction['global_proc_id'], prefix='proc')\n",
    "Transaction_cat = pd.concat([Transaction, col_dummies], axis=1)\n",
    "Transaction_cat.drop( 'global_proc_id', axis = 1, inplace = True )"
   ]
  },
  {
   "cell_type": "code",
   "execution_count": 23,
   "metadata": {
    "collapsed": true
   },
   "outputs": [],
   "source": [
    "Transaction_grouped = pd.DataFrame(Transaction_cat[['id', 'count','proc_1' ,'proc_2' ,'proc_3' ,'proc_4' ,'proc_5' ,\n",
    "                                                    'proc_6' ,'proc_7' ,'proc_8' ,'proc_9' ,'proc_10' ,'proc_11' ,\n",
    "                                                    'proc_12' ,'proc_13' ,'proc_14' ,'proc_15' ,'proc_16' ,'proc_17' ,\n",
    "                                                    'proc_18' ,'proc_19' ,'proc_20' ,'proc_21' ,'proc_22' ,'proc_23' ,\n",
    "                                                    'proc_24' ,'proc_25' ,'proc_26' ,'proc_27' ,'proc_28' ,'proc_29' ,\n",
    "                                                    'proc_30' ,'proc_31' ,'proc_32' ,'proc_33' ,'proc_34' ,'proc_35' ,\n",
    "                                                    'proc_36' ,'proc_37' ,'proc_38' ,'proc_39' ,'proc_40' ,'proc_41' ,\n",
    "                                                    'proc_42' ,'proc_43' ,'proc_44' ,'proc_45' ,'proc_46' ,'proc_47' ,\n",
    "                                                    'proc_48' ,'proc_49' ,'proc_50' ,'proc_51' ,'proc_52' ,'proc_53' ,\n",
    "                                                    'proc_54' ,'proc_55' ,'proc_56' ,'proc_57' ,'proc_58' ,'proc_59' ,\n",
    "                                                    'proc_60' ,'proc_61' ,'proc_62' ,'proc_63' ,'proc_64' ,'proc_65' ,\n",
    "                                                    'proc_66' ,'proc_67' ,'proc_68' ,'proc_69' ,'proc_70' ,'proc_71' ,\n",
    "                                                    'proc_72' ,'proc_73' ,'proc_74' ,'proc_75' ,'proc_76' ,'proc_77' ,\n",
    "                                                    'proc_78' ,'proc_79' ,'proc_80' ,'proc_81' ,'proc_82' ,'proc_83' ,\n",
    "                                                    'proc_84' ,'proc_85' ,'proc_86' ,'proc_87' ,'proc_88' ,'proc_89' ,\n",
    "                                                    'proc_90' ,'proc_91' ,'proc_92' ,'proc_93' ,'proc_94' ,'proc_95' ,\n",
    "                                                    'proc_96' ,'proc_97' ,'proc_98' ,'proc_99' ,'proc_100' ,'proc_101' ,\n",
    "                                                    'proc_102' ,'proc_103' ,'proc_104' ,'proc_105' ,'proc_106' ,\n",
    "                                                    'proc_107' ,'proc_108' ,'proc_109' ,'proc_110' ,'proc_111' ,\n",
    "                                                    'proc_112' ,'proc_113' ,'proc_114' ,'proc_115' ,'proc_116' ,\n",
    "                                                    'proc_117' ,'proc_118' ,'proc_119' ,'proc_120' ,'proc_121' ,\n",
    "                                                    'proc_122' ,'proc_123' ,'proc_124' ,'proc_125' ,'proc_126' ,\n",
    "                                                    'proc_127' ,'proc_128' ,'proc_129' ,'proc_130']].groupby(['id']).agg({'count':'sum',\n",
    "                                                                                         'proc_1' :'sum' ,\n",
    "                                                                                         'proc_2' :'sum' ,\n",
    "                                                                                         'proc_3' :'sum' ,\n",
    "                                                                                         'proc_4' :'sum' ,\n",
    "                                                                                         'proc_5' :'sum' ,\n",
    "                                                                                         'proc_6' :'sum' ,\n",
    "                                                                                         'proc_7' :'sum' ,\n",
    "                                                                                         'proc_8' :'sum' ,\n",
    "                                                                                         'proc_9' :'sum' ,\n",
    "                                                                                         'proc_10' :'sum' ,\n",
    "                                                                                         'proc_11' :'sum' ,\n",
    "                                                                                         'proc_12' :'sum' ,\n",
    "                                                                                         'proc_13' :'sum' ,\n",
    "                                                                                         'proc_14' :'sum' ,\n",
    "                                                                                         'proc_15' :'sum' ,\n",
    "                                                                                         'proc_16' :'sum' ,\n",
    "                                                                                         'proc_17' :'sum' ,\n",
    "                                                                                         'proc_18' :'sum' ,\n",
    "                                                                                         'proc_19' :'sum' ,\n",
    "                                                                                         'proc_20' :'sum' ,\n",
    "                                                                                         'proc_21' :'sum' ,\n",
    "                                                                                         'proc_22' :'sum' ,\n",
    "                                                                                         'proc_23' :'sum' ,\n",
    "                                                                                         'proc_24' :'sum' ,\n",
    "                                                                                         'proc_25' :'sum' ,\n",
    "                                                                                         'proc_26' :'sum' ,\n",
    "                                                                                         'proc_27' :'sum' ,\n",
    "                                                                                         'proc_28' :'sum' ,\n",
    "                                                                                         'proc_29' :'sum' ,\n",
    "                                                                                         'proc_30' :'sum' ,\n",
    "                                                                                         'proc_31' :'sum' ,\n",
    "                                                                                         'proc_32' :'sum' ,\n",
    "                                                                                         'proc_33' :'sum' ,\n",
    "                                                                                         'proc_34' :'sum' ,\n",
    "                                                                                         'proc_35' :'sum' ,\n",
    "                                                                                         'proc_36' :'sum' ,\n",
    "                                                                                         'proc_37' :'sum' ,\n",
    "                                                                                         'proc_38' :'sum' ,\n",
    "                                                                                         'proc_39' :'sum' ,\n",
    "                                                                                         'proc_40' :'sum' ,\n",
    "                                                                                         'proc_41' :'sum' ,\n",
    "                                                                                         'proc_42' :'sum' ,\n",
    "                                                                                         'proc_43' :'sum' ,\n",
    "                                                                                         'proc_44' :'sum' ,\n",
    "                                                                                         'proc_45' :'sum' ,\n",
    "                                                                                         'proc_46' :'sum' ,\n",
    "                                                                                         'proc_47' :'sum' ,\n",
    "                                                                                         'proc_48' :'sum' ,\n",
    "                                                                                         'proc_49' :'sum' ,\n",
    "                                                                                         'proc_50' :'sum' ,\n",
    "                                                                                         'proc_51' :'sum' ,\n",
    "                                                                                         'proc_52' :'sum' ,\n",
    "                                                                                         'proc_53' :'sum' ,\n",
    "                                                                                         'proc_54' :'sum' ,\n",
    "                                                                                         'proc_55' :'sum' ,\n",
    "                                                                                         'proc_56' :'sum' ,\n",
    "                                                                                         'proc_57' :'sum' ,\n",
    "                                                                                         'proc_58' :'sum' ,\n",
    "                                                                                         'proc_59' :'sum' ,\n",
    "                                                                                         'proc_60' :'sum' ,\n",
    "                                                                                         'proc_61' :'sum' ,\n",
    "                                                                                         'proc_62' :'sum' ,\n",
    "                                                                                         'proc_63' :'sum' ,\n",
    "                                                                                         'proc_64' :'sum' ,\n",
    "                                                                                         'proc_65' :'sum' ,\n",
    "                                                                                         'proc_66' :'sum' ,\n",
    "                                                                                         'proc_67' :'sum' ,\n",
    "                                                                                         'proc_68' :'sum' ,\n",
    "                                                                                         'proc_69' :'sum' ,\n",
    "                                                                                         'proc_70' :'sum' ,\n",
    "                                                                                         'proc_71' :'sum' ,\n",
    "                                                                                         'proc_72' :'sum' ,\n",
    "                                                                                         'proc_73' :'sum' ,\n",
    "                                                                                         'proc_74' :'sum' ,\n",
    "                                                                                         'proc_75' :'sum' ,\n",
    "                                                                                         'proc_76' :'sum' ,\n",
    "                                                                                         'proc_77' :'sum' ,\n",
    "                                                                                         'proc_78' :'sum' ,\n",
    "                                                                                         'proc_79' :'sum' ,\n",
    "                                                                                         'proc_80' :'sum' ,\n",
    "                                                                                         'proc_81' :'sum' ,\n",
    "                                                                                         'proc_82' :'sum' ,\n",
    "                                                                                         'proc_83' :'sum' ,\n",
    "                                                                                         'proc_84' :'sum' ,\n",
    "                                                                                         'proc_85' :'sum' ,\n",
    "                                                                                         'proc_86' :'sum' ,\n",
    "                                                                                         'proc_87' :'sum' ,\n",
    "                                                                                         'proc_88' :'sum' ,\n",
    "                                                                                         'proc_89' :'sum' ,\n",
    "                                                                                         'proc_90' :'sum' ,\n",
    "                                                                                         'proc_91' :'sum' ,\n",
    "                                                                                         'proc_92' :'sum' ,\n",
    "                                                                                         'proc_93' :'sum' ,\n",
    "                                                                                         'proc_94' :'sum' ,\n",
    "                                                                                         'proc_95' :'sum' ,\n",
    "                                                                                         'proc_96' :'sum' ,\n",
    "                                                                                         'proc_97' :'sum' ,\n",
    "                                                                                         'proc_98' :'sum' ,\n",
    "                                                                                         'proc_99' :'sum' ,\n",
    "                                                                                         'proc_100' :'sum' ,\n",
    "                                                                                         'proc_101' :'sum' ,\n",
    "                                                                                         'proc_102' :'sum' ,\n",
    "                                                                                         'proc_103' :'sum' ,\n",
    "                                                                                         'proc_104' :'sum' ,\n",
    "                                                                                         'proc_105' :'sum' ,\n",
    "                                                                                         'proc_106' :'sum' ,\n",
    "                                                                                         'proc_107' :'sum' ,\n",
    "                                                                                         'proc_108' :'sum' ,\n",
    "                                                                                         'proc_109' :'sum' ,\n",
    "                                                                                         'proc_110' :'sum' ,\n",
    "                                                                                         'proc_111' :'sum' ,\n",
    "                                                                                         'proc_112' :'sum' ,\n",
    "                                                                                         'proc_113' :'sum' ,\n",
    "                                                                                         'proc_114' :'sum' ,\n",
    "                                                                                         'proc_115' :'sum' ,\n",
    "                                                                                         'proc_116' :'sum' ,\n",
    "                                                                                         'proc_117' :'sum' ,\n",
    "                                                                                         'proc_118' :'sum' ,\n",
    "                                                                                         'proc_119' :'sum' ,\n",
    "                                                                                         'proc_120' :'sum' ,\n",
    "                                                                                         'proc_121' :'sum' ,\n",
    "                                                                                         'proc_122' :'sum' ,\n",
    "                                                                                         'proc_123' :'sum' ,\n",
    "                                                                                         'proc_124' :'sum' ,\n",
    "                                                                                         'proc_125' :'sum' ,\n",
    "                                                                                         'proc_126' :'sum' ,\n",
    "                                                                                         'proc_127' :'sum' ,\n",
    "                                                                                         'proc_128' :'sum' ,\n",
    "                                                                                         'proc_129' :'sum' ,\n",
    "                                                                                         'proc_130' :'sum' }))"
   ]
  },
  {
   "cell_type": "code",
   "execution_count": 24,
   "metadata": {},
   "outputs": [
    {
     "data": {
      "text/html": [
       "<div>\n",
       "<style>\n",
       "    .dataframe thead tr:only-child th {\n",
       "        text-align: right;\n",
       "    }\n",
       "\n",
       "    .dataframe thead th {\n",
       "        text-align: left;\n",
       "    }\n",
       "\n",
       "    .dataframe tbody tr th {\n",
       "        vertical-align: top;\n",
       "    }\n",
       "</style>\n",
       "<table border=\"1\" class=\"dataframe\">\n",
       "  <thead>\n",
       "    <tr style=\"text-align: right;\">\n",
       "      <th></th>\n",
       "      <th>proc_57</th>\n",
       "      <th>proc_56</th>\n",
       "      <th>proc_19</th>\n",
       "      <th>proc_18</th>\n",
       "      <th>proc_53</th>\n",
       "      <th>proc_52</th>\n",
       "      <th>proc_51</th>\n",
       "      <th>proc_50</th>\n",
       "      <th>proc_13</th>\n",
       "      <th>proc_12</th>\n",
       "      <th>...</th>\n",
       "      <th>proc_35</th>\n",
       "      <th>proc_34</th>\n",
       "      <th>proc_37</th>\n",
       "      <th>proc_36</th>\n",
       "      <th>proc_31</th>\n",
       "      <th>proc_30</th>\n",
       "      <th>proc_33</th>\n",
       "      <th>proc_32</th>\n",
       "      <th>proc_39</th>\n",
       "      <th>proc_38</th>\n",
       "    </tr>\n",
       "    <tr>\n",
       "      <th>id</th>\n",
       "      <th></th>\n",
       "      <th></th>\n",
       "      <th></th>\n",
       "      <th></th>\n",
       "      <th></th>\n",
       "      <th></th>\n",
       "      <th></th>\n",
       "      <th></th>\n",
       "      <th></th>\n",
       "      <th></th>\n",
       "      <th></th>\n",
       "      <th></th>\n",
       "      <th></th>\n",
       "      <th></th>\n",
       "      <th></th>\n",
       "      <th></th>\n",
       "      <th></th>\n",
       "      <th></th>\n",
       "      <th></th>\n",
       "      <th></th>\n",
       "      <th></th>\n",
       "    </tr>\n",
       "  </thead>\n",
       "  <tbody>\n",
       "    <tr>\n",
       "      <th>623</th>\n",
       "      <td>0</td>\n",
       "      <td>0</td>\n",
       "      <td>0</td>\n",
       "      <td>0</td>\n",
       "      <td>0</td>\n",
       "      <td>0</td>\n",
       "      <td>0</td>\n",
       "      <td>0</td>\n",
       "      <td>0</td>\n",
       "      <td>0</td>\n",
       "      <td>...</td>\n",
       "      <td>0</td>\n",
       "      <td>0</td>\n",
       "      <td>0</td>\n",
       "      <td>0</td>\n",
       "      <td>0</td>\n",
       "      <td>0</td>\n",
       "      <td>0</td>\n",
       "      <td>0</td>\n",
       "      <td>0</td>\n",
       "      <td>0</td>\n",
       "    </tr>\n",
       "    <tr>\n",
       "      <th>7561</th>\n",
       "      <td>0</td>\n",
       "      <td>0</td>\n",
       "      <td>0</td>\n",
       "      <td>0</td>\n",
       "      <td>0</td>\n",
       "      <td>0</td>\n",
       "      <td>0</td>\n",
       "      <td>0</td>\n",
       "      <td>0</td>\n",
       "      <td>0</td>\n",
       "      <td>...</td>\n",
       "      <td>0</td>\n",
       "      <td>0</td>\n",
       "      <td>0</td>\n",
       "      <td>0</td>\n",
       "      <td>0</td>\n",
       "      <td>0</td>\n",
       "      <td>0</td>\n",
       "      <td>0</td>\n",
       "      <td>0</td>\n",
       "      <td>0</td>\n",
       "    </tr>\n",
       "    <tr>\n",
       "      <th>7619</th>\n",
       "      <td>0</td>\n",
       "      <td>0</td>\n",
       "      <td>0</td>\n",
       "      <td>0</td>\n",
       "      <td>0</td>\n",
       "      <td>0</td>\n",
       "      <td>0</td>\n",
       "      <td>0</td>\n",
       "      <td>0</td>\n",
       "      <td>0</td>\n",
       "      <td>...</td>\n",
       "      <td>0</td>\n",
       "      <td>2</td>\n",
       "      <td>0</td>\n",
       "      <td>0</td>\n",
       "      <td>0</td>\n",
       "      <td>0</td>\n",
       "      <td>0</td>\n",
       "      <td>0</td>\n",
       "      <td>0</td>\n",
       "      <td>0</td>\n",
       "    </tr>\n",
       "    <tr>\n",
       "      <th>10479</th>\n",
       "      <td>0</td>\n",
       "      <td>0</td>\n",
       "      <td>0</td>\n",
       "      <td>0</td>\n",
       "      <td>0</td>\n",
       "      <td>0</td>\n",
       "      <td>0</td>\n",
       "      <td>0</td>\n",
       "      <td>0</td>\n",
       "      <td>0</td>\n",
       "      <td>...</td>\n",
       "      <td>0</td>\n",
       "      <td>0</td>\n",
       "      <td>0</td>\n",
       "      <td>0</td>\n",
       "      <td>0</td>\n",
       "      <td>0</td>\n",
       "      <td>0</td>\n",
       "      <td>0</td>\n",
       "      <td>0</td>\n",
       "      <td>0</td>\n",
       "    </tr>\n",
       "    <tr>\n",
       "      <th>13515</th>\n",
       "      <td>0</td>\n",
       "      <td>0</td>\n",
       "      <td>0</td>\n",
       "      <td>0</td>\n",
       "      <td>0</td>\n",
       "      <td>0</td>\n",
       "      <td>0</td>\n",
       "      <td>0</td>\n",
       "      <td>0</td>\n",
       "      <td>0</td>\n",
       "      <td>...</td>\n",
       "      <td>0</td>\n",
       "      <td>0</td>\n",
       "      <td>0</td>\n",
       "      <td>0</td>\n",
       "      <td>0</td>\n",
       "      <td>0</td>\n",
       "      <td>0</td>\n",
       "      <td>0</td>\n",
       "      <td>0</td>\n",
       "      <td>0</td>\n",
       "    </tr>\n",
       "  </tbody>\n",
       "</table>\n",
       "<p>5 rows × 131 columns</p>\n",
       "</div>"
      ],
      "text/plain": [
       "       proc_57  proc_56  proc_19  proc_18  proc_53  proc_52  proc_51  proc_50  \\\n",
       "id                                                                              \n",
       "623          0        0        0        0        0        0        0        0   \n",
       "7561         0        0        0        0        0        0        0        0   \n",
       "7619         0        0        0        0        0        0        0        0   \n",
       "10479        0        0        0        0        0        0        0        0   \n",
       "13515        0        0        0        0        0        0        0        0   \n",
       "\n",
       "       proc_13  proc_12   ...     proc_35  proc_34  proc_37  proc_36  proc_31  \\\n",
       "id                        ...                                                   \n",
       "623          0        0   ...           0        0        0        0        0   \n",
       "7561         0        0   ...           0        0        0        0        0   \n",
       "7619         0        0   ...           0        2        0        0        0   \n",
       "10479        0        0   ...           0        0        0        0        0   \n",
       "13515        0        0   ...           0        0        0        0        0   \n",
       "\n",
       "       proc_30  proc_33  proc_32  proc_39  proc_38  \n",
       "id                                                  \n",
       "623          0        0        0        0        0  \n",
       "7561         0        0        0        0        0  \n",
       "7619         0        0        0        0        0  \n",
       "10479        0        0        0        0        0  \n",
       "13515        0        0        0        0        0  \n",
       "\n",
       "[5 rows x 131 columns]"
      ]
     },
     "execution_count": 24,
     "metadata": {},
     "output_type": "execute_result"
    }
   ],
   "source": [
    "Transaction_grouped.head()"
   ]
  },
  {
   "cell_type": "code",
   "execution_count": 25,
   "metadata": {
    "collapsed": true
   },
   "outputs": [],
   "source": [
    "Transaction_grouped = Transaction_grouped.reset_index()"
   ]
  },
  {
   "cell_type": "code",
   "execution_count": 26,
   "metadata": {
    "collapsed": true
   },
   "outputs": [],
   "source": [
    "full_dataset = Transaction_grouped.merge(Patient_history,on='id', how='left')"
   ]
  },
  {
   "cell_type": "markdown",
   "metadata": {},
   "source": [
    "    For review dataset - labeled"
   ]
  },
  {
   "cell_type": "code",
   "execution_count": 27,
   "metadata": {
    "collapsed": true
   },
   "outputs": [],
   "source": [
    "col_dummies=pd.get_dummies(Review_transaction['global_proc_id'], prefix='proc')\n",
    "Review_transaction_cat = pd.concat([Review_transaction, col_dummies], axis=1)\n",
    "Review_transaction_cat.drop( 'global_proc_id', axis = 1, inplace = True )"
   ]
  },
  {
   "cell_type": "code",
   "execution_count": 28,
   "metadata": {
    "collapsed": true
   },
   "outputs": [],
   "source": [
    "Review_transaction_grouped = pd.DataFrame(Review_transaction_cat[['id', 'count','proc_1' ,'proc_2' ,'proc_3' ,'proc_5' ,\n",
    "                                                    'proc_6' ,'proc_7' ,'proc_8' ,'proc_9' ,'proc_10' ,'proc_11' ,\n",
    "                                                    'proc_12' ,'proc_13' ,'proc_14' ,'proc_15' ,'proc_16' ,'proc_17' ,\n",
    "                                                    'proc_18' ,'proc_19' ,'proc_20' ,'proc_21' ,'proc_22' ,'proc_23' ,\n",
    "                                                    'proc_24' ,'proc_25' ,'proc_26' ,'proc_27' ,'proc_28' ,'proc_29' ,\n",
    "                                                    'proc_30' ,'proc_31' ,'proc_32' ,'proc_33' ,'proc_34' ,'proc_35' ,\n",
    "                                                    'proc_36' ,'proc_37' ,'proc_38' ,'proc_39' ,'proc_40' ,'proc_41' ,\n",
    "                                                    'proc_42' ,'proc_43' ,'proc_44' ,'proc_45' ,'proc_46' ,'proc_47' ,\n",
    "                                                    'proc_48' ,'proc_49' ,'proc_50' ,'proc_51' ,'proc_52' ,'proc_53' ,\n",
    "                                                    'proc_54' ,'proc_55' ,'proc_56' ,'proc_57' ,'proc_58' ,'proc_59' ,\n",
    "                                                    'proc_60' ,'proc_61' ,'proc_62' ,'proc_63' ,'proc_64' ,'proc_65' ,\n",
    "                                                    'proc_66' ,'proc_67' ,'proc_68' ,'proc_69' ,'proc_70' ,'proc_71' ,\n",
    "                                                    'proc_72' ,'proc_73' ,'proc_74' ,'proc_75' ,'proc_76' ,'proc_77' ,\n",
    "                                                    'proc_78' ,'proc_79' ,'proc_80' ,'proc_81' ,'proc_82' ,'proc_83' ,\n",
    "                                                    'proc_84' ,'proc_85' ,'proc_86' ,'proc_87' ,'proc_88' ,'proc_89' ,\n",
    "                                                    'proc_90' ,'proc_91' ,'proc_92' ,'proc_93' ,'proc_94' ,'proc_95' ,\n",
    "                                                    'proc_96' ,'proc_97' ,'proc_98' ,'proc_99' ,'proc_100' ,'proc_101' ,\n",
    "                                                    'proc_102' ,'proc_103' ,'proc_104' ,'proc_105' ,'proc_106' ,\n",
    "                                                    'proc_107' ,'proc_108' ,'proc_109' ,'proc_110' ,'proc_111' ,\n",
    "                                                    'proc_112' ,'proc_113' ,'proc_114' ,'proc_115' ,'proc_116' ,\n",
    "                                                    'proc_117' ,'proc_118' ,'proc_119' ,'proc_120' ,'proc_121' ,\n",
    "                                                    'proc_122' ,'proc_123' ,'proc_124' ,'proc_125' ,'proc_126' ,\n",
    "                                                    'proc_127' ,'proc_128' ,'proc_129' ,'proc_130']].groupby(['id']).agg({'count':'sum',\n",
    "                                                                                         'proc_1' :'sum' ,\n",
    "                                                                                         'proc_2' :'sum' ,\n",
    "                                                                                         'proc_3' :'sum' ,\n",
    "                                                                                         'proc_5' :'sum' ,\n",
    "                                                                                         'proc_6' :'sum' ,\n",
    "                                                                                         'proc_7' :'sum' ,\n",
    "                                                                                         'proc_8' :'sum' ,\n",
    "                                                                                         'proc_9' :'sum' ,\n",
    "                                                                                         'proc_10' :'sum' ,\n",
    "                                                                                         'proc_11' :'sum' ,\n",
    "                                                                                         'proc_12' :'sum' ,\n",
    "                                                                                         'proc_13' :'sum' ,\n",
    "                                                                                         'proc_14' :'sum' ,\n",
    "                                                                                         'proc_15' :'sum' ,\n",
    "                                                                                         'proc_16' :'sum' ,\n",
    "                                                                                         'proc_17' :'sum' ,\n",
    "                                                                                         'proc_18' :'sum' ,\n",
    "                                                                                         'proc_19' :'sum' ,\n",
    "                                                                                         'proc_20' :'sum' ,\n",
    "                                                                                         'proc_21' :'sum' ,\n",
    "                                                                                         'proc_22' :'sum' ,\n",
    "                                                                                         'proc_23' :'sum' ,\n",
    "                                                                                         'proc_24' :'sum' ,\n",
    "                                                                                         'proc_25' :'sum' ,\n",
    "                                                                                         'proc_26' :'sum' ,\n",
    "                                                                                         'proc_27' :'sum' ,\n",
    "                                                                                         'proc_28' :'sum' ,\n",
    "                                                                                         'proc_29' :'sum' ,\n",
    "                                                                                         'proc_30' :'sum' ,\n",
    "                                                                                         'proc_31' :'sum' ,\n",
    "                                                                                         'proc_32' :'sum' ,\n",
    "                                                                                         'proc_33' :'sum' ,\n",
    "                                                                                         'proc_34' :'sum' ,\n",
    "                                                                                         'proc_35' :'sum' ,\n",
    "                                                                                         'proc_36' :'sum' ,\n",
    "                                                                                         'proc_37' :'sum' ,\n",
    "                                                                                         'proc_38' :'sum' ,\n",
    "                                                                                         'proc_39' :'sum' ,\n",
    "                                                                                         'proc_40' :'sum' ,\n",
    "                                                                                         'proc_41' :'sum' ,\n",
    "                                                                                         'proc_42' :'sum' ,\n",
    "                                                                                         'proc_43' :'sum' ,\n",
    "                                                                                         'proc_44' :'sum' ,\n",
    "                                                                                         'proc_45' :'sum' ,\n",
    "                                                                                         'proc_46' :'sum' ,\n",
    "                                                                                         'proc_47' :'sum' ,\n",
    "                                                                                         'proc_48' :'sum' ,\n",
    "                                                                                         'proc_49' :'sum' ,\n",
    "                                                                                         'proc_50' :'sum' ,\n",
    "                                                                                         'proc_51' :'sum' ,\n",
    "                                                                                         'proc_52' :'sum' ,\n",
    "                                                                                         'proc_53' :'sum' ,\n",
    "                                                                                         'proc_54' :'sum' ,\n",
    "                                                                                         'proc_55' :'sum' ,\n",
    "                                                                                         'proc_56' :'sum' ,\n",
    "                                                                                         'proc_57' :'sum' ,\n",
    "                                                                                         'proc_58' :'sum' ,\n",
    "                                                                                         'proc_59' :'sum' ,\n",
    "                                                                                         'proc_60' :'sum' ,\n",
    "                                                                                         'proc_61' :'sum' ,\n",
    "                                                                                         'proc_62' :'sum' ,\n",
    "                                                                                         'proc_63' :'sum' ,\n",
    "                                                                                         'proc_64' :'sum' ,\n",
    "                                                                                         'proc_65' :'sum' ,\n",
    "                                                                                         'proc_66' :'sum' ,\n",
    "                                                                                         'proc_67' :'sum' ,\n",
    "                                                                                         'proc_68' :'sum' ,\n",
    "                                                                                         'proc_69' :'sum' ,\n",
    "                                                                                         'proc_70' :'sum' ,\n",
    "                                                                                         'proc_71' :'sum' ,\n",
    "                                                                                         'proc_72' :'sum' ,\n",
    "                                                                                         'proc_73' :'sum' ,\n",
    "                                                                                         'proc_74' :'sum' ,\n",
    "                                                                                         'proc_75' :'sum' ,\n",
    "                                                                                         'proc_76' :'sum' ,\n",
    "                                                                                         'proc_77' :'sum' ,\n",
    "                                                                                         'proc_78' :'sum' ,\n",
    "                                                                                         'proc_79' :'sum' ,\n",
    "                                                                                         'proc_80' :'sum' ,\n",
    "                                                                                         'proc_81' :'sum' ,\n",
    "                                                                                         'proc_82' :'sum' ,\n",
    "                                                                                         'proc_83' :'sum' ,\n",
    "                                                                                         'proc_84' :'sum' ,\n",
    "                                                                                         'proc_85' :'sum' ,\n",
    "                                                                                         'proc_86' :'sum' ,\n",
    "                                                                                         'proc_87' :'sum' ,\n",
    "                                                                                         'proc_88' :'sum' ,\n",
    "                                                                                         'proc_89' :'sum' ,\n",
    "                                                                                         'proc_90' :'sum' ,\n",
    "                                                                                         'proc_91' :'sum' ,\n",
    "                                                                                         'proc_92' :'sum' ,\n",
    "                                                                                         'proc_93' :'sum' ,\n",
    "                                                                                         'proc_94' :'sum' ,\n",
    "                                                                                         'proc_95' :'sum' ,\n",
    "                                                                                         'proc_96' :'sum' ,\n",
    "                                                                                         'proc_97' :'sum' ,\n",
    "                                                                                         'proc_98' :'sum' ,\n",
    "                                                                                         'proc_99' :'sum' ,\n",
    "                                                                                         'proc_100' :'sum' ,\n",
    "                                                                                         'proc_101' :'sum' ,\n",
    "                                                                                         'proc_102' :'sum' ,\n",
    "                                                                                         'proc_103' :'sum' ,\n",
    "                                                                                         'proc_104' :'sum' ,\n",
    "                                                                                         'proc_105' :'sum' ,\n",
    "                                                                                         'proc_106' :'sum' ,\n",
    "                                                                                         'proc_107' :'sum' ,\n",
    "                                                                                         'proc_108' :'sum' ,\n",
    "                                                                                         'proc_109' :'sum' ,\n",
    "                                                                                         'proc_110' :'sum' ,\n",
    "                                                                                         'proc_111' :'sum' ,\n",
    "                                                                                         'proc_112' :'sum' ,\n",
    "                                                                                         'proc_113' :'sum' ,\n",
    "                                                                                         'proc_114' :'sum' ,\n",
    "                                                                                         'proc_115' :'sum' ,\n",
    "                                                                                         'proc_116' :'sum' ,\n",
    "                                                                                         'proc_117' :'sum' ,\n",
    "                                                                                         'proc_118' :'sum' ,\n",
    "                                                                                         'proc_119' :'sum' ,\n",
    "                                                                                         'proc_120' :'sum' ,\n",
    "                                                                                         'proc_121' :'sum' ,\n",
    "                                                                                         'proc_122' :'sum' ,\n",
    "                                                                                         'proc_123' :'sum' ,\n",
    "                                                                                         'proc_124' :'sum' ,\n",
    "                                                                                         'proc_125' :'sum' ,\n",
    "                                                                                         'proc_126' :'sum' ,\n",
    "                                                                                         'proc_127' :'sum' ,\n",
    "                                                                                         'proc_128' :'sum' ,\n",
    "                                                                                         'proc_129' :'sum' ,\n",
    "                                                                                         'proc_130' :'sum' }))"
   ]
  },
  {
   "cell_type": "code",
   "execution_count": 29,
   "metadata": {
    "collapsed": true
   },
   "outputs": [],
   "source": [
    "Review_transaction_grouped = Review_transaction_grouped.reset_index()"
   ]
  },
  {
   "cell_type": "code",
   "execution_count": 30,
   "metadata": {
    "collapsed": true
   },
   "outputs": [],
   "source": [
    "# Review dataset do not have patient opting for proc 4 - hence creating a dummy column with all zeros\n",
    "Review_transaction_grouped['proc_4'] = 0"
   ]
  },
  {
   "cell_type": "code",
   "execution_count": 31,
   "metadata": {
    "collapsed": true
   },
   "outputs": [],
   "source": [
    "review_dataset = Review_transaction_grouped.merge(Review_patient,on='id', how='left')"
   ]
  },
  {
   "cell_type": "markdown",
   "metadata": {},
   "source": [
    "    Adding flag to the review and unmarked datasets"
   ]
  },
  {
   "cell_type": "code",
   "execution_count": 32,
   "metadata": {
    "collapsed": true
   },
   "outputs": [],
   "source": [
    "full_dataset['REVIEW_IND'] = 0"
   ]
  },
  {
   "cell_type": "code",
   "execution_count": 33,
   "metadata": {
    "collapsed": true
   },
   "outputs": [],
   "source": [
    "review_dataset['REVIEW_IND'] = 1"
   ]
  },
  {
   "cell_type": "markdown",
   "metadata": {},
   "source": [
    "    Aligning the data type - int64 to all dummy variables"
   ]
  },
  {
   "cell_type": "code",
   "execution_count": 34,
   "metadata": {
    "collapsed": true
   },
   "outputs": [],
   "source": [
    "list1 = (full_dataset.filter(like='proc').columns)"
   ]
  },
  {
   "cell_type": "code",
   "execution_count": 35,
   "metadata": {
    "collapsed": true
   },
   "outputs": [],
   "source": [
    "full_dataset[list1] = full_dataset[list1].astype('int64')\n",
    "review_dataset[list1] = full_dataset[list1].astype('int64')"
   ]
  },
  {
   "cell_type": "code",
   "execution_count": 36,
   "metadata": {
    "collapsed": true
   },
   "outputs": [],
   "source": [
    "# Dropping columns having null values\n",
    "full_dataset.dropna(axis=0, how='any', inplace = True)"
   ]
  },
  {
   "cell_type": "code",
   "execution_count": 37,
   "metadata": {
    "collapsed": true
   },
   "outputs": [],
   "source": [
    "full_dataset[['INCOME_GROUP', 'AGE_GROUP', 'GENDER_GROUP']] = full_dataset[['INCOME_GROUP', 'AGE_GROUP', 'GENDER_GROUP']].astype('int64')"
   ]
  },
  {
   "cell_type": "code",
   "execution_count": 38,
   "metadata": {},
   "outputs": [
    {
     "name": "stdout",
     "output_type": "stream",
     "text": [
      "<class 'pandas.core.frame.DataFrame'>\n",
      "Int64Index: 500000 entries, 1 to 505000\n",
      "Columns: 136 entries, id to REVIEW_IND\n",
      "dtypes: int64(136)\n",
      "memory usage: 522.6 MB\n"
     ]
    }
   ],
   "source": [
    "full_dataset.info()"
   ]
  },
  {
   "cell_type": "code",
   "execution_count": 39,
   "metadata": {},
   "outputs": [
    {
     "name": "stdout",
     "output_type": "stream",
     "text": [
      "<class 'pandas.core.frame.DataFrame'>\n",
      "Int64Index: 5000 entries, 0 to 4999\n",
      "Columns: 136 entries, id to REVIEW_IND\n",
      "dtypes: int64(136)\n",
      "memory usage: 5.2 MB\n"
     ]
    }
   ],
   "source": [
    "review_dataset.info()"
   ]
  },
  {
   "cell_type": "code",
   "execution_count": 40,
   "metadata": {},
   "outputs": [
    {
     "data": {
      "text/plain": [
       "500000"
      ]
     },
     "execution_count": 40,
     "metadata": {},
     "output_type": "execute_result"
    }
   ],
   "source": [
    "full_dataset['id'].count()"
   ]
  },
  {
   "cell_type": "code",
   "execution_count": 41,
   "metadata": {},
   "outputs": [
    {
     "data": {
      "text/plain": [
       "5000"
      ]
     },
     "execution_count": 41,
     "metadata": {},
     "output_type": "execute_result"
    }
   ],
   "source": [
    "review_dataset['id'].count()"
   ]
  },
  {
   "cell_type": "markdown",
   "metadata": {},
   "source": [
    "    So at this moment we have 500000 unmarked patients and 5000 marked (review) patient.\n",
    "    This is an imbalanced data.\n",
    "    \n",
    "    We have to create a model by sampling out data from unmarked dataset and overfitting the review patient to get\n",
    "    a balanced data."
   ]
  },
  {
   "cell_type": "markdown",
   "metadata": {},
   "source": [
    "    #3. Using SMOTE (overfitting) and Random forest to perform association analysis"
   ]
  },
  {
   "cell_type": "code",
   "execution_count": 42,
   "metadata": {
    "collapsed": true
   },
   "outputs": [],
   "source": [
    "sample_dataset = full_dataset.sample(frac=0.1)"
   ]
  },
  {
   "cell_type": "code",
   "execution_count": 43,
   "metadata": {
    "collapsed": true
   },
   "outputs": [],
   "source": [
    "frames = [sample_dataset, review_dataset]\n",
    "train_df = pd.concat(frames)"
   ]
  },
  {
   "cell_type": "code",
   "execution_count": 44,
   "metadata": {
    "collapsed": true
   },
   "outputs": [],
   "source": [
    "cols = train_df.columns.difference( ['REVIEW_IND', 'id'] )"
   ]
  },
  {
   "cell_type": "code",
   "execution_count": 45,
   "metadata": {
    "collapsed": true
   },
   "outputs": [],
   "source": [
    "df_train = train_df[cols ]\n",
    "df_test = full_dataset[cols ]"
   ]
  },
  {
   "cell_type": "code",
   "execution_count": 46,
   "metadata": {
    "collapsed": true
   },
   "outputs": [],
   "source": [
    "from sklearn.cross_validation import train_test_split\n",
    "\n",
    "\n",
    "train_X, test_X, train_y, test_y = train_test_split( train_df[cols ],\n",
    "                                                  train_df['REVIEW_IND'],\n",
    "                                                  test_size = 0.2,\n",
    "                                                  random_state = 42 )"
   ]
  },
  {
   "cell_type": "markdown",
   "metadata": {},
   "source": [
    "    Overfitting the data using SMOTE"
   ]
  },
  {
   "cell_type": "code",
   "execution_count": 47,
   "metadata": {},
   "outputs": [
    {
     "name": "stderr",
     "output_type": "stream",
     "text": [
      "C:\\Users\\lenovo\\AppData\\Local\\Continuum\\anaconda2\\lib\\site-packages\\sklearn\\utils\\deprecation.py:77: DeprecationWarning: Function _ratio_float is deprecated; Use a float for 'ratio' is deprecated from version 0.2. The support will be removed in 0.4. Use a dict, str, or a callable instead.\n",
      "  warnings.warn(msg, category=DeprecationWarning)\n"
     ]
    }
   ],
   "source": [
    "from imblearn.over_sampling import SMOTE\n",
    "sm = SMOTE(random_state=123, ratio = 0.5)\n",
    "x_train_res, y_train_res = sm.fit_sample(train_X,  train_y)"
   ]
  },
  {
   "cell_type": "markdown",
   "metadata": {},
   "source": [
    "    Using RANDOM Forest to get the final model and getting the prediction probabilities"
   ]
  },
  {
   "cell_type": "code",
   "execution_count": 48,
   "metadata": {
    "collapsed": true
   },
   "outputs": [],
   "source": [
    "from sklearn.ensemble import RandomForestClassifier"
   ]
  },
  {
   "cell_type": "code",
   "execution_count": 49,
   "metadata": {
    "collapsed": true
   },
   "outputs": [],
   "source": [
    "df_test  = full_dataset.copy()"
   ]
  },
  {
   "cell_type": "code",
   "execution_count": 50,
   "metadata": {},
   "outputs": [
    {
     "data": {
      "text/html": [
       "<div>\n",
       "<style>\n",
       "    .dataframe thead tr:only-child th {\n",
       "        text-align: right;\n",
       "    }\n",
       "\n",
       "    .dataframe thead th {\n",
       "        text-align: left;\n",
       "    }\n",
       "\n",
       "    .dataframe tbody tr th {\n",
       "        vertical-align: top;\n",
       "    }\n",
       "</style>\n",
       "<table border=\"1\" class=\"dataframe\">\n",
       "  <thead>\n",
       "    <tr style=\"text-align: right;\">\n",
       "      <th></th>\n",
       "      <th>AGE_GROUP</th>\n",
       "      <th>GENDER_GROUP</th>\n",
       "      <th>INCOME_GROUP</th>\n",
       "      <th>count</th>\n",
       "      <th>proc_1</th>\n",
       "      <th>proc_10</th>\n",
       "      <th>proc_100</th>\n",
       "      <th>proc_101</th>\n",
       "      <th>proc_102</th>\n",
       "      <th>proc_103</th>\n",
       "      <th>...</th>\n",
       "      <th>proc_90</th>\n",
       "      <th>proc_91</th>\n",
       "      <th>proc_92</th>\n",
       "      <th>proc_93</th>\n",
       "      <th>proc_94</th>\n",
       "      <th>proc_95</th>\n",
       "      <th>proc_96</th>\n",
       "      <th>proc_97</th>\n",
       "      <th>proc_98</th>\n",
       "      <th>proc_99</th>\n",
       "    </tr>\n",
       "  </thead>\n",
       "  <tbody>\n",
       "    <tr>\n",
       "      <th>1</th>\n",
       "      <td>2</td>\n",
       "      <td>1</td>\n",
       "      <td>5</td>\n",
       "      <td>2</td>\n",
       "      <td>0</td>\n",
       "      <td>0</td>\n",
       "      <td>0</td>\n",
       "      <td>0</td>\n",
       "      <td>0</td>\n",
       "      <td>0</td>\n",
       "      <td>...</td>\n",
       "      <td>0</td>\n",
       "      <td>0</td>\n",
       "      <td>0</td>\n",
       "      <td>0</td>\n",
       "      <td>0</td>\n",
       "      <td>0</td>\n",
       "      <td>0</td>\n",
       "      <td>0</td>\n",
       "      <td>0</td>\n",
       "      <td>0</td>\n",
       "    </tr>\n",
       "    <tr>\n",
       "      <th>2</th>\n",
       "      <td>1</td>\n",
       "      <td>0</td>\n",
       "      <td>5</td>\n",
       "      <td>3</td>\n",
       "      <td>0</td>\n",
       "      <td>0</td>\n",
       "      <td>0</td>\n",
       "      <td>0</td>\n",
       "      <td>0</td>\n",
       "      <td>0</td>\n",
       "      <td>...</td>\n",
       "      <td>0</td>\n",
       "      <td>0</td>\n",
       "      <td>0</td>\n",
       "      <td>0</td>\n",
       "      <td>0</td>\n",
       "      <td>0</td>\n",
       "      <td>0</td>\n",
       "      <td>0</td>\n",
       "      <td>0</td>\n",
       "      <td>0</td>\n",
       "    </tr>\n",
       "    <tr>\n",
       "      <th>3</th>\n",
       "      <td>2</td>\n",
       "      <td>0</td>\n",
       "      <td>1</td>\n",
       "      <td>5</td>\n",
       "      <td>0</td>\n",
       "      <td>0</td>\n",
       "      <td>0</td>\n",
       "      <td>0</td>\n",
       "      <td>0</td>\n",
       "      <td>0</td>\n",
       "      <td>...</td>\n",
       "      <td>0</td>\n",
       "      <td>0</td>\n",
       "      <td>0</td>\n",
       "      <td>0</td>\n",
       "      <td>0</td>\n",
       "      <td>0</td>\n",
       "      <td>0</td>\n",
       "      <td>0</td>\n",
       "      <td>0</td>\n",
       "      <td>0</td>\n",
       "    </tr>\n",
       "    <tr>\n",
       "      <th>4</th>\n",
       "      <td>3</td>\n",
       "      <td>1</td>\n",
       "      <td>1</td>\n",
       "      <td>2</td>\n",
       "      <td>0</td>\n",
       "      <td>0</td>\n",
       "      <td>0</td>\n",
       "      <td>0</td>\n",
       "      <td>0</td>\n",
       "      <td>0</td>\n",
       "      <td>...</td>\n",
       "      <td>0</td>\n",
       "      <td>0</td>\n",
       "      <td>0</td>\n",
       "      <td>0</td>\n",
       "      <td>0</td>\n",
       "      <td>0</td>\n",
       "      <td>0</td>\n",
       "      <td>0</td>\n",
       "      <td>0</td>\n",
       "      <td>0</td>\n",
       "    </tr>\n",
       "    <tr>\n",
       "      <th>5</th>\n",
       "      <td>4</td>\n",
       "      <td>1</td>\n",
       "      <td>4</td>\n",
       "      <td>8</td>\n",
       "      <td>0</td>\n",
       "      <td>0</td>\n",
       "      <td>0</td>\n",
       "      <td>0</td>\n",
       "      <td>0</td>\n",
       "      <td>0</td>\n",
       "      <td>...</td>\n",
       "      <td>0</td>\n",
       "      <td>0</td>\n",
       "      <td>0</td>\n",
       "      <td>0</td>\n",
       "      <td>0</td>\n",
       "      <td>0</td>\n",
       "      <td>0</td>\n",
       "      <td>0</td>\n",
       "      <td>0</td>\n",
       "      <td>2</td>\n",
       "    </tr>\n",
       "  </tbody>\n",
       "</table>\n",
       "<p>5 rows × 134 columns</p>\n",
       "</div>"
      ],
      "text/plain": [
       "   AGE_GROUP  GENDER_GROUP  INCOME_GROUP  count  proc_1  proc_10  proc_100  \\\n",
       "1          2             1             5      2       0        0         0   \n",
       "2          1             0             5      3       0        0         0   \n",
       "3          2             0             1      5       0        0         0   \n",
       "4          3             1             1      2       0        0         0   \n",
       "5          4             1             4      8       0        0         0   \n",
       "\n",
       "   proc_101  proc_102  proc_103   ...     proc_90  proc_91  proc_92  proc_93  \\\n",
       "1         0         0         0   ...           0        0        0        0   \n",
       "2         0         0         0   ...           0        0        0        0   \n",
       "3         0         0         0   ...           0        0        0        0   \n",
       "4         0         0         0   ...           0        0        0        0   \n",
       "5         0         0         0   ...           0        0        0        0   \n",
       "\n",
       "   proc_94  proc_95  proc_96  proc_97  proc_98  proc_99  \n",
       "1        0        0        0        0        0        0  \n",
       "2        0        0        0        0        0        0  \n",
       "3        0        0        0        0        0        0  \n",
       "4        0        0        0        0        0        0  \n",
       "5        0        0        0        0        0        2  \n",
       "\n",
       "[5 rows x 134 columns]"
      ]
     },
     "execution_count": 50,
     "metadata": {},
     "output_type": "execute_result"
    }
   ],
   "source": [
    "df_test[cols].head()"
   ]
  },
  {
   "cell_type": "markdown",
   "metadata": {},
   "source": [
    "    Using the sampled overfitted data as train dataset and the complete unmarked data as test dataset"
   ]
  },
  {
   "cell_type": "code",
   "execution_count": 51,
   "metadata": {},
   "outputs": [
    {
     "data": {
      "text/plain": [
       "array([0, 1, 0, ..., 0, 0, 0], dtype=int64)"
      ]
     },
     "metadata": {},
     "output_type": "display_data"
    }
   ],
   "source": [
    "clf = RandomForestClassifier(n_estimators=50 )\n",
    "clf.fit(x_train_res, y_train_res)\n",
    "\n",
    "# Make predictions for train and test dataset\n",
    "predictions_train = clf.predict(x_train_res)\n",
    "probs_train = clf.predict_proba(x_train_res)\n",
    "predictions = clf.predict(df_test[cols])\n",
    "probs = clf.predict_proba(df_test[cols])\n",
    "display(predictions)"
   ]
  },
  {
   "cell_type": "code",
   "execution_count": 52,
   "metadata": {},
   "outputs": [
    {
     "name": "stdout",
     "output_type": "stream",
     "text": [
      "('Accuracy: ', 0.99458504806811177)\n"
     ]
    }
   ],
   "source": [
    "score = clf.score(x_train_res, y_train_res)\n",
    "print(\"Accuracy: \", score)"
   ]
  },
  {
   "cell_type": "code",
   "execution_count": 53,
   "metadata": {},
   "outputs": [
    {
     "data": {
      "text/plain": [
       "Text(0.5,15,u'Predicted label')"
      ]
     },
     "execution_count": 53,
     "metadata": {},
     "output_type": "execute_result"
    },
    {
     "data": {
      "image/png": "[encoded data removed]",
      "text/plain": [
       "<matplotlib.figure.Figure at 0x10f56400>"
      ]
     },
     "metadata": {},
     "output_type": "display_data"
    }
   ],
   "source": [
    "tree_cm = metrics.confusion_matrix( predictions_train,\n",
    "                                 y_train_res, [1,0] )\n",
    "sns.heatmap(tree_cm, annot=True,\n",
    "         fmt='.2f',\n",
    "         xticklabels = [\"Review\", \"No Review\"] , yticklabels = [\"Review\", \"No Review\"] )\n",
    "\n",
    "plt.ylabel('True label')\n",
    "plt.xlabel('Predicted label')"
   ]
  },
  {
   "cell_type": "markdown",
   "metadata": {},
   "source": [
    "    This is more accurately identifying the REVIEW =1 indicator\n",
    "    19705/20006 = 98%"
   ]
  },
  {
   "cell_type": "code",
   "execution_count": 54,
   "metadata": {
    "collapsed": true
   },
   "outputs": [],
   "source": [
    "#Predicting the test cases\n",
    "predictions_train_df = pd.DataFrame( { 'actual':  y_train_res,\n",
    "                            'predicted': predictions_train } )"
   ]
  },
  {
   "cell_type": "code",
   "execution_count": 55,
   "metadata": {
    "collapsed": true
   },
   "outputs": [],
   "source": [
    "probs_train_df = pd.DataFrame(probs_train)"
   ]
  },
  {
   "cell_type": "code",
   "execution_count": 56,
   "metadata": {
    "collapsed": true
   },
   "outputs": [],
   "source": [
    "train_pred = pd.concat( [predictions_train_df, probs_train_df], axis = 1 )"
   ]
  },
  {
   "cell_type": "code",
   "execution_count": 57,
   "metadata": {
    "collapsed": true
   },
   "outputs": [],
   "source": [
    "train_pred.columns = ['actual', 'predicted', 'Review_0', 'Review_1']"
   ]
  },
  {
   "cell_type": "code",
   "execution_count": 58,
   "metadata": {},
   "outputs": [
    {
     "data": {
      "text/html": [
       "<div>\n",
       "<style>\n",
       "    .dataframe thead tr:only-child th {\n",
       "        text-align: right;\n",
       "    }\n",
       "\n",
       "    .dataframe thead th {\n",
       "        text-align: left;\n",
       "    }\n",
       "\n",
       "    .dataframe tbody tr th {\n",
       "        vertical-align: top;\n",
       "    }\n",
       "</style>\n",
       "<table border=\"1\" class=\"dataframe\">\n",
       "  <thead>\n",
       "    <tr style=\"text-align: right;\">\n",
       "      <th></th>\n",
       "      <th>actual</th>\n",
       "      <th>predicted</th>\n",
       "      <th>Review_0</th>\n",
       "      <th>Review_1</th>\n",
       "    </tr>\n",
       "  </thead>\n",
       "  <tbody>\n",
       "    <tr>\n",
       "      <th>0</th>\n",
       "      <td>0</td>\n",
       "      <td>0</td>\n",
       "      <td>1.00</td>\n",
       "      <td>0.00</td>\n",
       "    </tr>\n",
       "    <tr>\n",
       "      <th>1</th>\n",
       "      <td>0</td>\n",
       "      <td>0</td>\n",
       "      <td>0.90</td>\n",
       "      <td>0.10</td>\n",
       "    </tr>\n",
       "    <tr>\n",
       "      <th>2</th>\n",
       "      <td>1</td>\n",
       "      <td>1</td>\n",
       "      <td>0.26</td>\n",
       "      <td>0.74</td>\n",
       "    </tr>\n",
       "    <tr>\n",
       "      <th>3</th>\n",
       "      <td>0</td>\n",
       "      <td>0</td>\n",
       "      <td>1.00</td>\n",
       "      <td>0.00</td>\n",
       "    </tr>\n",
       "    <tr>\n",
       "      <th>4</th>\n",
       "      <td>0</td>\n",
       "      <td>0</td>\n",
       "      <td>1.00</td>\n",
       "      <td>0.00</td>\n",
       "    </tr>\n",
       "    <tr>\n",
       "      <th>5</th>\n",
       "      <td>1</td>\n",
       "      <td>1</td>\n",
       "      <td>0.34</td>\n",
       "      <td>0.66</td>\n",
       "    </tr>\n",
       "    <tr>\n",
       "      <th>6</th>\n",
       "      <td>0</td>\n",
       "      <td>0</td>\n",
       "      <td>1.00</td>\n",
       "      <td>0.00</td>\n",
       "    </tr>\n",
       "    <tr>\n",
       "      <th>7</th>\n",
       "      <td>0</td>\n",
       "      <td>0</td>\n",
       "      <td>1.00</td>\n",
       "      <td>0.00</td>\n",
       "    </tr>\n",
       "    <tr>\n",
       "      <th>8</th>\n",
       "      <td>0</td>\n",
       "      <td>0</td>\n",
       "      <td>0.96</td>\n",
       "      <td>0.04</td>\n",
       "    </tr>\n",
       "    <tr>\n",
       "      <th>9</th>\n",
       "      <td>1</td>\n",
       "      <td>1</td>\n",
       "      <td>0.26</td>\n",
       "      <td>0.74</td>\n",
       "    </tr>\n",
       "  </tbody>\n",
       "</table>\n",
       "</div>"
      ],
      "text/plain": [
       "   actual  predicted  Review_0  Review_1\n",
       "0       0          0      1.00      0.00\n",
       "1       0          0      0.90      0.10\n",
       "2       1          1      0.26      0.74\n",
       "3       0          0      1.00      0.00\n",
       "4       0          0      1.00      0.00\n",
       "5       1          1      0.34      0.66\n",
       "6       0          0      1.00      0.00\n",
       "7       0          0      1.00      0.00\n",
       "8       0          0      0.96      0.04\n",
       "9       1          1      0.26      0.74"
      ]
     },
     "execution_count": 58,
     "metadata": {},
     "output_type": "execute_result"
    }
   ],
   "source": [
    "train_pred.head(10)"
   ]
  },
  {
   "cell_type": "code",
   "execution_count": 59,
   "metadata": {},
   "outputs": [
    {
     "name": "stdout",
     "output_type": "stream",
     "text": [
      "('Accuracy: ', 0.97242600000000001)\n"
     ]
    }
   ],
   "source": [
    "#Score for test Datasets\n",
    "score = clf.score(df_test[cols], df_test[\"REVIEW_IND\"])\n",
    "print(\"Accuracy: \", score)"
   ]
  },
  {
   "cell_type": "markdown",
   "metadata": {},
   "source": [
    "    There are 13787 patient who are showing as anomolous -REVIEW_ID predicted as 1 (having prediction prob > 0.5)\n",
    "    This is close to our objective of finding 10000 patient"
   ]
  },
  {
   "cell_type": "markdown",
   "metadata": {},
   "source": [
    "    Adding test probabilities with test datasets"
   ]
  },
  {
   "cell_type": "code",
   "execution_count": 65,
   "metadata": {
    "collapsed": true
   },
   "outputs": [],
   "source": [
    "df_test[\"prob_true\"] = probs[:, 1]"
   ]
  },
  {
   "cell_type": "code",
   "execution_count": 66,
   "metadata": {},
   "outputs": [
    {
     "data": {
      "text/plain": [
       "13787"
      ]
     },
     "execution_count": 66,
     "metadata": {},
     "output_type": "execute_result"
    }
   ],
   "source": [
    "df_anomalous= df_test[df_test[\"prob_true\"] > 0.5 ]\n",
    "df_anomalous[\"prob_true\"].count()"
   ]
  },
  {
   "cell_type": "code",
   "execution_count": 67,
   "metadata": {},
   "outputs": [
    {
     "data": {
      "text/html": [
       "<div>\n",
       "<style>\n",
       "    .dataframe thead tr:only-child th {\n",
       "        text-align: right;\n",
       "    }\n",
       "\n",
       "    .dataframe thead th {\n",
       "        text-align: left;\n",
       "    }\n",
       "\n",
       "    .dataframe tbody tr th {\n",
       "        vertical-align: top;\n",
       "    }\n",
       "</style>\n",
       "<table border=\"1\" class=\"dataframe\">\n",
       "  <thead>\n",
       "    <tr style=\"text-align: right;\">\n",
       "      <th></th>\n",
       "      <th>id</th>\n",
       "      <th>proc_57</th>\n",
       "      <th>proc_56</th>\n",
       "      <th>proc_19</th>\n",
       "      <th>proc_18</th>\n",
       "      <th>proc_53</th>\n",
       "      <th>proc_52</th>\n",
       "      <th>proc_51</th>\n",
       "      <th>proc_50</th>\n",
       "      <th>proc_13</th>\n",
       "      <th>...</th>\n",
       "      <th>proc_30</th>\n",
       "      <th>proc_33</th>\n",
       "      <th>proc_32</th>\n",
       "      <th>proc_39</th>\n",
       "      <th>proc_38</th>\n",
       "      <th>INCOME_GROUP</th>\n",
       "      <th>AGE_GROUP</th>\n",
       "      <th>GENDER_GROUP</th>\n",
       "      <th>REVIEW_IND</th>\n",
       "      <th>prob_true</th>\n",
       "    </tr>\n",
       "  </thead>\n",
       "  <tbody>\n",
       "    <tr>\n",
       "      <th>2</th>\n",
       "      <td>7619</td>\n",
       "      <td>0</td>\n",
       "      <td>0</td>\n",
       "      <td>0</td>\n",
       "      <td>0</td>\n",
       "      <td>0</td>\n",
       "      <td>0</td>\n",
       "      <td>0</td>\n",
       "      <td>0</td>\n",
       "      <td>0</td>\n",
       "      <td>...</td>\n",
       "      <td>0</td>\n",
       "      <td>0</td>\n",
       "      <td>0</td>\n",
       "      <td>0</td>\n",
       "      <td>0</td>\n",
       "      <td>5</td>\n",
       "      <td>1</td>\n",
       "      <td>0</td>\n",
       "      <td>0</td>\n",
       "      <td>0.680000</td>\n",
       "    </tr>\n",
       "    <tr>\n",
       "      <th>8</th>\n",
       "      <td>19302</td>\n",
       "      <td>0</td>\n",
       "      <td>0</td>\n",
       "      <td>0</td>\n",
       "      <td>0</td>\n",
       "      <td>0</td>\n",
       "      <td>0</td>\n",
       "      <td>0</td>\n",
       "      <td>0</td>\n",
       "      <td>0</td>\n",
       "      <td>...</td>\n",
       "      <td>0</td>\n",
       "      <td>0</td>\n",
       "      <td>0</td>\n",
       "      <td>0</td>\n",
       "      <td>0</td>\n",
       "      <td>5</td>\n",
       "      <td>4</td>\n",
       "      <td>0</td>\n",
       "      <td>0</td>\n",
       "      <td>0.603667</td>\n",
       "    </tr>\n",
       "    <tr>\n",
       "      <th>12</th>\n",
       "      <td>27143</td>\n",
       "      <td>0</td>\n",
       "      <td>0</td>\n",
       "      <td>1</td>\n",
       "      <td>0</td>\n",
       "      <td>0</td>\n",
       "      <td>0</td>\n",
       "      <td>0</td>\n",
       "      <td>0</td>\n",
       "      <td>0</td>\n",
       "      <td>...</td>\n",
       "      <td>0</td>\n",
       "      <td>0</td>\n",
       "      <td>0</td>\n",
       "      <td>0</td>\n",
       "      <td>0</td>\n",
       "      <td>3</td>\n",
       "      <td>4</td>\n",
       "      <td>1</td>\n",
       "      <td>0</td>\n",
       "      <td>0.860000</td>\n",
       "    </tr>\n",
       "    <tr>\n",
       "      <th>101</th>\n",
       "      <td>191852</td>\n",
       "      <td>0</td>\n",
       "      <td>0</td>\n",
       "      <td>0</td>\n",
       "      <td>0</td>\n",
       "      <td>0</td>\n",
       "      <td>0</td>\n",
       "      <td>0</td>\n",
       "      <td>0</td>\n",
       "      <td>0</td>\n",
       "      <td>...</td>\n",
       "      <td>0</td>\n",
       "      <td>0</td>\n",
       "      <td>0</td>\n",
       "      <td>0</td>\n",
       "      <td>0</td>\n",
       "      <td>1</td>\n",
       "      <td>2</td>\n",
       "      <td>1</td>\n",
       "      <td>0</td>\n",
       "      <td>0.582000</td>\n",
       "    </tr>\n",
       "    <tr>\n",
       "      <th>169</th>\n",
       "      <td>322803</td>\n",
       "      <td>0</td>\n",
       "      <td>0</td>\n",
       "      <td>0</td>\n",
       "      <td>0</td>\n",
       "      <td>0</td>\n",
       "      <td>0</td>\n",
       "      <td>0</td>\n",
       "      <td>0</td>\n",
       "      <td>0</td>\n",
       "      <td>...</td>\n",
       "      <td>0</td>\n",
       "      <td>0</td>\n",
       "      <td>0</td>\n",
       "      <td>0</td>\n",
       "      <td>0</td>\n",
       "      <td>3</td>\n",
       "      <td>1</td>\n",
       "      <td>0</td>\n",
       "      <td>0</td>\n",
       "      <td>0.660000</td>\n",
       "    </tr>\n",
       "  </tbody>\n",
       "</table>\n",
       "<p>5 rows × 137 columns</p>\n",
       "</div>"
      ],
      "text/plain": [
       "         id  proc_57  proc_56  proc_19  proc_18  proc_53  proc_52  proc_51  \\\n",
       "2      7619        0        0        0        0        0        0        0   \n",
       "8     19302        0        0        0        0        0        0        0   \n",
       "12    27143        0        0        1        0        0        0        0   \n",
       "101  191852        0        0        0        0        0        0        0   \n",
       "169  322803        0        0        0        0        0        0        0   \n",
       "\n",
       "     proc_50  proc_13    ...      proc_30  proc_33  proc_32  proc_39  proc_38  \\\n",
       "2          0        0    ...            0        0        0        0        0   \n",
       "8          0        0    ...            0        0        0        0        0   \n",
       "12         0        0    ...            0        0        0        0        0   \n",
       "101        0        0    ...            0        0        0        0        0   \n",
       "169        0        0    ...            0        0        0        0        0   \n",
       "\n",
       "     INCOME_GROUP  AGE_GROUP  GENDER_GROUP  REVIEW_IND  prob_true  \n",
       "2               5          1             0           0   0.680000  \n",
       "8               5          4             0           0   0.603667  \n",
       "12              3          4             1           0   0.860000  \n",
       "101             1          2             1           0   0.582000  \n",
       "169             3          1             0           0   0.660000  \n",
       "\n",
       "[5 rows x 137 columns]"
      ]
     },
     "execution_count": 67,
     "metadata": {},
     "output_type": "execute_result"
    }
   ],
   "source": [
    "df_anomalous.head()"
   ]
  },
  {
   "cell_type": "code",
   "execution_count": 68,
   "metadata": {
    "collapsed": true
   },
   "outputs": [],
   "source": [
    "df_id_review = df_anomalous['id']"
   ]
  },
  {
   "cell_type": "markdown",
   "metadata": {},
   "source": [
    "    #4. Refining the anomalous patient by K-MEANS Cluster Analysis"
   ]
  },
  {
   "attachments": {},
   "cell_type": "markdown",
   "metadata": {},
   "source": [
    "    Using clustering determine the anomany -\n",
    "    \n",
    "    A. Feature importance - Using Recursive feature elmination (top 20).\n",
    "    B. Using K-MEANS to check if the anomolous participants are clustering together.\n",
    "\n",
    "    KMEANS gives us the suspicious/anamalous patients are getting clustered at Cluster 0 (highest) and Cluster 2 (next high)"
   ]
  },
  {
   "attachments": {
    "image.png": {
     "image/png": "[encoded data removed]"
    }
   },
   "cell_type": "markdown",
   "metadata": {},
   "source": [
    "#### Cluster Analysis -\n",
    "\n",
    "   ![image.png](attachment:image.png)"
   ]
  },
  {
   "attachments": {
    "image.png": {
     "image/png": "[encoded data removed]"
    }
   },
   "cell_type": "markdown",
   "metadata": {},
   "source": [
    "   ![image.png](attachment:image.png)"
   ]
  },
  {
   "cell_type": "code",
   "execution_count": 70,
   "metadata": {
    "collapsed": true
   },
   "outputs": [],
   "source": [
    "indices = np.argsort(clf.feature_importances_)[::-1]"
   ]
  },
  {
   "cell_type": "code",
   "execution_count": 71,
   "metadata": {
    "collapsed": true
   },
   "outputs": [],
   "source": [
    "#Using Recursive feature elmination\n",
    "#The Recursive Feature Elimination (or RFE) works by recursively removing attributes and building a model on those attributes that remain.\n",
    "\n",
    "from sklearn.feature_selection import RFE\n",
    "\n",
    "import itertools\n",
    "\n",
    "rfc = RandomForestClassifier()\n",
    "\n",
    "# create the RFE model and select 20 attributes\n",
    "rfe = RFE(rfc, n_features_to_select=20)\n",
    "rfe = rfe.fit(x_train_res, y_train_res)\n",
    "\n",
    "# summarize the selection of the attributes\n",
    "feature_map = [(i, v) for i, v in itertools.izip_longest(rfe.get_support(), cols)]\n",
    "selected_features = [v for i, v in feature_map if i==True]"
   ]
  },
  {
   "cell_type": "code",
   "execution_count": 72,
   "metadata": {},
   "outputs": [
    {
     "data": {
      "text/plain": [
       "['AGE_GROUP',\n",
       " 'GENDER_GROUP',\n",
       " 'INCOME_GROUP',\n",
       " 'count',\n",
       " 'proc_1',\n",
       " 'proc_11',\n",
       " 'proc_13',\n",
       " 'proc_14',\n",
       " 'proc_17',\n",
       " 'proc_19',\n",
       " 'proc_2',\n",
       " 'proc_20',\n",
       " 'proc_22',\n",
       " 'proc_25',\n",
       " 'proc_26',\n",
       " 'proc_27',\n",
       " 'proc_28',\n",
       " 'proc_3',\n",
       " 'proc_34',\n",
       " 'proc_9']"
      ]
     },
     "execution_count": 72,
     "metadata": {},
     "output_type": "execute_result"
    }
   ],
   "source": [
    "# Selecting top 20 features for clustering\n",
    "selected_features"
   ]
  },
  {
   "cell_type": "markdown",
   "metadata": {},
   "source": [
    "    Preparing Data -\n",
    "    Merging the anomalous data with review data to check if patients are comming together in specific clusters"
   ]
  },
  {
   "cell_type": "code",
   "execution_count": 74,
   "metadata": {},
   "outputs": [],
   "source": [
    "df_subdata = df_anomalous.drop('prob_true', axis =1)"
   ]
  },
  {
   "cell_type": "code",
   "execution_count": 75,
   "metadata": {
    "collapsed": true
   },
   "outputs": [],
   "source": [
    "frames = [df_subdata, review_dataset]\n",
    "medi_data = pd.concat(frames)"
   ]
  },
  {
   "cell_type": "code",
   "execution_count": 76,
   "metadata": {},
   "outputs": [
    {
     "data": {
      "text/html": [
       "<div>\n",
       "<style>\n",
       "    .dataframe thead tr:only-child th {\n",
       "        text-align: right;\n",
       "    }\n",
       "\n",
       "    .dataframe thead th {\n",
       "        text-align: left;\n",
       "    }\n",
       "\n",
       "    .dataframe tbody tr th {\n",
       "        vertical-align: top;\n",
       "    }\n",
       "</style>\n",
       "<table border=\"1\" class=\"dataframe\">\n",
       "  <thead>\n",
       "    <tr style=\"text-align: right;\">\n",
       "      <th></th>\n",
       "      <th>AGE_GROUP</th>\n",
       "      <th>GENDER_GROUP</th>\n",
       "      <th>INCOME_GROUP</th>\n",
       "      <th>REVIEW_IND</th>\n",
       "      <th>count</th>\n",
       "      <th>id</th>\n",
       "      <th>proc_1</th>\n",
       "      <th>proc_10</th>\n",
       "      <th>proc_100</th>\n",
       "      <th>proc_101</th>\n",
       "      <th>...</th>\n",
       "      <th>proc_90</th>\n",
       "      <th>proc_91</th>\n",
       "      <th>proc_92</th>\n",
       "      <th>proc_93</th>\n",
       "      <th>proc_94</th>\n",
       "      <th>proc_95</th>\n",
       "      <th>proc_96</th>\n",
       "      <th>proc_97</th>\n",
       "      <th>proc_98</th>\n",
       "      <th>proc_99</th>\n",
       "    </tr>\n",
       "  </thead>\n",
       "  <tbody>\n",
       "    <tr>\n",
       "      <th>2</th>\n",
       "      <td>1</td>\n",
       "      <td>0</td>\n",
       "      <td>5</td>\n",
       "      <td>0</td>\n",
       "      <td>3</td>\n",
       "      <td>7619</td>\n",
       "      <td>0</td>\n",
       "      <td>0</td>\n",
       "      <td>0</td>\n",
       "      <td>0</td>\n",
       "      <td>...</td>\n",
       "      <td>0</td>\n",
       "      <td>0</td>\n",
       "      <td>0</td>\n",
       "      <td>0</td>\n",
       "      <td>0</td>\n",
       "      <td>0</td>\n",
       "      <td>0</td>\n",
       "      <td>0</td>\n",
       "      <td>0</td>\n",
       "      <td>0</td>\n",
       "    </tr>\n",
       "    <tr>\n",
       "      <th>8</th>\n",
       "      <td>4</td>\n",
       "      <td>0</td>\n",
       "      <td>5</td>\n",
       "      <td>0</td>\n",
       "      <td>3</td>\n",
       "      <td>19302</td>\n",
       "      <td>0</td>\n",
       "      <td>0</td>\n",
       "      <td>0</td>\n",
       "      <td>0</td>\n",
       "      <td>...</td>\n",
       "      <td>0</td>\n",
       "      <td>0</td>\n",
       "      <td>0</td>\n",
       "      <td>0</td>\n",
       "      <td>0</td>\n",
       "      <td>0</td>\n",
       "      <td>0</td>\n",
       "      <td>0</td>\n",
       "      <td>0</td>\n",
       "      <td>0</td>\n",
       "    </tr>\n",
       "    <tr>\n",
       "      <th>12</th>\n",
       "      <td>4</td>\n",
       "      <td>1</td>\n",
       "      <td>3</td>\n",
       "      <td>0</td>\n",
       "      <td>2</td>\n",
       "      <td>27143</td>\n",
       "      <td>0</td>\n",
       "      <td>0</td>\n",
       "      <td>0</td>\n",
       "      <td>0</td>\n",
       "      <td>...</td>\n",
       "      <td>0</td>\n",
       "      <td>0</td>\n",
       "      <td>0</td>\n",
       "      <td>0</td>\n",
       "      <td>0</td>\n",
       "      <td>0</td>\n",
       "      <td>0</td>\n",
       "      <td>0</td>\n",
       "      <td>0</td>\n",
       "      <td>0</td>\n",
       "    </tr>\n",
       "    <tr>\n",
       "      <th>101</th>\n",
       "      <td>2</td>\n",
       "      <td>1</td>\n",
       "      <td>1</td>\n",
       "      <td>0</td>\n",
       "      <td>3</td>\n",
       "      <td>191852</td>\n",
       "      <td>1</td>\n",
       "      <td>0</td>\n",
       "      <td>0</td>\n",
       "      <td>0</td>\n",
       "      <td>...</td>\n",
       "      <td>0</td>\n",
       "      <td>0</td>\n",
       "      <td>0</td>\n",
       "      <td>0</td>\n",
       "      <td>0</td>\n",
       "      <td>0</td>\n",
       "      <td>0</td>\n",
       "      <td>0</td>\n",
       "      <td>0</td>\n",
       "      <td>0</td>\n",
       "    </tr>\n",
       "    <tr>\n",
       "      <th>169</th>\n",
       "      <td>1</td>\n",
       "      <td>0</td>\n",
       "      <td>3</td>\n",
       "      <td>0</td>\n",
       "      <td>4</td>\n",
       "      <td>322803</td>\n",
       "      <td>0</td>\n",
       "      <td>0</td>\n",
       "      <td>0</td>\n",
       "      <td>0</td>\n",
       "      <td>...</td>\n",
       "      <td>0</td>\n",
       "      <td>0</td>\n",
       "      <td>0</td>\n",
       "      <td>0</td>\n",
       "      <td>0</td>\n",
       "      <td>0</td>\n",
       "      <td>0</td>\n",
       "      <td>0</td>\n",
       "      <td>0</td>\n",
       "      <td>0</td>\n",
       "    </tr>\n",
       "  </tbody>\n",
       "</table>\n",
       "<p>5 rows × 136 columns</p>\n",
       "</div>"
      ],
      "text/plain": [
       "     AGE_GROUP  GENDER_GROUP  INCOME_GROUP  REVIEW_IND  count      id  proc_1  \\\n",
       "2            1             0             5           0      3    7619       0   \n",
       "8            4             0             5           0      3   19302       0   \n",
       "12           4             1             3           0      2   27143       0   \n",
       "101          2             1             1           0      3  191852       1   \n",
       "169          1             0             3           0      4  322803       0   \n",
       "\n",
       "     proc_10  proc_100  proc_101   ...     proc_90  proc_91  proc_92  proc_93  \\\n",
       "2          0         0         0   ...           0        0        0        0   \n",
       "8          0         0         0   ...           0        0        0        0   \n",
       "12         0         0         0   ...           0        0        0        0   \n",
       "101        0         0         0   ...           0        0        0        0   \n",
       "169        0         0         0   ...           0        0        0        0   \n",
       "\n",
       "     proc_94  proc_95  proc_96  proc_97  proc_98  proc_99  \n",
       "2          0        0        0        0        0        0  \n",
       "8          0        0        0        0        0        0  \n",
       "12         0        0        0        0        0        0  \n",
       "101        0        0        0        0        0        0  \n",
       "169        0        0        0        0        0        0  \n",
       "\n",
       "[5 rows x 136 columns]"
      ]
     },
     "execution_count": 76,
     "metadata": {},
     "output_type": "execute_result"
    }
   ],
   "source": [
    "medi_data.head()"
   ]
  },
  {
   "cell_type": "code",
   "execution_count": 77,
   "metadata": {
    "collapsed": true
   },
   "outputs": [],
   "source": [
    "analysis_data = medi_data[selected_features]"
   ]
  },
  {
   "cell_type": "code",
   "execution_count": 78,
   "metadata": {},
   "outputs": [
    {
     "data": {
      "text/html": [
       "<div>\n",
       "<style>\n",
       "    .dataframe thead tr:only-child th {\n",
       "        text-align: right;\n",
       "    }\n",
       "\n",
       "    .dataframe thead th {\n",
       "        text-align: left;\n",
       "    }\n",
       "\n",
       "    .dataframe tbody tr th {\n",
       "        vertical-align: top;\n",
       "    }\n",
       "</style>\n",
       "<table border=\"1\" class=\"dataframe\">\n",
       "  <thead>\n",
       "    <tr style=\"text-align: right;\">\n",
       "      <th></th>\n",
       "      <th>AGE_GROUP</th>\n",
       "      <th>GENDER_GROUP</th>\n",
       "      <th>INCOME_GROUP</th>\n",
       "      <th>count</th>\n",
       "      <th>proc_1</th>\n",
       "      <th>proc_11</th>\n",
       "      <th>proc_13</th>\n",
       "      <th>proc_14</th>\n",
       "      <th>proc_17</th>\n",
       "      <th>proc_19</th>\n",
       "      <th>proc_2</th>\n",
       "      <th>proc_20</th>\n",
       "      <th>proc_22</th>\n",
       "      <th>proc_25</th>\n",
       "      <th>proc_26</th>\n",
       "      <th>proc_27</th>\n",
       "      <th>proc_28</th>\n",
       "      <th>proc_3</th>\n",
       "      <th>proc_34</th>\n",
       "      <th>proc_9</th>\n",
       "    </tr>\n",
       "  </thead>\n",
       "  <tbody>\n",
       "    <tr>\n",
       "      <th>2</th>\n",
       "      <td>1</td>\n",
       "      <td>0</td>\n",
       "      <td>5</td>\n",
       "      <td>3</td>\n",
       "      <td>0</td>\n",
       "      <td>0</td>\n",
       "      <td>0</td>\n",
       "      <td>0</td>\n",
       "      <td>1</td>\n",
       "      <td>0</td>\n",
       "      <td>0</td>\n",
       "      <td>0</td>\n",
       "      <td>0</td>\n",
       "      <td>0</td>\n",
       "      <td>0</td>\n",
       "      <td>0</td>\n",
       "      <td>0</td>\n",
       "      <td>0</td>\n",
       "      <td>2</td>\n",
       "      <td>0</td>\n",
       "    </tr>\n",
       "    <tr>\n",
       "      <th>8</th>\n",
       "      <td>4</td>\n",
       "      <td>0</td>\n",
       "      <td>5</td>\n",
       "      <td>3</td>\n",
       "      <td>0</td>\n",
       "      <td>0</td>\n",
       "      <td>0</td>\n",
       "      <td>0</td>\n",
       "      <td>0</td>\n",
       "      <td>0</td>\n",
       "      <td>0</td>\n",
       "      <td>0</td>\n",
       "      <td>0</td>\n",
       "      <td>1</td>\n",
       "      <td>1</td>\n",
       "      <td>1</td>\n",
       "      <td>0</td>\n",
       "      <td>0</td>\n",
       "      <td>0</td>\n",
       "      <td>0</td>\n",
       "    </tr>\n",
       "    <tr>\n",
       "      <th>12</th>\n",
       "      <td>4</td>\n",
       "      <td>1</td>\n",
       "      <td>3</td>\n",
       "      <td>2</td>\n",
       "      <td>0</td>\n",
       "      <td>0</td>\n",
       "      <td>0</td>\n",
       "      <td>0</td>\n",
       "      <td>1</td>\n",
       "      <td>1</td>\n",
       "      <td>0</td>\n",
       "      <td>0</td>\n",
       "      <td>0</td>\n",
       "      <td>0</td>\n",
       "      <td>0</td>\n",
       "      <td>0</td>\n",
       "      <td>0</td>\n",
       "      <td>0</td>\n",
       "      <td>0</td>\n",
       "      <td>0</td>\n",
       "    </tr>\n",
       "    <tr>\n",
       "      <th>101</th>\n",
       "      <td>2</td>\n",
       "      <td>1</td>\n",
       "      <td>1</td>\n",
       "      <td>3</td>\n",
       "      <td>1</td>\n",
       "      <td>0</td>\n",
       "      <td>0</td>\n",
       "      <td>0</td>\n",
       "      <td>0</td>\n",
       "      <td>0</td>\n",
       "      <td>0</td>\n",
       "      <td>0</td>\n",
       "      <td>0</td>\n",
       "      <td>1</td>\n",
       "      <td>1</td>\n",
       "      <td>0</td>\n",
       "      <td>0</td>\n",
       "      <td>0</td>\n",
       "      <td>0</td>\n",
       "      <td>0</td>\n",
       "    </tr>\n",
       "    <tr>\n",
       "      <th>169</th>\n",
       "      <td>1</td>\n",
       "      <td>0</td>\n",
       "      <td>3</td>\n",
       "      <td>4</td>\n",
       "      <td>0</td>\n",
       "      <td>0</td>\n",
       "      <td>0</td>\n",
       "      <td>0</td>\n",
       "      <td>0</td>\n",
       "      <td>0</td>\n",
       "      <td>0</td>\n",
       "      <td>0</td>\n",
       "      <td>0</td>\n",
       "      <td>0</td>\n",
       "      <td>0</td>\n",
       "      <td>0</td>\n",
       "      <td>0</td>\n",
       "      <td>0</td>\n",
       "      <td>0</td>\n",
       "      <td>0</td>\n",
       "    </tr>\n",
       "  </tbody>\n",
       "</table>\n",
       "</div>"
      ],
      "text/plain": [
       "     AGE_GROUP  GENDER_GROUP  INCOME_GROUP  count  proc_1  proc_11  proc_13  \\\n",
       "2            1             0             5      3       0        0        0   \n",
       "8            4             0             5      3       0        0        0   \n",
       "12           4             1             3      2       0        0        0   \n",
       "101          2             1             1      3       1        0        0   \n",
       "169          1             0             3      4       0        0        0   \n",
       "\n",
       "     proc_14  proc_17  proc_19  proc_2  proc_20  proc_22  proc_25  proc_26  \\\n",
       "2          0        1        0       0        0        0        0        0   \n",
       "8          0        0        0       0        0        0        1        1   \n",
       "12         0        1        1       0        0        0        0        0   \n",
       "101        0        0        0       0        0        0        1        1   \n",
       "169        0        0        0       0        0        0        0        0   \n",
       "\n",
       "     proc_27  proc_28  proc_3  proc_34  proc_9  \n",
       "2          0        0       0        2       0  \n",
       "8          1        0       0        0       0  \n",
       "12         0        0       0        0       0  \n",
       "101        0        0       0        0       0  \n",
       "169        0        0       0        0       0  "
      ]
     },
     "execution_count": 78,
     "metadata": {},
     "output_type": "execute_result"
    }
   ],
   "source": [
    "analysis_data.head()"
   ]
  },
  {
   "cell_type": "code",
   "execution_count": 79,
   "metadata": {
    "collapsed": true
   },
   "outputs": [],
   "source": [
    "col_list = analysis_data.columns"
   ]
  },
  {
   "cell_type": "code",
   "execution_count": 80,
   "metadata": {},
   "outputs": [
    {
     "data": {
      "text/plain": [
       "Index([u'AGE_GROUP', u'GENDER_GROUP', u'INCOME_GROUP', u'count', u'proc_1',\n",
       "       u'proc_11', u'proc_13', u'proc_14', u'proc_17', u'proc_19', u'proc_2',\n",
       "       u'proc_20', u'proc_22', u'proc_25', u'proc_26', u'proc_27', u'proc_28',\n",
       "       u'proc_3', u'proc_34', u'proc_9'],\n",
       "      dtype='object')"
      ]
     },
     "execution_count": 80,
     "metadata": {},
     "output_type": "execute_result"
    }
   ],
   "source": [
    "col_list"
   ]
  },
  {
   "cell_type": "markdown",
   "metadata": {},
   "source": [
    "    A. Standardizing the data"
   ]
  },
  {
   "cell_type": "code",
   "execution_count": 81,
   "metadata": {
    "collapsed": true
   },
   "outputs": [],
   "source": [
    "from sklearn.preprocessing import StandardScaler"
   ]
  },
  {
   "cell_type": "code",
   "execution_count": 82,
   "metadata": {
    "collapsed": true
   },
   "outputs": [],
   "source": [
    "sc=StandardScaler()"
   ]
  },
  {
   "cell_type": "code",
   "execution_count": 83,
   "metadata": {
    "collapsed": true
   },
   "outputs": [],
   "source": [
    "analysis_scaled=sc.fit_transform(analysis_data)"
   ]
  },
  {
   "cell_type": "markdown",
   "metadata": {},
   "source": [
    "    B. Applying PCA"
   ]
  },
  {
   "cell_type": "code",
   "execution_count": 84,
   "metadata": {
    "collapsed": true
   },
   "outputs": [],
   "source": [
    "from sklearn.decomposition import PCA"
   ]
  },
  {
   "cell_type": "code",
   "execution_count": 85,
   "metadata": {
    "collapsed": true
   },
   "outputs": [],
   "source": [
    "var_ratio={}\n",
    "for n in range(2,20):\n",
    "    pc = PCA(n_components=n)\n",
    "    analysis_pca=pc.fit(analysis_scaled)\n",
    "    var_ratio[n]=sum(analysis_pca.explained_variance_ratio_)"
   ]
  },
  {
   "cell_type": "code",
   "execution_count": 86,
   "metadata": {},
   "outputs": [
    {
     "data": {
      "text/plain": [
       "<matplotlib.axes._subplots.AxesSubplot at 0x197f7cf8>"
      ]
     },
     "execution_count": 86,
     "metadata": {},
     "output_type": "execute_result"
    },
    {
     "data": {
      "image/png": "[encoded data removed]",
      "text/plain": [
       "<matplotlib.figure.Figure at 0x19814978>"
      ]
     },
     "metadata": {},
     "output_type": "display_data"
    }
   ],
   "source": [
    "sns.set(rc={'figure.figsize':(10,9)})\n",
    "pd.Series(var_ratio).plot()"
   ]
  },
  {
   "cell_type": "code",
   "execution_count": 87,
   "metadata": {},
   "outputs": [
    {
     "data": {
      "text/plain": [
       "{2: 0.12198882699180419,\n",
       " 3: 0.18144482582904578,\n",
       " 4: 0.23684074175199746,\n",
       " 5: 0.29243228971704105,\n",
       " 6: 0.34503284544264673,\n",
       " 7: 0.39859515129899509,\n",
       " 8: 0.45062388688422067,\n",
       " 9: 0.50177501128141411,\n",
       " 10: 0.55339081760559228,\n",
       " 11: 0.60297362543909794,\n",
       " 12: 0.65248385649994867,\n",
       " 13: 0.70078059649746605,\n",
       " 14: 0.74808441124281932,\n",
       " 15: 0.7945437975746501,\n",
       " 16: 0.84059353329444231,\n",
       " 17: 0.88642096949273663,\n",
       " 18: 0.9292693529614805,\n",
       " 19: 0.9683548205113004}"
      ]
     },
     "execution_count": 87,
     "metadata": {},
     "output_type": "execute_result"
    }
   ],
   "source": [
    "var_ratio"
   ]
  },
  {
   "cell_type": "code",
   "execution_count": 88,
   "metadata": {
    "collapsed": true
   },
   "outputs": [],
   "source": [
    "# 16 component is defining 84% of variability\n",
    "pc_final=PCA(n_components=16).fit(analysis_scaled)\n",
    "reduced_cr=pc_final.fit_transform(analysis_scaled)"
   ]
  },
  {
   "cell_type": "code",
   "execution_count": 89,
   "metadata": {},
   "outputs": [
    {
     "data": {
      "text/plain": [
       "(18787L, 16L)"
      ]
     },
     "execution_count": 89,
     "metadata": {},
     "output_type": "execute_result"
    }
   ],
   "source": [
    "reduced_cr.shape"
   ]
  },
  {
   "cell_type": "code",
   "execution_count": 90,
   "metadata": {},
   "outputs": [
    {
     "data": {
      "text/html": [
       "<div>\n",
       "<style>\n",
       "    .dataframe thead tr:only-child th {\n",
       "        text-align: right;\n",
       "    }\n",
       "\n",
       "    .dataframe thead th {\n",
       "        text-align: left;\n",
       "    }\n",
       "\n",
       "    .dataframe tbody tr th {\n",
       "        vertical-align: top;\n",
       "    }\n",
       "</style>\n",
       "<table border=\"1\" class=\"dataframe\">\n",
       "  <thead>\n",
       "    <tr style=\"text-align: right;\">\n",
       "      <th></th>\n",
       "      <th>PC_0</th>\n",
       "      <th>PC_1</th>\n",
       "      <th>PC_2</th>\n",
       "      <th>PC_3</th>\n",
       "      <th>PC_4</th>\n",
       "      <th>PC_5</th>\n",
       "      <th>PC_6</th>\n",
       "      <th>PC_7</th>\n",
       "      <th>PC_8</th>\n",
       "      <th>PC_9</th>\n",
       "      <th>PC_10</th>\n",
       "      <th>PC_11</th>\n",
       "      <th>PC_12</th>\n",
       "      <th>PC_13</th>\n",
       "      <th>PC_14</th>\n",
       "      <th>PC_15</th>\n",
       "    </tr>\n",
       "  </thead>\n",
       "  <tbody>\n",
       "    <tr>\n",
       "      <th>AGE_GROUP</th>\n",
       "      <td>0.465055</td>\n",
       "      <td>-0.091795</td>\n",
       "      <td>0.237413</td>\n",
       "      <td>-0.313491</td>\n",
       "      <td>0.203120</td>\n",
       "      <td>0.018979</td>\n",
       "      <td>0.211770</td>\n",
       "      <td>0.008828</td>\n",
       "      <td>-0.022960</td>\n",
       "      <td>-0.174176</td>\n",
       "      <td>-0.005132</td>\n",
       "      <td>-0.070673</td>\n",
       "      <td>0.053246</td>\n",
       "      <td>-0.172722</td>\n",
       "      <td>-0.069293</td>\n",
       "      <td>0.103386</td>\n",
       "    </tr>\n",
       "    <tr>\n",
       "      <th>GENDER_GROUP</th>\n",
       "      <td>-0.361407</td>\n",
       "      <td>0.341296</td>\n",
       "      <td>0.350635</td>\n",
       "      <td>-0.089041</td>\n",
       "      <td>-0.082037</td>\n",
       "      <td>-0.029111</td>\n",
       "      <td>0.157138</td>\n",
       "      <td>-0.097763</td>\n",
       "      <td>-0.155323</td>\n",
       "      <td>-0.044649</td>\n",
       "      <td>0.023136</td>\n",
       "      <td>0.002306</td>\n",
       "      <td>-0.087996</td>\n",
       "      <td>0.026854</td>\n",
       "      <td>-0.013146</td>\n",
       "      <td>0.018174</td>\n",
       "    </tr>\n",
       "    <tr>\n",
       "      <th>INCOME_GROUP</th>\n",
       "      <td>-0.489191</td>\n",
       "      <td>0.196266</td>\n",
       "      <td>-0.143357</td>\n",
       "      <td>0.301134</td>\n",
       "      <td>-0.025562</td>\n",
       "      <td>0.075932</td>\n",
       "      <td>0.332060</td>\n",
       "      <td>-0.113335</td>\n",
       "      <td>-0.069025</td>\n",
       "      <td>0.039316</td>\n",
       "      <td>0.127839</td>\n",
       "      <td>-0.011758</td>\n",
       "      <td>-0.085809</td>\n",
       "      <td>0.071609</td>\n",
       "      <td>-0.040471</td>\n",
       "      <td>-0.066013</td>\n",
       "    </tr>\n",
       "    <tr>\n",
       "      <th>count</th>\n",
       "      <td>-0.287345</td>\n",
       "      <td>-0.139660</td>\n",
       "      <td>-0.411087</td>\n",
       "      <td>-0.321242</td>\n",
       "      <td>0.377791</td>\n",
       "      <td>0.217415</td>\n",
       "      <td>0.101326</td>\n",
       "      <td>0.058608</td>\n",
       "      <td>-0.027018</td>\n",
       "      <td>0.130036</td>\n",
       "      <td>-0.154050</td>\n",
       "      <td>0.096756</td>\n",
       "      <td>0.280558</td>\n",
       "      <td>-0.055585</td>\n",
       "      <td>-0.115892</td>\n",
       "      <td>0.179691</td>\n",
       "    </tr>\n",
       "    <tr>\n",
       "      <th>proc_1</th>\n",
       "      <td>0.040558</td>\n",
       "      <td>0.055519</td>\n",
       "      <td>-0.006381</td>\n",
       "      <td>-0.031479</td>\n",
       "      <td>0.148028</td>\n",
       "      <td>0.333422</td>\n",
       "      <td>-0.016920</td>\n",
       "      <td>0.577953</td>\n",
       "      <td>-0.025402</td>\n",
       "      <td>-0.211865</td>\n",
       "      <td>0.210602</td>\n",
       "      <td>-0.107705</td>\n",
       "      <td>-0.354341</td>\n",
       "      <td>0.524692</td>\n",
       "      <td>0.055511</td>\n",
       "      <td>0.135026</td>\n",
       "    </tr>\n",
       "    <tr>\n",
       "      <th>proc_11</th>\n",
       "      <td>0.030338</td>\n",
       "      <td>-0.016431</td>\n",
       "      <td>0.104150</td>\n",
       "      <td>0.168529</td>\n",
       "      <td>-0.078933</td>\n",
       "      <td>-0.040989</td>\n",
       "      <td>0.249831</td>\n",
       "      <td>0.469651</td>\n",
       "      <td>-0.112930</td>\n",
       "      <td>0.376178</td>\n",
       "      <td>0.491330</td>\n",
       "      <td>-0.084119</td>\n",
       "      <td>0.361486</td>\n",
       "      <td>-0.295069</td>\n",
       "      <td>0.016662</td>\n",
       "      <td>0.052123</td>\n",
       "    </tr>\n",
       "    <tr>\n",
       "      <th>proc_13</th>\n",
       "      <td>-0.042827</td>\n",
       "      <td>0.084848</td>\n",
       "      <td>0.179376</td>\n",
       "      <td>0.122570</td>\n",
       "      <td>0.042975</td>\n",
       "      <td>0.260480</td>\n",
       "      <td>0.182975</td>\n",
       "      <td>0.229324</td>\n",
       "      <td>0.444841</td>\n",
       "      <td>0.159529</td>\n",
       "      <td>-0.546201</td>\n",
       "      <td>-0.009775</td>\n",
       "      <td>0.173964</td>\n",
       "      <td>0.085003</td>\n",
       "      <td>0.041433</td>\n",
       "      <td>-0.327988</td>\n",
       "    </tr>\n",
       "    <tr>\n",
       "      <th>proc_14</th>\n",
       "      <td>-0.042989</td>\n",
       "      <td>0.152835</td>\n",
       "      <td>-0.151934</td>\n",
       "      <td>0.140715</td>\n",
       "      <td>-0.163341</td>\n",
       "      <td>-0.025660</td>\n",
       "      <td>0.176515</td>\n",
       "      <td>0.050628</td>\n",
       "      <td>0.458373</td>\n",
       "      <td>-0.595886</td>\n",
       "      <td>0.046170</td>\n",
       "      <td>-0.106140</td>\n",
       "      <td>0.171683</td>\n",
       "      <td>-0.259652</td>\n",
       "      <td>0.256645</td>\n",
       "      <td>0.329658</td>\n",
       "    </tr>\n",
       "    <tr>\n",
       "      <th>proc_17</th>\n",
       "      <td>0.133053</td>\n",
       "      <td>0.012690</td>\n",
       "      <td>-0.228917</td>\n",
       "      <td>0.523339</td>\n",
       "      <td>0.295297</td>\n",
       "      <td>-0.243228</td>\n",
       "      <td>-0.231648</td>\n",
       "      <td>0.222623</td>\n",
       "      <td>-0.056177</td>\n",
       "      <td>0.042889</td>\n",
       "      <td>-0.190834</td>\n",
       "      <td>0.038547</td>\n",
       "      <td>0.167886</td>\n",
       "      <td>0.051902</td>\n",
       "      <td>0.016773</td>\n",
       "      <td>0.057369</td>\n",
       "    </tr>\n",
       "    <tr>\n",
       "      <th>proc_19</th>\n",
       "      <td>0.092801</td>\n",
       "      <td>0.252697</td>\n",
       "      <td>0.255545</td>\n",
       "      <td>-0.009929</td>\n",
       "      <td>0.400367</td>\n",
       "      <td>0.079053</td>\n",
       "      <td>0.215045</td>\n",
       "      <td>-0.148851</td>\n",
       "      <td>-0.134915</td>\n",
       "      <td>-0.160266</td>\n",
       "      <td>0.053537</td>\n",
       "      <td>-0.322254</td>\n",
       "      <td>0.343627</td>\n",
       "      <td>0.126352</td>\n",
       "      <td>-0.058697</td>\n",
       "      <td>-0.236082</td>\n",
       "    </tr>\n",
       "    <tr>\n",
       "      <th>proc_2</th>\n",
       "      <td>0.096243</td>\n",
       "      <td>0.176365</td>\n",
       "      <td>0.182612</td>\n",
       "      <td>-0.028103</td>\n",
       "      <td>0.072718</td>\n",
       "      <td>0.136228</td>\n",
       "      <td>-0.082762</td>\n",
       "      <td>-0.129614</td>\n",
       "      <td>0.486685</td>\n",
       "      <td>0.538780</td>\n",
       "      <td>0.101543</td>\n",
       "      <td>-0.108052</td>\n",
       "      <td>-0.247209</td>\n",
       "      <td>-0.071846</td>\n",
       "      <td>0.089526</td>\n",
       "      <td>0.304204</td>\n",
       "    </tr>\n",
       "    <tr>\n",
       "      <th>proc_20</th>\n",
       "      <td>0.110083</td>\n",
       "      <td>-0.027203</td>\n",
       "      <td>-0.060608</td>\n",
       "      <td>0.069403</td>\n",
       "      <td>-0.118725</td>\n",
       "      <td>0.603080</td>\n",
       "      <td>-0.190723</td>\n",
       "      <td>-0.146592</td>\n",
       "      <td>-0.210271</td>\n",
       "      <td>-0.003366</td>\n",
       "      <td>0.109171</td>\n",
       "      <td>0.120335</td>\n",
       "      <td>0.126647</td>\n",
       "      <td>-0.141878</td>\n",
       "      <td>0.578877</td>\n",
       "      <td>-0.245912</td>\n",
       "    </tr>\n",
       "    <tr>\n",
       "      <th>proc_22</th>\n",
       "      <td>0.039938</td>\n",
       "      <td>0.155066</td>\n",
       "      <td>0.087071</td>\n",
       "      <td>0.033937</td>\n",
       "      <td>0.206145</td>\n",
       "      <td>0.092146</td>\n",
       "      <td>-0.117707</td>\n",
       "      <td>-0.102128</td>\n",
       "      <td>0.295990</td>\n",
       "      <td>-0.126651</td>\n",
       "      <td>0.386085</td>\n",
       "      <td>0.713826</td>\n",
       "      <td>0.172505</td>\n",
       "      <td>0.104293</td>\n",
       "      <td>-0.261349</td>\n",
       "      <td>-0.087770</td>\n",
       "    </tr>\n",
       "    <tr>\n",
       "      <th>proc_25</th>\n",
       "      <td>-0.262632</td>\n",
       "      <td>0.366947</td>\n",
       "      <td>-0.111162</td>\n",
       "      <td>-0.368345</td>\n",
       "      <td>0.264029</td>\n",
       "      <td>-0.035700</td>\n",
       "      <td>-0.385631</td>\n",
       "      <td>0.113599</td>\n",
       "      <td>-0.021206</td>\n",
       "      <td>0.017312</td>\n",
       "      <td>0.017626</td>\n",
       "      <td>-0.136166</td>\n",
       "      <td>0.066506</td>\n",
       "      <td>-0.209291</td>\n",
       "      <td>0.169583</td>\n",
       "      <td>0.106819</td>\n",
       "    </tr>\n",
       "    <tr>\n",
       "      <th>proc_26</th>\n",
       "      <td>-0.319302</td>\n",
       "      <td>-0.582865</td>\n",
       "      <td>0.237988</td>\n",
       "      <td>-0.106435</td>\n",
       "      <td>-0.035240</td>\n",
       "      <td>0.176681</td>\n",
       "      <td>0.139937</td>\n",
       "      <td>0.112874</td>\n",
       "      <td>0.046389</td>\n",
       "      <td>-0.076414</td>\n",
       "      <td>-0.046148</td>\n",
       "      <td>0.123267</td>\n",
       "      <td>0.024856</td>\n",
       "      <td>-0.086000</td>\n",
       "      <td>-0.045593</td>\n",
       "      <td>0.147622</td>\n",
       "    </tr>\n",
       "    <tr>\n",
       "      <th>proc_27</th>\n",
       "      <td>0.220228</td>\n",
       "      <td>0.081784</td>\n",
       "      <td>-0.523434</td>\n",
       "      <td>-0.240789</td>\n",
       "      <td>-0.288180</td>\n",
       "      <td>0.083187</td>\n",
       "      <td>0.290110</td>\n",
       "      <td>-0.144335</td>\n",
       "      <td>0.135420</td>\n",
       "      <td>0.141315</td>\n",
       "      <td>0.138861</td>\n",
       "      <td>-0.134511</td>\n",
       "      <td>0.131980</td>\n",
       "      <td>0.288770</td>\n",
       "      <td>-0.131583</td>\n",
       "      <td>-0.075565</td>\n",
       "    </tr>\n",
       "    <tr>\n",
       "      <th>proc_28</th>\n",
       "      <td>0.120362</td>\n",
       "      <td>0.313377</td>\n",
       "      <td>-0.139515</td>\n",
       "      <td>-0.101772</td>\n",
       "      <td>-0.165675</td>\n",
       "      <td>0.134626</td>\n",
       "      <td>0.082451</td>\n",
       "      <td>0.341709</td>\n",
       "      <td>-0.113622</td>\n",
       "      <td>-0.067384</td>\n",
       "      <td>-0.174605</td>\n",
       "      <td>0.196308</td>\n",
       "      <td>-0.294982</td>\n",
       "      <td>-0.481990</td>\n",
       "      <td>-0.318300</td>\n",
       "      <td>-0.248033</td>\n",
       "    </tr>\n",
       "    <tr>\n",
       "      <th>proc_3</th>\n",
       "      <td>0.064984</td>\n",
       "      <td>0.128771</td>\n",
       "      <td>0.093812</td>\n",
       "      <td>0.236607</td>\n",
       "      <td>-0.218988</td>\n",
       "      <td>0.454126</td>\n",
       "      <td>-0.235094</td>\n",
       "      <td>-0.128069</td>\n",
       "      <td>-0.189699</td>\n",
       "      <td>-0.027368</td>\n",
       "      <td>-0.145662</td>\n",
       "      <td>-0.145748</td>\n",
       "      <td>0.218332</td>\n",
       "      <td>-0.002037</td>\n",
       "      <td>-0.480873</td>\n",
       "      <td>0.455061</td>\n",
       "    </tr>\n",
       "    <tr>\n",
       "      <th>proc_34</th>\n",
       "      <td>0.151956</td>\n",
       "      <td>-0.000008</td>\n",
       "      <td>-0.141231</td>\n",
       "      <td>0.249301</td>\n",
       "      <td>0.418832</td>\n",
       "      <td>0.142258</td>\n",
       "      <td>0.402792</td>\n",
       "      <td>-0.229645</td>\n",
       "      <td>-0.151955</td>\n",
       "      <td>0.044490</td>\n",
       "      <td>-0.048698</td>\n",
       "      <td>0.117751</td>\n",
       "      <td>-0.373119</td>\n",
       "      <td>-0.194202</td>\n",
       "      <td>0.103781</td>\n",
       "      <td>0.222917</td>\n",
       "    </tr>\n",
       "    <tr>\n",
       "      <th>proc_9</th>\n",
       "      <td>0.120273</td>\n",
       "      <td>0.259598</td>\n",
       "      <td>0.107242</td>\n",
       "      <td>-0.146567</td>\n",
       "      <td>-0.194332</td>\n",
       "      <td>-0.155670</td>\n",
       "      <td>0.220997</td>\n",
       "      <td>0.107293</td>\n",
       "      <td>-0.255921</td>\n",
       "      <td>0.122676</td>\n",
       "      <td>-0.294559</td>\n",
       "      <td>0.434685</td>\n",
       "      <td>0.194532</td>\n",
       "      <td>0.254499</td>\n",
       "      <td>0.319993</td>\n",
       "      <td>0.371736</td>\n",
       "    </tr>\n",
       "  </tbody>\n",
       "</table>\n",
       "</div>"
      ],
      "text/plain": [
       "                  PC_0      PC_1      PC_2      PC_3      PC_4      PC_5  \\\n",
       "AGE_GROUP     0.465055 -0.091795  0.237413 -0.313491  0.203120  0.018979   \n",
       "GENDER_GROUP -0.361407  0.341296  0.350635 -0.089041 -0.082037 -0.029111   \n",
       "INCOME_GROUP -0.489191  0.196266 -0.143357  0.301134 -0.025562  0.075932   \n",
       "count        -0.287345 -0.139660 -0.411087 -0.321242  0.377791  0.217415   \n",
       "proc_1        0.040558  0.055519 -0.006381 -0.031479  0.148028  0.333422   \n",
       "proc_11       0.030338 -0.016431  0.104150  0.168529 -0.078933 -0.040989   \n",
       "proc_13      -0.042827  0.084848  0.179376  0.122570  0.042975  0.260480   \n",
       "proc_14      -0.042989  0.152835 -0.151934  0.140715 -0.163341 -0.025660   \n",
       "proc_17       0.133053  0.012690 -0.228917  0.523339  0.295297 -0.243228   \n",
       "proc_19       0.092801  0.252697  0.255545 -0.009929  0.400367  0.079053   \n",
       "proc_2        0.096243  0.176365  0.182612 -0.028103  0.072718  0.136228   \n",
       "proc_20       0.110083 -0.027203 -0.060608  0.069403 -0.118725  0.603080   \n",
       "proc_22       0.039938  0.155066  0.087071  0.033937  0.206145  0.092146   \n",
       "proc_25      -0.262632  0.366947 -0.111162 -0.368345  0.264029 -0.035700   \n",
       "proc_26      -0.319302 -0.582865  0.237988 -0.106435 -0.035240  0.176681   \n",
       "proc_27       0.220228  0.081784 -0.523434 -0.240789 -0.288180  0.083187   \n",
       "proc_28       0.120362  0.313377 -0.139515 -0.101772 -0.165675  0.134626   \n",
       "proc_3        0.064984  0.128771  0.093812  0.236607 -0.218988  0.454126   \n",
       "proc_34       0.151956 -0.000008 -0.141231  0.249301  0.418832  0.142258   \n",
       "proc_9        0.120273  0.259598  0.107242 -0.146567 -0.194332 -0.155670   \n",
       "\n",
       "                  PC_6      PC_7      PC_8      PC_9     PC_10     PC_11  \\\n",
       "AGE_GROUP     0.211770  0.008828 -0.022960 -0.174176 -0.005132 -0.070673   \n",
       "GENDER_GROUP  0.157138 -0.097763 -0.155323 -0.044649  0.023136  0.002306   \n",
       "INCOME_GROUP  0.332060 -0.113335 -0.069025  0.039316  0.127839 -0.011758   \n",
       "count         0.101326  0.058608 -0.027018  0.130036 -0.154050  0.096756   \n",
       "proc_1       -0.016920  0.577953 -0.025402 -0.211865  0.210602 -0.107705   \n",
       "proc_11       0.249831  0.469651 -0.112930  0.376178  0.491330 -0.084119   \n",
       "proc_13       0.182975  0.229324  0.444841  0.159529 -0.546201 -0.009775   \n",
       "proc_14       0.176515  0.050628  0.458373 -0.595886  0.046170 -0.106140   \n",
       "proc_17      -0.231648  0.222623 -0.056177  0.042889 -0.190834  0.038547   \n",
       "proc_19       0.215045 -0.148851 -0.134915 -0.160266  0.053537 -0.322254   \n",
       "proc_2       -0.082762 -0.129614  0.486685  0.538780  0.101543 -0.108052   \n",
       "proc_20      -0.190723 -0.146592 -0.210271 -0.003366  0.109171  0.120335   \n",
       "proc_22      -0.117707 -0.102128  0.295990 -0.126651  0.386085  0.713826   \n",
       "proc_25      -0.385631  0.113599 -0.021206  0.017312  0.017626 -0.136166   \n",
       "proc_26       0.139937  0.112874  0.046389 -0.076414 -0.046148  0.123267   \n",
       "proc_27       0.290110 -0.144335  0.135420  0.141315  0.138861 -0.134511   \n",
       "proc_28       0.082451  0.341709 -0.113622 -0.067384 -0.174605  0.196308   \n",
       "proc_3       -0.235094 -0.128069 -0.189699 -0.027368 -0.145662 -0.145748   \n",
       "proc_34       0.402792 -0.229645 -0.151955  0.044490 -0.048698  0.117751   \n",
       "proc_9        0.220997  0.107293 -0.255921  0.122676 -0.294559  0.434685   \n",
       "\n",
       "                 PC_12     PC_13     PC_14     PC_15  \n",
       "AGE_GROUP     0.053246 -0.172722 -0.069293  0.103386  \n",
       "GENDER_GROUP -0.087996  0.026854 -0.013146  0.018174  \n",
       "INCOME_GROUP -0.085809  0.071609 -0.040471 -0.066013  \n",
       "count         0.280558 -0.055585 -0.115892  0.179691  \n",
       "proc_1       -0.354341  0.524692  0.055511  0.135026  \n",
       "proc_11       0.361486 -0.295069  0.016662  0.052123  \n",
       "proc_13       0.173964  0.085003  0.041433 -0.327988  \n",
       "proc_14       0.171683 -0.259652  0.256645  0.329658  \n",
       "proc_17       0.167886  0.051902  0.016773  0.057369  \n",
       "proc_19       0.343627  0.126352 -0.058697 -0.236082  \n",
       "proc_2       -0.247209 -0.071846  0.089526  0.304204  \n",
       "proc_20       0.126647 -0.141878  0.578877 -0.245912  \n",
       "proc_22       0.172505  0.104293 -0.261349 -0.087770  \n",
       "proc_25       0.066506 -0.209291  0.169583  0.106819  \n",
       "proc_26       0.024856 -0.086000 -0.045593  0.147622  \n",
       "proc_27       0.131980  0.288770 -0.131583 -0.075565  \n",
       "proc_28      -0.294982 -0.481990 -0.318300 -0.248033  \n",
       "proc_3        0.218332 -0.002037 -0.480873  0.455061  \n",
       "proc_34      -0.373119 -0.194202  0.103781  0.222917  \n",
       "proc_9        0.194532  0.254499  0.319993  0.371736  "
      ]
     },
     "execution_count": 90,
     "metadata": {},
     "output_type": "execute_result"
    }
   ],
   "source": [
    "pd.DataFrame(pc_final.components_.T, columns=['PC_' + str(i) for i in range(16)], index=col_list)"
   ]
  },
  {
   "cell_type": "code",
   "execution_count": 91,
   "metadata": {},
   "outputs": [
    {
     "data": {
      "text/plain": [
       "PC_0     0.063785\n",
       "PC_1     0.062001\n",
       "PC_2     0.057442\n",
       "PC_3     0.056239\n",
       "PC_4     0.054647\n",
       "PC_5     0.053585\n",
       "PC_6     0.052669\n",
       "PC_7     0.051634\n",
       "PC_8     0.051284\n",
       "PC_9     0.050105\n",
       "PC_10    0.049583\n",
       "PC_11    0.049510\n",
       "PC_12    0.048297\n",
       "PC_13    0.047304\n",
       "PC_14    0.046459\n",
       "PC_15    0.046050\n",
       "dtype: float64"
      ]
     },
     "execution_count": 91,
     "metadata": {},
     "output_type": "execute_result"
    }
   ],
   "source": [
    "pd.Series(pc_final.explained_variance_ratio_,index=['PC_' + str(i) for i in range(16)])"
   ]
  },
  {
   "cell_type": "markdown",
   "metadata": {},
   "source": [
    "    C. Clustering"
   ]
  },
  {
   "cell_type": "markdown",
   "metadata": {},
   "source": [
    "#### Silhouette Coefficient"
   ]
  },
  {
   "cell_type": "code",
   "execution_count": 92,
   "metadata": {
    "collapsed": true
   },
   "outputs": [],
   "source": [
    "from sklearn import metrics\n",
    "from sklearn.cluster import KMeans"
   ]
  },
  {
   "cell_type": "code",
   "execution_count": 125,
   "metadata": {
    "collapsed": true
   },
   "outputs": [],
   "source": [
    "# calculate SC for K=3 through K=15\n",
    "k_range = range(3, 15)\n",
    "scores = []\n",
    "for k in k_range:\n",
    "    km = KMeans(n_clusters=k, random_state=1)\n",
    "    km.fit(analysis_scaled)\n",
    "    scores.append(metrics.silhouette_score(analysis_scaled, km.labels_))"
   ]
  },
  {
   "cell_type": "code",
   "execution_count": 126,
   "metadata": {},
   "outputs": [
    {
     "data": {
      "text/plain": [
       "[0.10522821489446164,\n",
       " 0.12842364571341527,\n",
       " 0.21656637782788343,\n",
       " 0.14030578920026074,\n",
       " 0.15903030875281068,\n",
       " 0.14911060962713901,\n",
       " 0.15649049834719983,\n",
       " 0.16251327883709377,\n",
       " 0.19320061908571828,\n",
       " 0.17892120286553026,\n",
       " 0.18586687710013072,\n",
       " 0.22024690876809028]"
      ]
     },
     "execution_count": 126,
     "metadata": {},
     "output_type": "execute_result"
    }
   ],
   "source": [
    "scores"
   ]
  },
  {
   "cell_type": "code",
   "execution_count": 127,
   "metadata": {},
   "outputs": [
    {
     "data": {
      "image/png": "[encoded data removed]",
      "text/plain": [
       "<matplotlib.figure.Figure at 0x18054b38>"
      ]
     },
     "metadata": {},
     "output_type": "display_data"
    }
   ],
   "source": [
    "# plot the results\n",
    "plt.plot(k_range, scores)\n",
    "plt.xlabel('Number of clusters')\n",
    "plt.ylabel('Silhouette Coefficient')\n",
    "plt.grid(True)"
   ]
  },
  {
   "cell_type": "markdown",
   "metadata": {},
   "source": [
    "    Silhouette Coefficient shows 5 Cluster should be apt for the cause"
   ]
  },
  {
   "cell_type": "markdown",
   "metadata": {},
   "source": [
    "#### Elbow Analysis"
   ]
  },
  {
   "cell_type": "code",
   "execution_count": 93,
   "metadata": {},
   "outputs": [],
   "source": [
    "cluster_range = range( 1, 15 )\n",
    "cluster_errors = []\n",
    "\n",
    "for num_clusters in cluster_range:\n",
    "    clusters = KMeans( num_clusters )\n",
    "    clusters.fit( analysis_scaled )\n",
    "    cluster_errors.append( clusters.inertia_ )"
   ]
  },
  {
   "cell_type": "code",
   "execution_count": 94,
   "metadata": {},
   "outputs": [
    {
     "data": {
      "text/html": [
       "<div>\n",
       "<style>\n",
       "    .dataframe thead tr:only-child th {\n",
       "        text-align: right;\n",
       "    }\n",
       "\n",
       "    .dataframe thead th {\n",
       "        text-align: left;\n",
       "    }\n",
       "\n",
       "    .dataframe tbody tr th {\n",
       "        vertical-align: top;\n",
       "    }\n",
       "</style>\n",
       "<table border=\"1\" class=\"dataframe\">\n",
       "  <thead>\n",
       "    <tr style=\"text-align: right;\">\n",
       "      <th></th>\n",
       "      <th>cluster_errors</th>\n",
       "      <th>num_clusters</th>\n",
       "    </tr>\n",
       "  </thead>\n",
       "  <tbody>\n",
       "    <tr>\n",
       "      <th>0</th>\n",
       "      <td>375740.000000</td>\n",
       "      <td>1</td>\n",
       "    </tr>\n",
       "    <tr>\n",
       "      <th>1</th>\n",
       "      <td>355568.069091</td>\n",
       "      <td>2</td>\n",
       "    </tr>\n",
       "    <tr>\n",
       "      <th>2</th>\n",
       "      <td>337045.758708</td>\n",
       "      <td>3</td>\n",
       "    </tr>\n",
       "    <tr>\n",
       "      <th>3</th>\n",
       "      <td>319771.759281</td>\n",
       "      <td>4</td>\n",
       "    </tr>\n",
       "    <tr>\n",
       "      <th>4</th>\n",
       "      <td>302226.497442</td>\n",
       "      <td>5</td>\n",
       "    </tr>\n",
       "    <tr>\n",
       "      <th>5</th>\n",
       "      <td>286226.505554</td>\n",
       "      <td>6</td>\n",
       "    </tr>\n",
       "    <tr>\n",
       "      <th>6</th>\n",
       "      <td>269408.939229</td>\n",
       "      <td>7</td>\n",
       "    </tr>\n",
       "    <tr>\n",
       "      <th>7</th>\n",
       "      <td>254251.397879</td>\n",
       "      <td>8</td>\n",
       "    </tr>\n",
       "    <tr>\n",
       "      <th>8</th>\n",
       "      <td>239451.324875</td>\n",
       "      <td>9</td>\n",
       "    </tr>\n",
       "    <tr>\n",
       "      <th>9</th>\n",
       "      <td>221930.677386</td>\n",
       "      <td>10</td>\n",
       "    </tr>\n",
       "  </tbody>\n",
       "</table>\n",
       "</div>"
      ],
      "text/plain": [
       "   cluster_errors  num_clusters\n",
       "0   375740.000000             1\n",
       "1   355568.069091             2\n",
       "2   337045.758708             3\n",
       "3   319771.759281             4\n",
       "4   302226.497442             5\n",
       "5   286226.505554             6\n",
       "6   269408.939229             7\n",
       "7   254251.397879             8\n",
       "8   239451.324875             9\n",
       "9   221930.677386            10"
      ]
     },
     "execution_count": 94,
     "metadata": {},
     "output_type": "execute_result"
    }
   ],
   "source": [
    "clusters_df = pd.DataFrame( { \"num_clusters\":cluster_range, \"cluster_errors\": cluster_errors } )\n",
    "\n",
    "clusters_df[0:10]"
   ]
  },
  {
   "cell_type": "code",
   "execution_count": 95,
   "metadata": {},
   "outputs": [
    {
     "data": {
      "text/plain": [
       "[<matplotlib.lines.Line2D at 0x18f3cb00>]"
      ]
     },
     "execution_count": 95,
     "metadata": {},
     "output_type": "execute_result"
    },
    {
     "data": {
      "image/png": "[encoded data removed]",
      "text/plain": [
       "<matplotlib.figure.Figure at 0x17993b00>"
      ]
     },
     "metadata": {},
     "output_type": "display_data"
    }
   ],
   "source": [
    "# allow plots to appear in the notebook\n",
    "%matplotlib inline\n",
    "import matplotlib.pyplot as plt\n",
    "plt.figure(figsize=(12,6))\n",
    "plt.plot( clusters_df.num_clusters, clusters_df.cluster_errors, marker = \"o\" )"
   ]
  },
  {
   "cell_type": "markdown",
   "metadata": {},
   "source": [
    "    The elbow diagram shows that the gain in explained variance reduces significantly from 4 to 5 to 6. So, optimal number of clusters could either 5 or 6. "
   ]
  },
  {
   "cell_type": "code",
   "execution_count": 96,
   "metadata": {
    "collapsed": true
   },
   "outputs": [],
   "source": [
    "km_5=KMeans(init='k-means++', n_clusters=5,random_state=123)"
   ]
  },
  {
   "cell_type": "code",
   "execution_count": 97,
   "metadata": {},
   "outputs": [
    {
     "data": {
      "text/plain": [
       "array([2, 2, 2, ..., 0, 0, 2])"
      ]
     },
     "execution_count": 97,
     "metadata": {},
     "output_type": "execute_result"
    }
   ],
   "source": [
    "km_5.fit(reduced_cr)\n",
    "km_5.labels_"
   ]
  },
  {
   "cell_type": "code",
   "execution_count": 98,
   "metadata": {},
   "outputs": [
    {
     "data": {
      "text/plain": [
       "0    10830\n",
       "2     7007\n",
       "1      414\n",
       "3      298\n",
       "4      238\n",
       "dtype: int64"
      ]
     },
     "execution_count": 98,
     "metadata": {},
     "output_type": "execute_result"
    }
   ],
   "source": [
    "pd.Series(km_5.labels_).value_counts()"
   ]
  },
  {
   "cell_type": "code",
   "execution_count": 100,
   "metadata": {},
   "outputs": [
    {
     "data": {
      "text/plain": [
       "Text(0.5,0,u'PC_5')"
      ]
     },
     "execution_count": 100,
     "metadata": {},
     "output_type": "execute_result"
    },
    {
     "data": {
      "image/png": "[encoded data removed]",
      "text/plain": [
       "<matplotlib.figure.Figure at 0x197f7240>"
      ]
     },
     "metadata": {},
     "output_type": "display_data"
    }
   ],
   "source": [
    "plt.figure(figsize=(7,7))\n",
    "plt.scatter(reduced_cr[:,0], reduced_cr[:,1], c=km_5.labels_,cmap='Spectral',alpha=0.5)\n",
    "plt.xlabel('PC_5')"
   ]
  },
  {
   "cell_type": "code",
   "execution_count": 101,
   "metadata": {
    "collapsed": true
   },
   "outputs": [],
   "source": [
    "km_5 = pd.DataFrame(km_5.labels_)"
   ]
  },
  {
   "cell_type": "code",
   "execution_count": 102,
   "metadata": {},
   "outputs": [
    {
     "data": {
      "text/plain": [
       "0    18787\n",
       "dtype: int64"
      ]
     },
     "execution_count": 102,
     "metadata": {},
     "output_type": "execute_result"
    }
   ],
   "source": [
    "km_5.count()"
   ]
  },
  {
   "cell_type": "code",
   "execution_count": 106,
   "metadata": {
    "collapsed": true
   },
   "outputs": [],
   "source": [
    "medi_data = medi_data.reset_index()"
   ]
  },
  {
   "cell_type": "code",
   "execution_count": 107,
   "metadata": {
    "collapsed": true
   },
   "outputs": [],
   "source": [
    "cluster_df_5= pd.concat([medi_data, km_5], axis=1)"
   ]
  },
  {
   "cell_type": "code",
   "execution_count": 108,
   "metadata": {
    "collapsed": true
   },
   "outputs": [],
   "source": [
    "cluster_df_5.rename(columns={0: 'KMEANS_5'}, inplace=True)"
   ]
  },
  {
   "cell_type": "code",
   "execution_count": 109,
   "metadata": {
    "collapsed": true
   },
   "outputs": [],
   "source": [
    "cluster_df_5.to_csv('cluster_df_5.csv')"
   ]
  },
  {
   "cell_type": "code",
   "execution_count": 110,
   "metadata": {},
   "outputs": [
    {
     "data": {
      "text/html": [
       "<div>\n",
       "<style>\n",
       "    .dataframe thead tr:only-child th {\n",
       "        text-align: right;\n",
       "    }\n",
       "\n",
       "    .dataframe thead th {\n",
       "        text-align: left;\n",
       "    }\n",
       "\n",
       "    .dataframe tbody tr th {\n",
       "        vertical-align: top;\n",
       "    }\n",
       "</style>\n",
       "<table border=\"1\" class=\"dataframe\">\n",
       "  <thead>\n",
       "    <tr style=\"text-align: right;\">\n",
       "      <th></th>\n",
       "      <th>index</th>\n",
       "      <th>AGE_GROUP</th>\n",
       "      <th>GENDER_GROUP</th>\n",
       "      <th>INCOME_GROUP</th>\n",
       "      <th>REVIEW_IND</th>\n",
       "      <th>count</th>\n",
       "      <th>id</th>\n",
       "      <th>proc_1</th>\n",
       "      <th>proc_10</th>\n",
       "      <th>proc_100</th>\n",
       "      <th>...</th>\n",
       "      <th>proc_91</th>\n",
       "      <th>proc_92</th>\n",
       "      <th>proc_93</th>\n",
       "      <th>proc_94</th>\n",
       "      <th>proc_95</th>\n",
       "      <th>proc_96</th>\n",
       "      <th>proc_97</th>\n",
       "      <th>proc_98</th>\n",
       "      <th>proc_99</th>\n",
       "      <th>KMEANS_5</th>\n",
       "    </tr>\n",
       "  </thead>\n",
       "  <tbody>\n",
       "    <tr>\n",
       "      <th>0</th>\n",
       "      <td>2</td>\n",
       "      <td>1</td>\n",
       "      <td>0</td>\n",
       "      <td>5</td>\n",
       "      <td>0</td>\n",
       "      <td>3</td>\n",
       "      <td>7619</td>\n",
       "      <td>0</td>\n",
       "      <td>0</td>\n",
       "      <td>0</td>\n",
       "      <td>...</td>\n",
       "      <td>0</td>\n",
       "      <td>0</td>\n",
       "      <td>0</td>\n",
       "      <td>0</td>\n",
       "      <td>0</td>\n",
       "      <td>0</td>\n",
       "      <td>0</td>\n",
       "      <td>0</td>\n",
       "      <td>0</td>\n",
       "      <td>2</td>\n",
       "    </tr>\n",
       "    <tr>\n",
       "      <th>1</th>\n",
       "      <td>8</td>\n",
       "      <td>4</td>\n",
       "      <td>0</td>\n",
       "      <td>5</td>\n",
       "      <td>0</td>\n",
       "      <td>3</td>\n",
       "      <td>19302</td>\n",
       "      <td>0</td>\n",
       "      <td>0</td>\n",
       "      <td>0</td>\n",
       "      <td>...</td>\n",
       "      <td>0</td>\n",
       "      <td>0</td>\n",
       "      <td>0</td>\n",
       "      <td>0</td>\n",
       "      <td>0</td>\n",
       "      <td>0</td>\n",
       "      <td>0</td>\n",
       "      <td>0</td>\n",
       "      <td>0</td>\n",
       "      <td>2</td>\n",
       "    </tr>\n",
       "    <tr>\n",
       "      <th>2</th>\n",
       "      <td>12</td>\n",
       "      <td>4</td>\n",
       "      <td>1</td>\n",
       "      <td>3</td>\n",
       "      <td>0</td>\n",
       "      <td>2</td>\n",
       "      <td>27143</td>\n",
       "      <td>0</td>\n",
       "      <td>0</td>\n",
       "      <td>0</td>\n",
       "      <td>...</td>\n",
       "      <td>0</td>\n",
       "      <td>0</td>\n",
       "      <td>0</td>\n",
       "      <td>0</td>\n",
       "      <td>0</td>\n",
       "      <td>0</td>\n",
       "      <td>0</td>\n",
       "      <td>0</td>\n",
       "      <td>0</td>\n",
       "      <td>2</td>\n",
       "    </tr>\n",
       "    <tr>\n",
       "      <th>3</th>\n",
       "      <td>101</td>\n",
       "      <td>2</td>\n",
       "      <td>1</td>\n",
       "      <td>1</td>\n",
       "      <td>0</td>\n",
       "      <td>3</td>\n",
       "      <td>191852</td>\n",
       "      <td>1</td>\n",
       "      <td>0</td>\n",
       "      <td>0</td>\n",
       "      <td>...</td>\n",
       "      <td>0</td>\n",
       "      <td>0</td>\n",
       "      <td>0</td>\n",
       "      <td>0</td>\n",
       "      <td>0</td>\n",
       "      <td>0</td>\n",
       "      <td>0</td>\n",
       "      <td>0</td>\n",
       "      <td>0</td>\n",
       "      <td>4</td>\n",
       "    </tr>\n",
       "    <tr>\n",
       "      <th>4</th>\n",
       "      <td>169</td>\n",
       "      <td>1</td>\n",
       "      <td>0</td>\n",
       "      <td>3</td>\n",
       "      <td>0</td>\n",
       "      <td>4</td>\n",
       "      <td>322803</td>\n",
       "      <td>0</td>\n",
       "      <td>0</td>\n",
       "      <td>0</td>\n",
       "      <td>...</td>\n",
       "      <td>0</td>\n",
       "      <td>0</td>\n",
       "      <td>0</td>\n",
       "      <td>0</td>\n",
       "      <td>0</td>\n",
       "      <td>0</td>\n",
       "      <td>0</td>\n",
       "      <td>0</td>\n",
       "      <td>0</td>\n",
       "      <td>2</td>\n",
       "    </tr>\n",
       "  </tbody>\n",
       "</table>\n",
       "<p>5 rows × 138 columns</p>\n",
       "</div>"
      ],
      "text/plain": [
       "   index  AGE_GROUP  GENDER_GROUP  INCOME_GROUP  REVIEW_IND  count      id  \\\n",
       "0      2          1             0             5           0      3    7619   \n",
       "1      8          4             0             5           0      3   19302   \n",
       "2     12          4             1             3           0      2   27143   \n",
       "3    101          2             1             1           0      3  191852   \n",
       "4    169          1             0             3           0      4  322803   \n",
       "\n",
       "   proc_1  proc_10  proc_100    ...     proc_91  proc_92  proc_93  proc_94  \\\n",
       "0       0        0         0    ...           0        0        0        0   \n",
       "1       0        0         0    ...           0        0        0        0   \n",
       "2       0        0         0    ...           0        0        0        0   \n",
       "3       1        0         0    ...           0        0        0        0   \n",
       "4       0        0         0    ...           0        0        0        0   \n",
       "\n",
       "   proc_95  proc_96  proc_97  proc_98  proc_99  KMEANS_5  \n",
       "0        0        0        0        0        0         2  \n",
       "1        0        0        0        0        0         2  \n",
       "2        0        0        0        0        0         2  \n",
       "3        0        0        0        0        0         4  \n",
       "4        0        0        0        0        0         2  \n",
       "\n",
       "[5 rows x 138 columns]"
      ]
     },
     "execution_count": 110,
     "metadata": {},
     "output_type": "execute_result"
    }
   ],
   "source": [
    "cluster_df_5.head()"
   ]
  },
  {
   "cell_type": "code",
   "execution_count": 111,
   "metadata": {
    "collapsed": true
   },
   "outputs": [],
   "source": [
    "cluster_to_audit = cluster_df_5[['id', 'REVIEW_IND', 'KMEANS_5']]"
   ]
  },
  {
   "attachments": {
    "image.png": {
     "image/png": "[encoded data removed]"
    }
   },
   "cell_type": "markdown",
   "metadata": {},
   "source": [
    "    We see the anomalous patients are getting grouped at Cluster 0 to the highest follwed by cluster 2\n",
    "\n",
    "   ![image.png](attachment:image.png)"
   ]
  },
  {
   "cell_type": "code",
   "execution_count": null,
   "metadata": {
    "collapsed": true
   },
   "outputs": [],
   "source": []
  }
 ],
 "metadata": {
  "kernelspec": {
   "display_name": "Python 2",
   "language": "python",
   "name": "python2"
  },
  "language_info": {
   "codemirror_mode": {
    "name": "ipython",
    "version": 2
   },
   "file_extension": ".py",
   "mimetype": "text/x-python",
   "name": "python",
   "nbconvert_exporter": "python",
   "pygments_lexer": "ipython2",
   "version": "2.7.14"
  }
 },
 "nbformat": 4,
 "nbformat_minor": 2
}
